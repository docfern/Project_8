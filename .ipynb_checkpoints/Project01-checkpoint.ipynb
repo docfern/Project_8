{
 "cells": [
  {
   "cell_type": "markdown",
   "metadata": {},
   "source": [
    "# Future Markets for PHP as a Microlender\n",
    "\n",
    "We will analyze the lending patterns in some of the poor countries and allow PHP coin to focus on countries that need help"
   ]
  },
  {
   "cell_type": "code",
   "execution_count": 56,
   "metadata": {},
   "outputs": [],
   "source": [
    "# initial imports\n",
    "import os\n",
    "import pandas as pd\n",
    "import matplotlib.pyplot as plt\n",
    "import panel as pn\n",
    "from panel.interact import interact\n",
    "\n",
    "pn.extension('plotly')\n",
    "\n",
    "import plotly.express as px\n",
    "import hvplot.pandas\n",
    "from pathlib import Path\n",
    "from dotenv import load_dotenv\n",
    "\n",
    "%matplotlib inline"
   ]
  },
  {
   "cell_type": "code",
   "execution_count": 57,
   "metadata": {},
   "outputs": [],
   "source": [
    "# Read the Mapbox API key\n",
    "load_dotenv()\n",
    "mapbox_token = os.getenv(\"MAPBOX_API_KEY\")"
   ]
  },
  {
   "cell_type": "markdown",
   "metadata": {},
   "source": [
    "# Load Data"
   ]
  },
  {
   "cell_type": "code",
   "execution_count": 58,
   "metadata": {},
   "outputs": [
    {
     "data": {
      "text/html": [
       "<div>\n",
       "<style scoped>\n",
       "    .dataframe tbody tr th:only-of-type {\n",
       "        vertical-align: middle;\n",
       "    }\n",
       "\n",
       "    .dataframe tbody tr th {\n",
       "        vertical-align: top;\n",
       "    }\n",
       "\n",
       "    .dataframe thead th {\n",
       "        text-align: right;\n",
       "    }\n",
       "</style>\n",
       "<table border=\"1\" class=\"dataframe\">\n",
       "  <thead>\n",
       "    <tr style=\"text-align: right;\">\n",
       "      <th></th>\n",
       "      <th>Series Name</th>\n",
       "      <th>Level</th>\n",
       "      <th>Level2</th>\n",
       "      <th>Country Name</th>\n",
       "      <th>Country Code</th>\n",
       "      <th>YR2015 [YR2015]</th>\n",
       "      <th>YR2016 [YR2016]</th>\n",
       "      <th>YR2017 [YR2017]</th>\n",
       "      <th>YR2018 [YR2018]</th>\n",
       "      <th>YR2019 [YR2019]</th>\n",
       "    </tr>\n",
       "    <tr>\n",
       "      <th>Series Code</th>\n",
       "      <th></th>\n",
       "      <th></th>\n",
       "      <th></th>\n",
       "      <th></th>\n",
       "      <th></th>\n",
       "      <th></th>\n",
       "      <th></th>\n",
       "      <th></th>\n",
       "      <th></th>\n",
       "      <th></th>\n",
       "    </tr>\n",
       "  </thead>\n",
       "  <tbody>\n",
       "    <tr>\n",
       "      <th>FA.MIX.AATB</th>\n",
       "      <td>Active agents / Branches (%)</td>\n",
       "      <td>Afghanistan</td>\n",
       "      <td>NaN</td>\n",
       "      <td>Afghanaid (102146)</td>\n",
       "      <td>102146.0</td>\n",
       "      <td>..</td>\n",
       "      <td>..</td>\n",
       "      <td>..</td>\n",
       "      <td>..</td>\n",
       "      <td>..</td>\n",
       "    </tr>\n",
       "    <tr>\n",
       "      <th>FA.MIX.AATB</th>\n",
       "      <td>Active agents / Branches (%)</td>\n",
       "      <td>Afghanistan</td>\n",
       "      <td>NaN</td>\n",
       "      <td>AFS (100008)</td>\n",
       "      <td>100008.0</td>\n",
       "      <td>..</td>\n",
       "      <td>..</td>\n",
       "      <td>..</td>\n",
       "      <td>..</td>\n",
       "      <td>..</td>\n",
       "    </tr>\n",
       "    <tr>\n",
       "      <th>FA.MIX.AATB</th>\n",
       "      <td>Active agents / Branches (%)</td>\n",
       "      <td>Afghanistan</td>\n",
       "      <td>NaN</td>\n",
       "      <td>AKF (AFG) (178209)</td>\n",
       "      <td>178209.0</td>\n",
       "      <td>..</td>\n",
       "      <td>..</td>\n",
       "      <td>..</td>\n",
       "      <td>..</td>\n",
       "      <td>..</td>\n",
       "    </tr>\n",
       "    <tr>\n",
       "      <th>FA.MIX.AATB</th>\n",
       "      <td>Active agents / Branches (%)</td>\n",
       "      <td>Afghanistan</td>\n",
       "      <td>NaN</td>\n",
       "      <td>AMFI (100178)</td>\n",
       "      <td>100178.0</td>\n",
       "      <td>..</td>\n",
       "      <td>..</td>\n",
       "      <td>..</td>\n",
       "      <td>..</td>\n",
       "      <td>..</td>\n",
       "    </tr>\n",
       "    <tr>\n",
       "      <th>FA.MIX.AATB</th>\n",
       "      <td>Active agents / Branches (%)</td>\n",
       "      <td>Afghanistan</td>\n",
       "      <td>NaN</td>\n",
       "      <td>ARFC (178210)</td>\n",
       "      <td>178210.0</td>\n",
       "      <td>..</td>\n",
       "      <td>..</td>\n",
       "      <td>..</td>\n",
       "      <td>..</td>\n",
       "      <td>..</td>\n",
       "    </tr>\n",
       "  </tbody>\n",
       "</table>\n",
       "</div>"
      ],
      "text/plain": [
       "                              Series Name        Level  Level2  \\\n",
       "Series Code                                                      \n",
       "FA.MIX.AATB  Active agents / Branches (%)  Afghanistan     NaN   \n",
       "FA.MIX.AATB  Active agents / Branches (%)  Afghanistan     NaN   \n",
       "FA.MIX.AATB  Active agents / Branches (%)  Afghanistan     NaN   \n",
       "FA.MIX.AATB  Active agents / Branches (%)  Afghanistan     NaN   \n",
       "FA.MIX.AATB  Active agents / Branches (%)  Afghanistan     NaN   \n",
       "\n",
       "                   Country Name  Country Code YR2015 [YR2015] YR2016 [YR2016]  \\\n",
       "Series Code                                                                     \n",
       "FA.MIX.AATB  Afghanaid (102146)      102146.0              ..              ..   \n",
       "FA.MIX.AATB        AFS (100008)      100008.0              ..              ..   \n",
       "FA.MIX.AATB  AKF (AFG) (178209)      178209.0              ..              ..   \n",
       "FA.MIX.AATB       AMFI (100178)      100178.0              ..              ..   \n",
       "FA.MIX.AATB       ARFC (178210)      178210.0              ..              ..   \n",
       "\n",
       "            YR2017 [YR2017] YR2018 [YR2018] YR2019 [YR2019]  \n",
       "Series Code                                                  \n",
       "FA.MIX.AATB              ..              ..              ..  \n",
       "FA.MIX.AATB              ..              ..              ..  \n",
       "FA.MIX.AATB              ..              ..              ..  \n",
       "FA.MIX.AATB              ..              ..              ..  \n",
       "FA.MIX.AATB              ..              ..              ..  "
      ]
     },
     "execution_count": 58,
     "metadata": {},
     "output_type": "execute_result"
    }
   ],
   "source": [
    "# Read the census data into a Pandas DataFrame\n",
    "\n",
    "file_path = Path(\"Data/Mix data worldwide.csv\")\n",
    "mix_data_all = pd.read_csv(file_path, index_col=\"Series Code\")\n",
    "mix_data_all.head()"
   ]
  },
  {
   "cell_type": "markdown",
   "metadata": {},
   "source": [
    "# Clean Data"
   ]
  },
  {
   "cell_type": "code",
   "execution_count": 59,
   "metadata": {},
   "outputs": [
    {
     "data": {
      "text/html": [
       "<div>\n",
       "<style scoped>\n",
       "    .dataframe tbody tr th:only-of-type {\n",
       "        vertical-align: middle;\n",
       "    }\n",
       "\n",
       "    .dataframe tbody tr th {\n",
       "        vertical-align: top;\n",
       "    }\n",
       "\n",
       "    .dataframe thead th {\n",
       "        text-align: right;\n",
       "    }\n",
       "</style>\n",
       "<table border=\"1\" class=\"dataframe\">\n",
       "  <thead>\n",
       "    <tr style=\"text-align: right;\">\n",
       "      <th></th>\n",
       "      <th>Series_Name</th>\n",
       "      <th>Country_Name</th>\n",
       "      <th>Borrower_Org</th>\n",
       "      <th>2015</th>\n",
       "      <th>2016</th>\n",
       "      <th>2017</th>\n",
       "      <th>2018</th>\n",
       "      <th>2019</th>\n",
       "    </tr>\n",
       "    <tr>\n",
       "      <th>Series Code</th>\n",
       "      <th></th>\n",
       "      <th></th>\n",
       "      <th></th>\n",
       "      <th></th>\n",
       "      <th></th>\n",
       "      <th></th>\n",
       "      <th></th>\n",
       "      <th></th>\n",
       "    </tr>\n",
       "  </thead>\n",
       "  <tbody>\n",
       "    <tr>\n",
       "      <th>FA.MIX.AATB</th>\n",
       "      <td>Active agents / Branches (%)</td>\n",
       "      <td>Afghanistan</td>\n",
       "      <td>Afghanaid (102146)</td>\n",
       "      <td>..</td>\n",
       "      <td>..</td>\n",
       "      <td>..</td>\n",
       "      <td>..</td>\n",
       "      <td>..</td>\n",
       "    </tr>\n",
       "    <tr>\n",
       "      <th>FA.MIX.AATB</th>\n",
       "      <td>Active agents / Branches (%)</td>\n",
       "      <td>Afghanistan</td>\n",
       "      <td>AFS (100008)</td>\n",
       "      <td>..</td>\n",
       "      <td>..</td>\n",
       "      <td>..</td>\n",
       "      <td>..</td>\n",
       "      <td>..</td>\n",
       "    </tr>\n",
       "    <tr>\n",
       "      <th>FA.MIX.AATB</th>\n",
       "      <td>Active agents / Branches (%)</td>\n",
       "      <td>Afghanistan</td>\n",
       "      <td>AKF (AFG) (178209)</td>\n",
       "      <td>..</td>\n",
       "      <td>..</td>\n",
       "      <td>..</td>\n",
       "      <td>..</td>\n",
       "      <td>..</td>\n",
       "    </tr>\n",
       "    <tr>\n",
       "      <th>FA.MIX.AATB</th>\n",
       "      <td>Active agents / Branches (%)</td>\n",
       "      <td>Afghanistan</td>\n",
       "      <td>AMFI (100178)</td>\n",
       "      <td>..</td>\n",
       "      <td>..</td>\n",
       "      <td>..</td>\n",
       "      <td>..</td>\n",
       "      <td>..</td>\n",
       "    </tr>\n",
       "    <tr>\n",
       "      <th>FA.MIX.AATB</th>\n",
       "      <td>Active agents / Branches (%)</td>\n",
       "      <td>Afghanistan</td>\n",
       "      <td>ARFC (178210)</td>\n",
       "      <td>..</td>\n",
       "      <td>..</td>\n",
       "      <td>..</td>\n",
       "      <td>..</td>\n",
       "      <td>..</td>\n",
       "    </tr>\n",
       "  </tbody>\n",
       "</table>\n",
       "</div>"
      ],
      "text/plain": [
       "                              Series_Name Country_Name        Borrower_Org  \\\n",
       "Series Code                                                                  \n",
       "FA.MIX.AATB  Active agents / Branches (%)  Afghanistan  Afghanaid (102146)   \n",
       "FA.MIX.AATB  Active agents / Branches (%)  Afghanistan        AFS (100008)   \n",
       "FA.MIX.AATB  Active agents / Branches (%)  Afghanistan  AKF (AFG) (178209)   \n",
       "FA.MIX.AATB  Active agents / Branches (%)  Afghanistan       AMFI (100178)   \n",
       "FA.MIX.AATB  Active agents / Branches (%)  Afghanistan       ARFC (178210)   \n",
       "\n",
       "            2015 2016 2017 2018 2019  \n",
       "Series Code                           \n",
       "FA.MIX.AATB   ..   ..   ..   ..   ..  \n",
       "FA.MIX.AATB   ..   ..   ..   ..   ..  \n",
       "FA.MIX.AATB   ..   ..   ..   ..   ..  \n",
       "FA.MIX.AATB   ..   ..   ..   ..   ..  \n",
       "FA.MIX.AATB   ..   ..   ..   ..   ..  "
      ]
     },
     "execution_count": 59,
     "metadata": {},
     "output_type": "execute_result"
    }
   ],
   "source": [
    "# Rename column names\n",
    "\n",
    "mix_data_all.rename(columns={\"Country Name\":\"Borrower_Org\", \n",
    "                             \"Series Name\":\"Series_Name\",\n",
    "                             \"Level\":\"Country_Name\",\n",
    "                             \"Country Code\":\"Org_Code\",\n",
    "                             \"YR2015 [YR2015]\":\"2015\",\n",
    "                             \"YR2016 [YR2016]\":\"2016\",\n",
    "                             \"YR2017 [YR2017]\":\"2017\",\n",
    "                             \"YR2018 [YR2018]\":\"2018\",\n",
    "                             \"YR2019 [YR2019]\":\"2019\"} , inplace=True)\n",
    "\n",
    "# Drop Level2 column if total count is equal to dataframe row count\n",
    "level2_NaN_count = mix_data_all['Level2'].isnull().sum()\n",
    "row_count_mix_data_all = len(mix_data_all.index)\n",
    "\n",
    "#type(row_count_mix_data)\n",
    "#print(f\"Rows in Mix Data: \", row_count_mix_data)\n",
    "#print(f\"Rows with Level2 as NaN : \", level2_NaN_count)\n",
    "\n",
    "if level2_NaN_count == row_count_mix_data_all:\n",
    "    mix_data_all.drop('Level2', axis=1, inplace=True)\n",
    "mix_data_all.drop('Org_Code', axis=1, inplace=True)\n",
    "mix_data_all.head()"
   ]
  },
  {
   "cell_type": "code",
   "execution_count": 60,
   "metadata": {},
   "outputs": [
    {
     "data": {
      "text/html": [
       "<div>\n",
       "<style scoped>\n",
       "    .dataframe tbody tr th:only-of-type {\n",
       "        vertical-align: middle;\n",
       "    }\n",
       "\n",
       "    .dataframe tbody tr th {\n",
       "        vertical-align: top;\n",
       "    }\n",
       "\n",
       "    .dataframe thead th {\n",
       "        text-align: right;\n",
       "    }\n",
       "</style>\n",
       "<table border=\"1\" class=\"dataframe\">\n",
       "  <thead>\n",
       "    <tr style=\"text-align: right;\">\n",
       "      <th></th>\n",
       "      <th>Series_Code</th>\n",
       "      <th>Series_Name</th>\n",
       "      <th>Country_Name</th>\n",
       "      <th>Borrower_Org</th>\n",
       "      <th>2015</th>\n",
       "      <th>2016</th>\n",
       "      <th>2017</th>\n",
       "      <th>2018</th>\n",
       "      <th>2019</th>\n",
       "    </tr>\n",
       "  </thead>\n",
       "  <tbody>\n",
       "    <tr>\n",
       "      <th>0</th>\n",
       "      <td>FA.MIX.AATB</td>\n",
       "      <td>Active agents / Branches (%)</td>\n",
       "      <td>Afghanistan</td>\n",
       "      <td>Afghanaid (102146)</td>\n",
       "      <td>..</td>\n",
       "      <td>..</td>\n",
       "      <td>..</td>\n",
       "      <td>..</td>\n",
       "      <td>..</td>\n",
       "    </tr>\n",
       "    <tr>\n",
       "      <th>1</th>\n",
       "      <td>FA.MIX.AATB</td>\n",
       "      <td>Active agents / Branches (%)</td>\n",
       "      <td>Afghanistan</td>\n",
       "      <td>AFS (100008)</td>\n",
       "      <td>..</td>\n",
       "      <td>..</td>\n",
       "      <td>..</td>\n",
       "      <td>..</td>\n",
       "      <td>..</td>\n",
       "    </tr>\n",
       "    <tr>\n",
       "      <th>2</th>\n",
       "      <td>FA.MIX.AATB</td>\n",
       "      <td>Active agents / Branches (%)</td>\n",
       "      <td>Afghanistan</td>\n",
       "      <td>AKF (AFG) (178209)</td>\n",
       "      <td>..</td>\n",
       "      <td>..</td>\n",
       "      <td>..</td>\n",
       "      <td>..</td>\n",
       "      <td>..</td>\n",
       "    </tr>\n",
       "    <tr>\n",
       "      <th>3</th>\n",
       "      <td>FA.MIX.AATB</td>\n",
       "      <td>Active agents / Branches (%)</td>\n",
       "      <td>Afghanistan</td>\n",
       "      <td>AMFI (100178)</td>\n",
       "      <td>..</td>\n",
       "      <td>..</td>\n",
       "      <td>..</td>\n",
       "      <td>..</td>\n",
       "      <td>..</td>\n",
       "    </tr>\n",
       "    <tr>\n",
       "      <th>4</th>\n",
       "      <td>FA.MIX.AATB</td>\n",
       "      <td>Active agents / Branches (%)</td>\n",
       "      <td>Afghanistan</td>\n",
       "      <td>ARFC (178210)</td>\n",
       "      <td>..</td>\n",
       "      <td>..</td>\n",
       "      <td>..</td>\n",
       "      <td>..</td>\n",
       "      <td>..</td>\n",
       "    </tr>\n",
       "  </tbody>\n",
       "</table>\n",
       "</div>"
      ],
      "text/plain": [
       "   Series_Code                   Series_Name Country_Name        Borrower_Org  \\\n",
       "0  FA.MIX.AATB  Active agents / Branches (%)  Afghanistan  Afghanaid (102146)   \n",
       "1  FA.MIX.AATB  Active agents / Branches (%)  Afghanistan        AFS (100008)   \n",
       "2  FA.MIX.AATB  Active agents / Branches (%)  Afghanistan  AKF (AFG) (178209)   \n",
       "3  FA.MIX.AATB  Active agents / Branches (%)  Afghanistan       AMFI (100178)   \n",
       "4  FA.MIX.AATB  Active agents / Branches (%)  Afghanistan       ARFC (178210)   \n",
       "\n",
       "  2015 2016 2017 2018 2019  \n",
       "0   ..   ..   ..   ..   ..  \n",
       "1   ..   ..   ..   ..   ..  \n",
       "2   ..   ..   ..   ..   ..  \n",
       "3   ..   ..   ..   ..   ..  \n",
       "4   ..   ..   ..   ..   ..  "
      ]
     },
     "execution_count": 60,
     "metadata": {},
     "output_type": "execute_result"
    }
   ],
   "source": [
    "mix_data_all.reset_index(inplace=True)\n",
    "mix_data_all.head()\n",
    "mix_data_all.rename(columns={\"Series Code\":\"Series_Code\"} , inplace=True)\n",
    "mix_data_all.head()"
   ]
  },
  {
   "cell_type": "code",
   "execution_count": 61,
   "metadata": {},
   "outputs": [
    {
     "data": {
      "text/plain": [
       "array(['Afghanistan', 'Albania', 'Angola', 'Costa Rica', 'Ecuador',\n",
       "       'Ethiopia', 'Ghana', 'Haiti', 'Kenya', nan], dtype=object)"
      ]
     },
     "execution_count": 61,
     "metadata": {},
     "output_type": "execute_result"
    }
   ],
   "source": [
    "mix_data_all.Country_Name.unique()"
   ]
  },
  {
   "cell_type": "code",
   "execution_count": 62,
   "metadata": {},
   "outputs": [
    {
     "data": {
      "text/html": [
       "<div>\n",
       "<style scoped>\n",
       "    .dataframe tbody tr th:only-of-type {\n",
       "        vertical-align: middle;\n",
       "    }\n",
       "\n",
       "    .dataframe tbody tr th {\n",
       "        vertical-align: top;\n",
       "    }\n",
       "\n",
       "    .dataframe thead th {\n",
       "        text-align: right;\n",
       "    }\n",
       "</style>\n",
       "<table border=\"1\" class=\"dataframe\">\n",
       "  <thead>\n",
       "    <tr style=\"text-align: right;\">\n",
       "      <th></th>\n",
       "      <th>Series_Code</th>\n",
       "      <th>Series_Name</th>\n",
       "      <th>Country_Name</th>\n",
       "      <th>Borrower_Org</th>\n",
       "      <th>2015</th>\n",
       "      <th>2016</th>\n",
       "      <th>2017</th>\n",
       "      <th>2018</th>\n",
       "      <th>2019</th>\n",
       "    </tr>\n",
       "  </thead>\n",
       "  <tbody>\n",
       "    <tr>\n",
       "      <th>1515</th>\n",
       "      <td>FA.MIX.ADEX</td>\n",
       "      <td>Administrative expense</td>\n",
       "      <td>Afghanistan</td>\n",
       "      <td>Afghanaid (102146)</td>\n",
       "      <td>..</td>\n",
       "      <td>..</td>\n",
       "      <td>..</td>\n",
       "      <td>..</td>\n",
       "      <td>..</td>\n",
       "    </tr>\n",
       "    <tr>\n",
       "      <th>1516</th>\n",
       "      <td>FA.MIX.ADEX</td>\n",
       "      <td>Administrative expense</td>\n",
       "      <td>Afghanistan</td>\n",
       "      <td>AFS (100008)</td>\n",
       "      <td>..</td>\n",
       "      <td>..</td>\n",
       "      <td>..</td>\n",
       "      <td>..</td>\n",
       "      <td>..</td>\n",
       "    </tr>\n",
       "    <tr>\n",
       "      <th>1517</th>\n",
       "      <td>FA.MIX.ADEX</td>\n",
       "      <td>Administrative expense</td>\n",
       "      <td>Afghanistan</td>\n",
       "      <td>AKF (AFG) (178209)</td>\n",
       "      <td>..</td>\n",
       "      <td>..</td>\n",
       "      <td>..</td>\n",
       "      <td>..</td>\n",
       "      <td>..</td>\n",
       "    </tr>\n",
       "    <tr>\n",
       "      <th>1518</th>\n",
       "      <td>FA.MIX.ADEX</td>\n",
       "      <td>Administrative expense</td>\n",
       "      <td>Afghanistan</td>\n",
       "      <td>AMFI (100178)</td>\n",
       "      <td>..</td>\n",
       "      <td>..</td>\n",
       "      <td>..</td>\n",
       "      <td>..</td>\n",
       "      <td>..</td>\n",
       "    </tr>\n",
       "    <tr>\n",
       "      <th>1519</th>\n",
       "      <td>FA.MIX.ADEX</td>\n",
       "      <td>Administrative expense</td>\n",
       "      <td>Afghanistan</td>\n",
       "      <td>ARFC (178210)</td>\n",
       "      <td>..</td>\n",
       "      <td>238878</td>\n",
       "      <td>325322</td>\n",
       "      <td>807210</td>\n",
       "      <td>..</td>\n",
       "    </tr>\n",
       "  </tbody>\n",
       "</table>\n",
       "</div>"
      ],
      "text/plain": [
       "      Series_Code             Series_Name Country_Name        Borrower_Org  \\\n",
       "1515  FA.MIX.ADEX  Administrative expense  Afghanistan  Afghanaid (102146)   \n",
       "1516  FA.MIX.ADEX  Administrative expense  Afghanistan        AFS (100008)   \n",
       "1517  FA.MIX.ADEX  Administrative expense  Afghanistan  AKF (AFG) (178209)   \n",
       "1518  FA.MIX.ADEX  Administrative expense  Afghanistan       AMFI (100178)   \n",
       "1519  FA.MIX.ADEX  Administrative expense  Afghanistan       ARFC (178210)   \n",
       "\n",
       "     2015    2016    2017    2018 2019  \n",
       "1515   ..      ..      ..      ..   ..  \n",
       "1516   ..      ..      ..      ..   ..  \n",
       "1517   ..      ..      ..      ..   ..  \n",
       "1518   ..      ..      ..      ..   ..  \n",
       "1519   ..  238878  325322  807210   ..  "
      ]
     },
     "execution_count": 62,
     "metadata": {},
     "output_type": "execute_result"
    }
   ],
   "source": [
    "# Get active borrowers data in dataframe\n",
    "mix_data_actb = mix_data_all[mix_data_all[\"Series_Code\"] == \"FA.MIX.ACTB\"]\n",
    "mix_data_actb.head()\n",
    "\n",
    "# Get administrative expenses data in dataframe\n",
    "mix_data_adexp = mix_data_all[mix_data_all[\"Series_Code\"] == \"FA.MIX.ADEX\"]\n",
    "mix_data_adexp.head()"
   ]
  },
  {
   "cell_type": "code",
   "execution_count": 63,
   "metadata": {},
   "outputs": [
    {
     "data": {
      "text/html": [
       "<div>\n",
       "<style scoped>\n",
       "    .dataframe tbody tr th:only-of-type {\n",
       "        vertical-align: middle;\n",
       "    }\n",
       "\n",
       "    .dataframe tbody tr th {\n",
       "        vertical-align: top;\n",
       "    }\n",
       "\n",
       "    .dataframe thead th {\n",
       "        text-align: right;\n",
       "    }\n",
       "</style>\n",
       "<table border=\"1\" class=\"dataframe\">\n",
       "  <thead>\n",
       "    <tr style=\"text-align: right;\">\n",
       "      <th></th>\n",
       "      <th>Series_Code</th>\n",
       "      <th>Series_Name</th>\n",
       "      <th>Country_Name</th>\n",
       "      <th>Borrower_Org</th>\n",
       "      <th>2015</th>\n",
       "      <th>2016</th>\n",
       "      <th>2017</th>\n",
       "      <th>2018</th>\n",
       "      <th>2019</th>\n",
       "    </tr>\n",
       "  </thead>\n",
       "  <tbody>\n",
       "    <tr>\n",
       "      <th>23634</th>\n",
       "      <td>FA.MIX.LOAN.RU</td>\n",
       "      <td>Gross Loan Portfolio, Location, Rural</td>\n",
       "      <td>Afghanistan</td>\n",
       "      <td>Afghanaid (102146)</td>\n",
       "      <td>..</td>\n",
       "      <td>..</td>\n",
       "      <td>..</td>\n",
       "      <td>..</td>\n",
       "      <td>..</td>\n",
       "    </tr>\n",
       "    <tr>\n",
       "      <th>23635</th>\n",
       "      <td>FA.MIX.LOAN.RU</td>\n",
       "      <td>Gross Loan Portfolio, Location, Rural</td>\n",
       "      <td>Afghanistan</td>\n",
       "      <td>AFS (100008)</td>\n",
       "      <td>..</td>\n",
       "      <td>..</td>\n",
       "      <td>..</td>\n",
       "      <td>..</td>\n",
       "      <td>..</td>\n",
       "    </tr>\n",
       "    <tr>\n",
       "      <th>23636</th>\n",
       "      <td>FA.MIX.LOAN.RU</td>\n",
       "      <td>Gross Loan Portfolio, Location, Rural</td>\n",
       "      <td>Afghanistan</td>\n",
       "      <td>AKF (AFG) (178209)</td>\n",
       "      <td>..</td>\n",
       "      <td>2644282</td>\n",
       "      <td>653267</td>\n",
       "      <td>325160</td>\n",
       "      <td>..</td>\n",
       "    </tr>\n",
       "    <tr>\n",
       "      <th>23637</th>\n",
       "      <td>FA.MIX.LOAN.RU</td>\n",
       "      <td>Gross Loan Portfolio, Location, Rural</td>\n",
       "      <td>Afghanistan</td>\n",
       "      <td>AMFI (100178)</td>\n",
       "      <td>..</td>\n",
       "      <td>..</td>\n",
       "      <td>..</td>\n",
       "      <td>..</td>\n",
       "      <td>..</td>\n",
       "    </tr>\n",
       "    <tr>\n",
       "      <th>23638</th>\n",
       "      <td>FA.MIX.LOAN.RU</td>\n",
       "      <td>Gross Loan Portfolio, Location, Rural</td>\n",
       "      <td>Afghanistan</td>\n",
       "      <td>ARFC (178210)</td>\n",
       "      <td>..</td>\n",
       "      <td>..</td>\n",
       "      <td>..</td>\n",
       "      <td>..</td>\n",
       "      <td>..</td>\n",
       "    </tr>\n",
       "  </tbody>\n",
       "</table>\n",
       "</div>"
      ],
      "text/plain": [
       "          Series_Code                            Series_Name Country_Name  \\\n",
       "23634  FA.MIX.LOAN.RU  Gross Loan Portfolio, Location, Rural  Afghanistan   \n",
       "23635  FA.MIX.LOAN.RU  Gross Loan Portfolio, Location, Rural  Afghanistan   \n",
       "23636  FA.MIX.LOAN.RU  Gross Loan Portfolio, Location, Rural  Afghanistan   \n",
       "23637  FA.MIX.LOAN.RU  Gross Loan Portfolio, Location, Rural  Afghanistan   \n",
       "23638  FA.MIX.LOAN.RU  Gross Loan Portfolio, Location, Rural  Afghanistan   \n",
       "\n",
       "             Borrower_Org 2015     2016    2017    2018 2019  \n",
       "23634  Afghanaid (102146)   ..       ..      ..      ..   ..  \n",
       "23635        AFS (100008)   ..       ..      ..      ..   ..  \n",
       "23636  AKF (AFG) (178209)   ..  2644282  653267  325160   ..  \n",
       "23637       AMFI (100178)   ..       ..      ..      ..   ..  \n",
       "23638       ARFC (178210)   ..       ..      ..      ..   ..  "
      ]
     },
     "execution_count": 63,
     "metadata": {},
     "output_type": "execute_result"
    }
   ],
   "source": [
    "# Get urban rural loan allocation\n",
    "mix_data_ruur = mix_data_all[mix_data_all[\"Series_Code\"] == \"FA.MIX.LOAN.RU\"]\n",
    "mix_data_ruur.head()\n",
    "\n",
    "mix_data_lnur = mix_data_all[mix_data_all[\"Series_Code\"] == \"FA.MIX.LOAN.UR\"]\n",
    "mix_data_lnur.head()\n",
    "\n",
    "mix_data_ruur = mix_data_ruur.append(mix_data_lnur)\n",
    "mix_data_ruur.head()"
   ]
  },
  {
   "cell_type": "code",
   "execution_count": 64,
   "metadata": {},
   "outputs": [
    {
     "name": "stderr",
     "output_type": "stream",
     "text": [
      "C:\\Users\\deepa\\anaconda3\\envs\\pyvizenv\\lib\\site-packages\\pandas\\core\\frame.py:3391: SettingWithCopyWarning:\n",
      "\n",
      "\n",
      "A value is trying to be set on a copy of a slice from a DataFrame.\n",
      "Try using .loc[row_indexer,col_indexer] = value instead\n",
      "\n",
      "See the caveats in the documentation: http://pandas.pydata.org/pandas-docs/stable/indexing.html#indexing-view-versus-copy\n",
      "\n"
     ]
    },
    {
     "data": {
      "text/html": [
       "<div>\n",
       "<style scoped>\n",
       "    .dataframe tbody tr th:only-of-type {\n",
       "        vertical-align: middle;\n",
       "    }\n",
       "\n",
       "    .dataframe tbody tr th {\n",
       "        vertical-align: top;\n",
       "    }\n",
       "\n",
       "    .dataframe thead th {\n",
       "        text-align: right;\n",
       "    }\n",
       "</style>\n",
       "<table border=\"1\" class=\"dataframe\">\n",
       "  <thead>\n",
       "    <tr style=\"text-align: right;\">\n",
       "      <th></th>\n",
       "      <th>Country_Name</th>\n",
       "      <th>2015</th>\n",
       "      <th>2016</th>\n",
       "      <th>2017</th>\n",
       "      <th>2018</th>\n",
       "      <th>2019</th>\n",
       "    </tr>\n",
       "  </thead>\n",
       "  <tbody>\n",
       "    <tr>\n",
       "      <th>0</th>\n",
       "      <td>Afghanistan</td>\n",
       "      <td>141401.0</td>\n",
       "      <td>143299.0</td>\n",
       "      <td>169333.0</td>\n",
       "      <td>153572.0</td>\n",
       "      <td>0.0</td>\n",
       "    </tr>\n",
       "    <tr>\n",
       "      <th>1</th>\n",
       "      <td>Albania</td>\n",
       "      <td>31184.0</td>\n",
       "      <td>0.0</td>\n",
       "      <td>0.0</td>\n",
       "      <td>0.0</td>\n",
       "      <td>0.0</td>\n",
       "    </tr>\n",
       "    <tr>\n",
       "      <th>2</th>\n",
       "      <td>Angola</td>\n",
       "      <td>21919.0</td>\n",
       "      <td>22051.0</td>\n",
       "      <td>0.0</td>\n",
       "      <td>0.0</td>\n",
       "      <td>0.0</td>\n",
       "    </tr>\n",
       "    <tr>\n",
       "      <th>3</th>\n",
       "      <td>Costa Rica</td>\n",
       "      <td>25749.0</td>\n",
       "      <td>8248.0</td>\n",
       "      <td>0.0</td>\n",
       "      <td>17347.0</td>\n",
       "      <td>0.0</td>\n",
       "    </tr>\n",
       "    <tr>\n",
       "      <th>4</th>\n",
       "      <td>Ecuador</td>\n",
       "      <td>1588138.0</td>\n",
       "      <td>1376606.0</td>\n",
       "      <td>1315537.0</td>\n",
       "      <td>1356194.0</td>\n",
       "      <td>0.0</td>\n",
       "    </tr>\n",
       "    <tr>\n",
       "      <th>5</th>\n",
       "      <td>Ethiopia</td>\n",
       "      <td>76373.0</td>\n",
       "      <td>174641.0</td>\n",
       "      <td>169351.0</td>\n",
       "      <td>63825.0</td>\n",
       "      <td>0.0</td>\n",
       "    </tr>\n",
       "    <tr>\n",
       "      <th>6</th>\n",
       "      <td>Ghana</td>\n",
       "      <td>283353.0</td>\n",
       "      <td>275459.0</td>\n",
       "      <td>277277.0</td>\n",
       "      <td>220574.0</td>\n",
       "      <td>0.0</td>\n",
       "    </tr>\n",
       "    <tr>\n",
       "      <th>7</th>\n",
       "      <td>Haiti</td>\n",
       "      <td>167683.0</td>\n",
       "      <td>160835.0</td>\n",
       "      <td>172825.0</td>\n",
       "      <td>174832.0</td>\n",
       "      <td>0.0</td>\n",
       "    </tr>\n",
       "    <tr>\n",
       "      <th>8</th>\n",
       "      <td>Kenya</td>\n",
       "      <td>879125.0</td>\n",
       "      <td>1011370.0</td>\n",
       "      <td>928817.0</td>\n",
       "      <td>444238.0</td>\n",
       "      <td>103557.0</td>\n",
       "    </tr>\n",
       "  </tbody>\n",
       "</table>\n",
       "</div>"
      ],
      "text/plain": [
       "  Country_Name       2015       2016       2017       2018      2019\n",
       "0  Afghanistan   141401.0   143299.0   169333.0   153572.0       0.0\n",
       "1      Albania    31184.0        0.0        0.0        0.0       0.0\n",
       "2       Angola    21919.0    22051.0        0.0        0.0       0.0\n",
       "3   Costa Rica    25749.0     8248.0        0.0    17347.0       0.0\n",
       "4      Ecuador  1588138.0  1376606.0  1315537.0  1356194.0       0.0\n",
       "5     Ethiopia    76373.0   174641.0   169351.0    63825.0       0.0\n",
       "6        Ghana   283353.0   275459.0   277277.0   220574.0       0.0\n",
       "7        Haiti   167683.0   160835.0   172825.0   174832.0       0.0\n",
       "8        Kenya   879125.0  1011370.0   928817.0   444238.0  103557.0"
      ]
     },
     "execution_count": 64,
     "metadata": {},
     "output_type": "execute_result"
    }
   ],
   "source": [
    "# Convert years columns to numeric and group by country name for active borrowers only \n",
    "\n",
    "cols = ['2015', '2016', '2017', '2018', '2019']\n",
    "mix_data_actb[cols] = mix_data_actb[cols].apply(pd.to_numeric, errors='coerce')\n",
    "mix_data_actb\n",
    "\n",
    "actb_country = mix_data_actb.groupby('Country_Name')[cols].sum().reset_index()\n",
    "actb_country"
   ]
  },
  {
   "cell_type": "code",
   "execution_count": 65,
   "metadata": {},
   "outputs": [
    {
     "data": {
      "text/html": [
       "<div>\n",
       "<style scoped>\n",
       "    .dataframe tbody tr th:only-of-type {\n",
       "        vertical-align: middle;\n",
       "    }\n",
       "\n",
       "    .dataframe tbody tr th {\n",
       "        vertical-align: top;\n",
       "    }\n",
       "\n",
       "    .dataframe thead th {\n",
       "        text-align: right;\n",
       "    }\n",
       "</style>\n",
       "<table border=\"1\" class=\"dataframe\">\n",
       "  <thead>\n",
       "    <tr style=\"text-align: right;\">\n",
       "      <th></th>\n",
       "      <th>Country_Name</th>\n",
       "      <th>2015</th>\n",
       "      <th>2016</th>\n",
       "      <th>2017</th>\n",
       "      <th>2018</th>\n",
       "      <th>2019</th>\n",
       "    </tr>\n",
       "  </thead>\n",
       "  <tbody>\n",
       "    <tr>\n",
       "      <th>0</th>\n",
       "      <td>Afghanistan</td>\n",
       "      <td>10623149.0</td>\n",
       "      <td>9169972.0</td>\n",
       "      <td>14977966.0</td>\n",
       "      <td>13566704.0</td>\n",
       "      <td>0.0</td>\n",
       "    </tr>\n",
       "    <tr>\n",
       "      <th>1</th>\n",
       "      <td>Albania</td>\n",
       "      <td>2210806.0</td>\n",
       "      <td>0.0</td>\n",
       "      <td>0.0</td>\n",
       "      <td>0.0</td>\n",
       "      <td>0.0</td>\n",
       "    </tr>\n",
       "    <tr>\n",
       "      <th>2</th>\n",
       "      <td>Angola</td>\n",
       "      <td>2382922.0</td>\n",
       "      <td>2289407.0</td>\n",
       "      <td>0.0</td>\n",
       "      <td>0.0</td>\n",
       "      <td>0.0</td>\n",
       "    </tr>\n",
       "    <tr>\n",
       "      <th>3</th>\n",
       "      <td>Costa Rica</td>\n",
       "      <td>3154118.0</td>\n",
       "      <td>358195.0</td>\n",
       "      <td>265752.0</td>\n",
       "      <td>189356.0</td>\n",
       "      <td>0.0</td>\n",
       "    </tr>\n",
       "    <tr>\n",
       "      <th>4</th>\n",
       "      <td>Ecuador</td>\n",
       "      <td>173553111.0</td>\n",
       "      <td>157781675.0</td>\n",
       "      <td>167696930.0</td>\n",
       "      <td>203265255.0</td>\n",
       "      <td>0.0</td>\n",
       "    </tr>\n",
       "    <tr>\n",
       "      <th>5</th>\n",
       "      <td>Ethiopia</td>\n",
       "      <td>419930.0</td>\n",
       "      <td>1117367.0</td>\n",
       "      <td>1218179.0</td>\n",
       "      <td>531309.0</td>\n",
       "      <td>0.0</td>\n",
       "    </tr>\n",
       "    <tr>\n",
       "      <th>6</th>\n",
       "      <td>Ghana</td>\n",
       "      <td>66241659.0</td>\n",
       "      <td>55891544.0</td>\n",
       "      <td>58418202.0</td>\n",
       "      <td>53199578.0</td>\n",
       "      <td>0.0</td>\n",
       "    </tr>\n",
       "    <tr>\n",
       "      <th>7</th>\n",
       "      <td>Haiti</td>\n",
       "      <td>10826833.0</td>\n",
       "      <td>7953471.0</td>\n",
       "      <td>8726409.0</td>\n",
       "      <td>8500924.0</td>\n",
       "      <td>0.0</td>\n",
       "    </tr>\n",
       "    <tr>\n",
       "      <th>8</th>\n",
       "      <td>Kenya</td>\n",
       "      <td>69606204.0</td>\n",
       "      <td>202428582.0</td>\n",
       "      <td>193115764.0</td>\n",
       "      <td>80810274.0</td>\n",
       "      <td>381489.0</td>\n",
       "    </tr>\n",
       "  </tbody>\n",
       "</table>\n",
       "</div>"
      ],
      "text/plain": [
       "  Country_Name         2015         2016         2017         2018      2019\n",
       "0  Afghanistan   10623149.0    9169972.0   14977966.0   13566704.0       0.0\n",
       "1      Albania    2210806.0          0.0          0.0          0.0       0.0\n",
       "2       Angola    2382922.0    2289407.0          0.0          0.0       0.0\n",
       "3   Costa Rica    3154118.0     358195.0     265752.0     189356.0       0.0\n",
       "4      Ecuador  173553111.0  157781675.0  167696930.0  203265255.0       0.0\n",
       "5     Ethiopia     419930.0    1117367.0    1218179.0     531309.0       0.0\n",
       "6        Ghana   66241659.0   55891544.0   58418202.0   53199578.0       0.0\n",
       "7        Haiti   10826833.0    7953471.0    8726409.0    8500924.0       0.0\n",
       "8        Kenya   69606204.0  202428582.0  193115764.0   80810274.0  381489.0"
      ]
     },
     "execution_count": 65,
     "metadata": {},
     "output_type": "execute_result"
    }
   ],
   "source": [
    "# Convert years columns to numeric and group by country name for Admin expense\n",
    "\n",
    "cols = ['2015', '2016', '2017', '2018', '2019']\n",
    "mix_data_adexp[cols] = mix_data_adexp[cols].apply(pd.to_numeric, errors='coerce')\n",
    "mix_data_adexp\n",
    "\n",
    "adexp_country = mix_data_adexp.groupby('Country_Name')[cols].sum().reset_index()\n",
    "adexp_country"
   ]
  },
  {
   "cell_type": "code",
   "execution_count": 66,
   "metadata": {},
   "outputs": [
    {
     "data": {
      "text/html": [
       "<div>\n",
       "<style scoped>\n",
       "    .dataframe tbody tr th:only-of-type {\n",
       "        vertical-align: middle;\n",
       "    }\n",
       "\n",
       "    .dataframe tbody tr th {\n",
       "        vertical-align: top;\n",
       "    }\n",
       "\n",
       "    .dataframe thead th {\n",
       "        text-align: right;\n",
       "    }\n",
       "</style>\n",
       "<table border=\"1\" class=\"dataframe\">\n",
       "  <thead>\n",
       "    <tr style=\"text-align: right;\">\n",
       "      <th></th>\n",
       "      <th>Country_Name</th>\n",
       "      <th>Series_Code</th>\n",
       "      <th>2015</th>\n",
       "      <th>2016</th>\n",
       "      <th>2017</th>\n",
       "      <th>2018</th>\n",
       "      <th>2019</th>\n",
       "    </tr>\n",
       "  </thead>\n",
       "  <tbody>\n",
       "    <tr>\n",
       "      <th>0</th>\n",
       "      <td>Afghanistan</td>\n",
       "      <td>FA.MIX.LOAN.RU</td>\n",
       "      <td>2.718019e+07</td>\n",
       "      <td>3.430138e+07</td>\n",
       "      <td>2.804010e+07</td>\n",
       "      <td>3.285312e+07</td>\n",
       "      <td>0.0</td>\n",
       "    </tr>\n",
       "    <tr>\n",
       "      <th>1</th>\n",
       "      <td>Afghanistan</td>\n",
       "      <td>FA.MIX.LOAN.UR</td>\n",
       "      <td>8.589194e+07</td>\n",
       "      <td>1.056666e+08</td>\n",
       "      <td>1.130719e+08</td>\n",
       "      <td>1.069057e+08</td>\n",
       "      <td>0.0</td>\n",
       "    </tr>\n",
       "    <tr>\n",
       "      <th>2</th>\n",
       "      <td>Albania</td>\n",
       "      <td>FA.MIX.LOAN.RU</td>\n",
       "      <td>7.947954e+06</td>\n",
       "      <td>0.000000e+00</td>\n",
       "      <td>0.000000e+00</td>\n",
       "      <td>0.000000e+00</td>\n",
       "      <td>0.0</td>\n",
       "    </tr>\n",
       "    <tr>\n",
       "      <th>3</th>\n",
       "      <td>Albania</td>\n",
       "      <td>FA.MIX.LOAN.UR</td>\n",
       "      <td>4.460182e+07</td>\n",
       "      <td>0.000000e+00</td>\n",
       "      <td>0.000000e+00</td>\n",
       "      <td>0.000000e+00</td>\n",
       "      <td>0.0</td>\n",
       "    </tr>\n",
       "    <tr>\n",
       "      <th>4</th>\n",
       "      <td>Angola</td>\n",
       "      <td>FA.MIX.LOAN.RU</td>\n",
       "      <td>2.564016e+06</td>\n",
       "      <td>0.000000e+00</td>\n",
       "      <td>0.000000e+00</td>\n",
       "      <td>0.000000e+00</td>\n",
       "      <td>0.0</td>\n",
       "    </tr>\n",
       "    <tr>\n",
       "      <th>5</th>\n",
       "      <td>Angola</td>\n",
       "      <td>FA.MIX.LOAN.UR</td>\n",
       "      <td>1.217171e+07</td>\n",
       "      <td>0.000000e+00</td>\n",
       "      <td>0.000000e+00</td>\n",
       "      <td>0.000000e+00</td>\n",
       "      <td>0.0</td>\n",
       "    </tr>\n",
       "    <tr>\n",
       "      <th>6</th>\n",
       "      <td>Costa Rica</td>\n",
       "      <td>FA.MIX.LOAN.RU</td>\n",
       "      <td>3.334298e+07</td>\n",
       "      <td>3.362214e+06</td>\n",
       "      <td>2.838044e+07</td>\n",
       "      <td>2.674398e+07</td>\n",
       "      <td>0.0</td>\n",
       "    </tr>\n",
       "    <tr>\n",
       "      <th>7</th>\n",
       "      <td>Costa Rica</td>\n",
       "      <td>FA.MIX.LOAN.UR</td>\n",
       "      <td>3.294496e+07</td>\n",
       "      <td>0.000000e+00</td>\n",
       "      <td>1.441954e+07</td>\n",
       "      <td>1.210455e+07</td>\n",
       "      <td>0.0</td>\n",
       "    </tr>\n",
       "    <tr>\n",
       "      <th>8</th>\n",
       "      <td>Ecuador</td>\n",
       "      <td>FA.MIX.LOAN.RU</td>\n",
       "      <td>1.144997e+09</td>\n",
       "      <td>1.270396e+09</td>\n",
       "      <td>1.437765e+09</td>\n",
       "      <td>1.684718e+09</td>\n",
       "      <td>0.0</td>\n",
       "    </tr>\n",
       "    <tr>\n",
       "      <th>9</th>\n",
       "      <td>Ecuador</td>\n",
       "      <td>FA.MIX.LOAN.UR</td>\n",
       "      <td>2.257853e+09</td>\n",
       "      <td>3.350961e+09</td>\n",
       "      <td>3.966561e+09</td>\n",
       "      <td>4.627049e+09</td>\n",
       "      <td>0.0</td>\n",
       "    </tr>\n",
       "    <tr>\n",
       "      <th>10</th>\n",
       "      <td>Ethiopia</td>\n",
       "      <td>FA.MIX.LOAN.RU</td>\n",
       "      <td>8.225334e+06</td>\n",
       "      <td>2.001261e+07</td>\n",
       "      <td>2.296229e+07</td>\n",
       "      <td>9.127657e+06</td>\n",
       "      <td>0.0</td>\n",
       "    </tr>\n",
       "    <tr>\n",
       "      <th>11</th>\n",
       "      <td>Ethiopia</td>\n",
       "      <td>FA.MIX.LOAN.UR</td>\n",
       "      <td>4.039382e+06</td>\n",
       "      <td>1.059612e+07</td>\n",
       "      <td>1.214343e+07</td>\n",
       "      <td>4.741015e+06</td>\n",
       "      <td>0.0</td>\n",
       "    </tr>\n",
       "    <tr>\n",
       "      <th>12</th>\n",
       "      <td>Ghana</td>\n",
       "      <td>FA.MIX.LOAN.RU</td>\n",
       "      <td>2.328637e+07</td>\n",
       "      <td>1.610804e+07</td>\n",
       "      <td>1.317301e+07</td>\n",
       "      <td>2.572037e+07</td>\n",
       "      <td>0.0</td>\n",
       "    </tr>\n",
       "    <tr>\n",
       "      <th>13</th>\n",
       "      <td>Ghana</td>\n",
       "      <td>FA.MIX.LOAN.UR</td>\n",
       "      <td>3.959584e+07</td>\n",
       "      <td>4.328248e+07</td>\n",
       "      <td>3.185227e+07</td>\n",
       "      <td>3.909489e+07</td>\n",
       "      <td>0.0</td>\n",
       "    </tr>\n",
       "    <tr>\n",
       "      <th>14</th>\n",
       "      <td>Haiti</td>\n",
       "      <td>FA.MIX.LOAN.RU</td>\n",
       "      <td>3.183088e+07</td>\n",
       "      <td>2.376313e+07</td>\n",
       "      <td>3.689044e+07</td>\n",
       "      <td>3.161636e+07</td>\n",
       "      <td>0.0</td>\n",
       "    </tr>\n",
       "    <tr>\n",
       "      <th>15</th>\n",
       "      <td>Haiti</td>\n",
       "      <td>FA.MIX.LOAN.UR</td>\n",
       "      <td>3.359147e+07</td>\n",
       "      <td>2.848958e+07</td>\n",
       "      <td>5.235723e+07</td>\n",
       "      <td>3.045356e+07</td>\n",
       "      <td>0.0</td>\n",
       "    </tr>\n",
       "    <tr>\n",
       "      <th>16</th>\n",
       "      <td>Kenya</td>\n",
       "      <td>FA.MIX.LOAN.RU</td>\n",
       "      <td>6.384746e+07</td>\n",
       "      <td>2.735522e+08</td>\n",
       "      <td>2.258597e+08</td>\n",
       "      <td>2.389510e+08</td>\n",
       "      <td>0.0</td>\n",
       "    </tr>\n",
       "    <tr>\n",
       "      <th>17</th>\n",
       "      <td>Kenya</td>\n",
       "      <td>FA.MIX.LOAN.UR</td>\n",
       "      <td>1.068051e+08</td>\n",
       "      <td>1.928243e+08</td>\n",
       "      <td>1.559779e+08</td>\n",
       "      <td>5.119318e+07</td>\n",
       "      <td>0.0</td>\n",
       "    </tr>\n",
       "  </tbody>\n",
       "</table>\n",
       "</div>"
      ],
      "text/plain": [
       "   Country_Name     Series_Code          2015          2016          2017  \\\n",
       "0   Afghanistan  FA.MIX.LOAN.RU  2.718019e+07  3.430138e+07  2.804010e+07   \n",
       "1   Afghanistan  FA.MIX.LOAN.UR  8.589194e+07  1.056666e+08  1.130719e+08   \n",
       "2       Albania  FA.MIX.LOAN.RU  7.947954e+06  0.000000e+00  0.000000e+00   \n",
       "3       Albania  FA.MIX.LOAN.UR  4.460182e+07  0.000000e+00  0.000000e+00   \n",
       "4        Angola  FA.MIX.LOAN.RU  2.564016e+06  0.000000e+00  0.000000e+00   \n",
       "5        Angola  FA.MIX.LOAN.UR  1.217171e+07  0.000000e+00  0.000000e+00   \n",
       "6    Costa Rica  FA.MIX.LOAN.RU  3.334298e+07  3.362214e+06  2.838044e+07   \n",
       "7    Costa Rica  FA.MIX.LOAN.UR  3.294496e+07  0.000000e+00  1.441954e+07   \n",
       "8       Ecuador  FA.MIX.LOAN.RU  1.144997e+09  1.270396e+09  1.437765e+09   \n",
       "9       Ecuador  FA.MIX.LOAN.UR  2.257853e+09  3.350961e+09  3.966561e+09   \n",
       "10     Ethiopia  FA.MIX.LOAN.RU  8.225334e+06  2.001261e+07  2.296229e+07   \n",
       "11     Ethiopia  FA.MIX.LOAN.UR  4.039382e+06  1.059612e+07  1.214343e+07   \n",
       "12        Ghana  FA.MIX.LOAN.RU  2.328637e+07  1.610804e+07  1.317301e+07   \n",
       "13        Ghana  FA.MIX.LOAN.UR  3.959584e+07  4.328248e+07  3.185227e+07   \n",
       "14        Haiti  FA.MIX.LOAN.RU  3.183088e+07  2.376313e+07  3.689044e+07   \n",
       "15        Haiti  FA.MIX.LOAN.UR  3.359147e+07  2.848958e+07  5.235723e+07   \n",
       "16        Kenya  FA.MIX.LOAN.RU  6.384746e+07  2.735522e+08  2.258597e+08   \n",
       "17        Kenya  FA.MIX.LOAN.UR  1.068051e+08  1.928243e+08  1.559779e+08   \n",
       "\n",
       "            2018  2019  \n",
       "0   3.285312e+07   0.0  \n",
       "1   1.069057e+08   0.0  \n",
       "2   0.000000e+00   0.0  \n",
       "3   0.000000e+00   0.0  \n",
       "4   0.000000e+00   0.0  \n",
       "5   0.000000e+00   0.0  \n",
       "6   2.674398e+07   0.0  \n",
       "7   1.210455e+07   0.0  \n",
       "8   1.684718e+09   0.0  \n",
       "9   4.627049e+09   0.0  \n",
       "10  9.127657e+06   0.0  \n",
       "11  4.741015e+06   0.0  \n",
       "12  2.572037e+07   0.0  \n",
       "13  3.909489e+07   0.0  \n",
       "14  3.161636e+07   0.0  \n",
       "15  3.045356e+07   0.0  \n",
       "16  2.389510e+08   0.0  \n",
       "17  5.119318e+07   0.0  "
      ]
     },
     "execution_count": 66,
     "metadata": {},
     "output_type": "execute_result"
    }
   ],
   "source": [
    "# Convert years columns to numeric and group by country name for Admin expense\n",
    "\n",
    "cols = ['2015', '2016', '2017', '2018', '2019']\n",
    "mix_data_ruur[cols] = mix_data_ruur[cols].apply(pd.to_numeric, errors='coerce')\n",
    "mix_data_ruur\n",
    "\n",
    "ruur_country = mix_data_ruur.groupby(['Country_Name', 'Series_Code'])[cols].sum().reset_index()\n",
    "ruur_country"
   ]
  },
  {
   "cell_type": "markdown",
   "metadata": {},
   "source": [
    "# Analysis"
   ]
  },
  {
   "cell_type": "code",
   "execution_count": 67,
   "metadata": {},
   "outputs": [
    {
     "data": {
      "text/html": [
       "<div>\n",
       "<style scoped>\n",
       "    .dataframe tbody tr th:only-of-type {\n",
       "        vertical-align: middle;\n",
       "    }\n",
       "\n",
       "    .dataframe tbody tr th {\n",
       "        vertical-align: top;\n",
       "    }\n",
       "\n",
       "    .dataframe thead th {\n",
       "        text-align: right;\n",
       "    }\n",
       "</style>\n",
       "<table border=\"1\" class=\"dataframe\">\n",
       "  <thead>\n",
       "    <tr style=\"text-align: right;\">\n",
       "      <th></th>\n",
       "      <th>2015</th>\n",
       "      <th>2016</th>\n",
       "      <th>2017</th>\n",
       "      <th>2018</th>\n",
       "      <th>2019</th>\n",
       "    </tr>\n",
       "    <tr>\n",
       "      <th>Country_Name</th>\n",
       "      <th></th>\n",
       "      <th></th>\n",
       "      <th></th>\n",
       "      <th></th>\n",
       "      <th></th>\n",
       "    </tr>\n",
       "  </thead>\n",
       "  <tbody>\n",
       "    <tr>\n",
       "      <th>Afghanistan</th>\n",
       "      <td>141401.0</td>\n",
       "      <td>143299.0</td>\n",
       "      <td>169333.0</td>\n",
       "      <td>153572.0</td>\n",
       "      <td>0.0</td>\n",
       "    </tr>\n",
       "    <tr>\n",
       "      <th>Albania</th>\n",
       "      <td>31184.0</td>\n",
       "      <td>0.0</td>\n",
       "      <td>0.0</td>\n",
       "      <td>0.0</td>\n",
       "      <td>0.0</td>\n",
       "    </tr>\n",
       "    <tr>\n",
       "      <th>Angola</th>\n",
       "      <td>21919.0</td>\n",
       "      <td>22051.0</td>\n",
       "      <td>0.0</td>\n",
       "      <td>0.0</td>\n",
       "      <td>0.0</td>\n",
       "    </tr>\n",
       "    <tr>\n",
       "      <th>Costa Rica</th>\n",
       "      <td>25749.0</td>\n",
       "      <td>8248.0</td>\n",
       "      <td>0.0</td>\n",
       "      <td>17347.0</td>\n",
       "      <td>0.0</td>\n",
       "    </tr>\n",
       "    <tr>\n",
       "      <th>Ecuador</th>\n",
       "      <td>1588138.0</td>\n",
       "      <td>1376606.0</td>\n",
       "      <td>1315537.0</td>\n",
       "      <td>1356194.0</td>\n",
       "      <td>0.0</td>\n",
       "    </tr>\n",
       "    <tr>\n",
       "      <th>Ethiopia</th>\n",
       "      <td>76373.0</td>\n",
       "      <td>174641.0</td>\n",
       "      <td>169351.0</td>\n",
       "      <td>63825.0</td>\n",
       "      <td>0.0</td>\n",
       "    </tr>\n",
       "    <tr>\n",
       "      <th>Ghana</th>\n",
       "      <td>283353.0</td>\n",
       "      <td>275459.0</td>\n",
       "      <td>277277.0</td>\n",
       "      <td>220574.0</td>\n",
       "      <td>0.0</td>\n",
       "    </tr>\n",
       "    <tr>\n",
       "      <th>Haiti</th>\n",
       "      <td>167683.0</td>\n",
       "      <td>160835.0</td>\n",
       "      <td>172825.0</td>\n",
       "      <td>174832.0</td>\n",
       "      <td>0.0</td>\n",
       "    </tr>\n",
       "    <tr>\n",
       "      <th>Kenya</th>\n",
       "      <td>879125.0</td>\n",
       "      <td>1011370.0</td>\n",
       "      <td>928817.0</td>\n",
       "      <td>444238.0</td>\n",
       "      <td>103557.0</td>\n",
       "    </tr>\n",
       "  </tbody>\n",
       "</table>\n",
       "</div>"
      ],
      "text/plain": [
       "                   2015       2016       2017       2018      2019\n",
       "Country_Name                                                      \n",
       "Afghanistan    141401.0   143299.0   169333.0   153572.0       0.0\n",
       "Albania         31184.0        0.0        0.0        0.0       0.0\n",
       "Angola          21919.0    22051.0        0.0        0.0       0.0\n",
       "Costa Rica      25749.0     8248.0        0.0    17347.0       0.0\n",
       "Ecuador       1588138.0  1376606.0  1315537.0  1356194.0       0.0\n",
       "Ethiopia        76373.0   174641.0   169351.0    63825.0       0.0\n",
       "Ghana          283353.0   275459.0   277277.0   220574.0       0.0\n",
       "Haiti          167683.0   160835.0   172825.0   174832.0       0.0\n",
       "Kenya          879125.0  1011370.0   928817.0   444238.0  103557.0"
      ]
     },
     "execution_count": 67,
     "metadata": {},
     "output_type": "execute_result"
    }
   ],
   "source": [
    "# Analysis for active borrowers\n",
    "actb_country.set_index('Country_Name',inplace=True)\n",
    "\n",
    "#actb_country_t = actb_country.transpose()\n",
    "actb_country"
   ]
  },
  {
   "cell_type": "code",
   "execution_count": 68,
   "metadata": {},
   "outputs": [
    {
     "data": {
      "text/html": [
       "<div>\n",
       "<style scoped>\n",
       "    .dataframe tbody tr th:only-of-type {\n",
       "        vertical-align: middle;\n",
       "    }\n",
       "\n",
       "    .dataframe tbody tr th {\n",
       "        vertical-align: top;\n",
       "    }\n",
       "\n",
       "    .dataframe thead th {\n",
       "        text-align: right;\n",
       "    }\n",
       "</style>\n",
       "<table border=\"1\" class=\"dataframe\">\n",
       "  <thead>\n",
       "    <tr style=\"text-align: right;\">\n",
       "      <th></th>\n",
       "      <th>2015</th>\n",
       "      <th>2016</th>\n",
       "      <th>2017</th>\n",
       "      <th>2018</th>\n",
       "      <th>2019</th>\n",
       "    </tr>\n",
       "    <tr>\n",
       "      <th>Country_Name</th>\n",
       "      <th></th>\n",
       "      <th></th>\n",
       "      <th></th>\n",
       "      <th></th>\n",
       "      <th></th>\n",
       "    </tr>\n",
       "  </thead>\n",
       "  <tbody>\n",
       "    <tr>\n",
       "      <th>Afghanistan</th>\n",
       "      <td>10623149.0</td>\n",
       "      <td>9169972.0</td>\n",
       "      <td>14977966.0</td>\n",
       "      <td>13566704.0</td>\n",
       "      <td>0.0</td>\n",
       "    </tr>\n",
       "    <tr>\n",
       "      <th>Albania</th>\n",
       "      <td>2210806.0</td>\n",
       "      <td>0.0</td>\n",
       "      <td>0.0</td>\n",
       "      <td>0.0</td>\n",
       "      <td>0.0</td>\n",
       "    </tr>\n",
       "    <tr>\n",
       "      <th>Angola</th>\n",
       "      <td>2382922.0</td>\n",
       "      <td>2289407.0</td>\n",
       "      <td>0.0</td>\n",
       "      <td>0.0</td>\n",
       "      <td>0.0</td>\n",
       "    </tr>\n",
       "    <tr>\n",
       "      <th>Costa Rica</th>\n",
       "      <td>3154118.0</td>\n",
       "      <td>358195.0</td>\n",
       "      <td>265752.0</td>\n",
       "      <td>189356.0</td>\n",
       "      <td>0.0</td>\n",
       "    </tr>\n",
       "    <tr>\n",
       "      <th>Ecuador</th>\n",
       "      <td>173553111.0</td>\n",
       "      <td>157781675.0</td>\n",
       "      <td>167696930.0</td>\n",
       "      <td>203265255.0</td>\n",
       "      <td>0.0</td>\n",
       "    </tr>\n",
       "    <tr>\n",
       "      <th>Ethiopia</th>\n",
       "      <td>419930.0</td>\n",
       "      <td>1117367.0</td>\n",
       "      <td>1218179.0</td>\n",
       "      <td>531309.0</td>\n",
       "      <td>0.0</td>\n",
       "    </tr>\n",
       "    <tr>\n",
       "      <th>Ghana</th>\n",
       "      <td>66241659.0</td>\n",
       "      <td>55891544.0</td>\n",
       "      <td>58418202.0</td>\n",
       "      <td>53199578.0</td>\n",
       "      <td>0.0</td>\n",
       "    </tr>\n",
       "    <tr>\n",
       "      <th>Haiti</th>\n",
       "      <td>10826833.0</td>\n",
       "      <td>7953471.0</td>\n",
       "      <td>8726409.0</td>\n",
       "      <td>8500924.0</td>\n",
       "      <td>0.0</td>\n",
       "    </tr>\n",
       "    <tr>\n",
       "      <th>Kenya</th>\n",
       "      <td>69606204.0</td>\n",
       "      <td>202428582.0</td>\n",
       "      <td>193115764.0</td>\n",
       "      <td>80810274.0</td>\n",
       "      <td>381489.0</td>\n",
       "    </tr>\n",
       "  </tbody>\n",
       "</table>\n",
       "</div>"
      ],
      "text/plain": [
       "                     2015         2016         2017         2018      2019\n",
       "Country_Name                                                              \n",
       "Afghanistan    10623149.0    9169972.0   14977966.0   13566704.0       0.0\n",
       "Albania         2210806.0          0.0          0.0          0.0       0.0\n",
       "Angola          2382922.0    2289407.0          0.0          0.0       0.0\n",
       "Costa Rica      3154118.0     358195.0     265752.0     189356.0       0.0\n",
       "Ecuador       173553111.0  157781675.0  167696930.0  203265255.0       0.0\n",
       "Ethiopia         419930.0    1117367.0    1218179.0     531309.0       0.0\n",
       "Ghana          66241659.0   55891544.0   58418202.0   53199578.0       0.0\n",
       "Haiti          10826833.0    7953471.0    8726409.0    8500924.0       0.0\n",
       "Kenya          69606204.0  202428582.0  193115764.0   80810274.0  381489.0"
      ]
     },
     "execution_count": 68,
     "metadata": {},
     "output_type": "execute_result"
    }
   ],
   "source": [
    "# Analysis for administrative expenses\n",
    "adexp_country.set_index('Country_Name',inplace=True)\n",
    "adexp_country"
   ]
  },
  {
   "cell_type": "code",
   "execution_count": 69,
   "metadata": {},
   "outputs": [
    {
     "data": {
      "application/vnd.holoviews_exec.v0+json": "",
      "text/html": [
       "<div id='3267'>\n",
       "\n",
       "\n",
       "\n",
       "\n",
       "\n",
       "  <div class=\"bk-root\" id=\"ff28cecc-5d05-4f16-8900-204e42b5f7be\" data-root-id=\"3267\"></div>\n",
       "</div>\n",
       "<script type=\"application/javascript\">(function(root) {\n",
       "  function embed_document(root) {\n",
       "  var docs_json = {\"1a83d345-3f67-4690-8c07-a7799a0ab75d\":{\"roots\":{\"references\":[{\"attributes\":{\"data_source\":{\"id\":\"3367\"},\"glyph\":{\"id\":\"3370\"},\"hover_glyph\":null,\"muted_glyph\":{\"id\":\"3372\"},\"nonselection_glyph\":{\"id\":\"3371\"},\"selection_glyph\":null,\"view\":{\"id\":\"3374\"}},\"id\":\"3373\",\"type\":\"GlyphRenderer\"},{\"attributes\":{\"active_drag\":\"auto\",\"active_inspect\":\"auto\",\"active_multi\":null,\"active_scroll\":\"auto\",\"active_tap\":\"auto\",\"tools\":[{\"id\":\"3271\"},{\"id\":\"3292\"},{\"id\":\"3293\"},{\"id\":\"3294\"},{\"id\":\"3295\"},{\"id\":\"3296\"}]},\"id\":\"3298\",\"type\":\"Toolbar\"},{\"attributes\":{},\"id\":\"3343\",\"type\":\"UnionRenderers\"},{\"attributes\":{},\"id\":\"3281\",\"type\":\"CategoricalScale\"},{\"attributes\":{\"label\":{\"value\":\"2015\"},\"renderers\":[{\"id\":\"3318\"}]},\"id\":\"3328\",\"type\":\"LegendItem\"},{\"attributes\":{\"axis\":{\"id\":\"3288\"},\"dimension\":1,\"grid_line_color\":null,\"ticker\":null},\"id\":\"3291\",\"type\":\"Grid\"},{\"attributes\":{\"line_color\":\"#ff7e0e\",\"line_width\":2,\"x\":{\"field\":\"Country_Name\"},\"y\":{\"field\":\"value\"}},\"id\":\"3332\",\"type\":\"Line\"},{\"attributes\":{\"axis_label\":\"Country Name\",\"bounds\":\"auto\",\"formatter\":{\"id\":\"3306\"},\"major_label_orientation\":\"horizontal\",\"ticker\":{\"id\":\"3286\"}},\"id\":\"3285\",\"type\":\"CategoricalAxis\"},{\"attributes\":{\"click_policy\":\"mute\",\"items\":[{\"id\":\"3328\"},{\"id\":\"3346\"},{\"id\":\"3366\"},{\"id\":\"3388\"},{\"id\":\"3412\"}],\"location\":[0,0],\"title\":\"Variable\"},\"id\":\"3327\",\"type\":\"Legend\"},{\"attributes\":{},\"id\":\"3306\",\"type\":\"CategoricalTickFormatter\"},{\"attributes\":{},\"id\":\"3390\",\"type\":\"Selection\"},{\"attributes\":{\"line_alpha\":0.2,\"line_color\":\"#1f77b3\",\"line_width\":2,\"x\":{\"field\":\"Country_Name\"},\"y\":{\"field\":\"value\"}},\"id\":\"3317\",\"type\":\"Line\"},{\"attributes\":{\"source\":{\"id\":\"3312\"}},\"id\":\"3319\",\"type\":\"CDSView\"},{\"attributes\":{\"label\":{\"value\":\"2019\"},\"renderers\":[{\"id\":\"3395\"}]},\"id\":\"3412\",\"type\":\"LegendItem\"},{\"attributes\":{},\"id\":\"3289\",\"type\":\"BasicTicker\"},{\"attributes\":{\"overlay\":{\"id\":\"3297\"}},\"id\":\"3295\",\"type\":\"BoxZoomTool\"},{\"attributes\":{\"data\":{\"Country_Name\":[\"Afghanistan\",\"Albania\",\"Angola\",\"Costa Rica\",\"Ecuador\",\"Ethiopia\",\"Ghana\",\"Haiti\",\"Kenya\"],\"Variable\":[\"2019\",\"2019\",\"2019\",\"2019\",\"2019\",\"2019\",\"2019\",\"2019\",\"2019\"],\"value\":{\"__ndarray__\":\"AAAAAAAAAAAAAAAAAAAAAAAAAAAAAAAAAAAAAAAAAAAAAAAAAAAAAAAAAAAAAAAAAAAAAAAAAAAAAAAAAAAAAAAAAADESBdB\",\"dtype\":\"float64\",\"order\":\"little\",\"shape\":[9]}},\"selected\":{\"id\":\"3390\"},\"selection_policy\":{\"id\":\"3409\"}},\"id\":\"3389\",\"type\":\"ColumnDataSource\"},{\"attributes\":{\"line_alpha\":0.1,\"line_color\":\"#9367bc\",\"line_width\":2,\"x\":{\"field\":\"Country_Name\"},\"y\":{\"field\":\"value\"}},\"id\":\"3393\",\"type\":\"Line\"},{\"attributes\":{},\"id\":\"3368\",\"type\":\"Selection\"},{\"attributes\":{\"axis\":{\"id\":\"3285\"},\"grid_line_color\":null,\"ticker\":null},\"id\":\"3287\",\"type\":\"Grid\"},{\"attributes\":{\"line_color\":\"#1f77b3\",\"line_width\":2,\"x\":{\"field\":\"Country_Name\"},\"y\":{\"field\":\"value\"}},\"id\":\"3315\",\"type\":\"Line\"},{\"attributes\":{},\"id\":\"3293\",\"type\":\"PanTool\"},{\"attributes\":{\"data\":{\"Country_Name\":[\"Afghanistan\",\"Albania\",\"Angola\",\"Costa Rica\",\"Ecuador\",\"Ethiopia\",\"Ghana\",\"Haiti\",\"Kenya\"],\"Variable\":[\"2015\",\"2015\",\"2015\",\"2015\",\"2015\",\"2015\",\"2015\",\"2015\",\"2015\"],\"value\":{\"__ndarray__\":\"AAAAoBVDZEEAAAAA+91AQQAAAAAlLkJBAAAAAGMQSEEAAACua7CkQQAAAABooRlBAAAA2COWj0EAAAAgiqZkQQAAAPBsmJBB\",\"dtype\":\"float64\",\"order\":\"little\",\"shape\":[9]}},\"selected\":{\"id\":\"3313\"},\"selection_policy\":{\"id\":\"3324\"}},\"id\":\"3312\",\"type\":\"ColumnDataSource\"},{\"attributes\":{\"label\":{\"value\":\"2017\"},\"renderers\":[{\"id\":\"3353\"}]},\"id\":\"3366\",\"type\":\"LegendItem\"},{\"attributes\":{},\"id\":\"3324\",\"type\":\"UnionRenderers\"},{\"attributes\":{\"margin\":[5,5,5,5],\"name\":\"HSpacer07556\",\"sizing_mode\":\"stretch_width\"},\"id\":\"3548\",\"type\":\"Spacer\"},{\"attributes\":{\"line_alpha\":0.2,\"line_color\":\"#9367bc\",\"line_width\":2,\"x\":{\"field\":\"Country_Name\"},\"y\":{\"field\":\"value\"}},\"id\":\"3394\",\"type\":\"Line\"},{\"attributes\":{\"axis_label\":\"Administrative Expenses\",\"bounds\":\"auto\",\"formatter\":{\"id\":\"3305\"},\"major_label_orientation\":\"horizontal\",\"ticker\":{\"id\":\"3289\"}},\"id\":\"3288\",\"type\":\"LinearAxis\"},{\"attributes\":{\"data_source\":{\"id\":\"3389\"},\"glyph\":{\"id\":\"3392\"},\"hover_glyph\":null,\"muted_glyph\":{\"id\":\"3394\"},\"nonselection_glyph\":{\"id\":\"3393\"},\"selection_glyph\":null,\"view\":{\"id\":\"3396\"}},\"id\":\"3395\",\"type\":\"GlyphRenderer\"},{\"attributes\":{\"format\":\"%.0f\"},\"id\":\"3305\",\"type\":\"PrintfTickFormatter\"},{\"attributes\":{},\"id\":\"3296\",\"type\":\"ResetTool\"},{\"attributes\":{\"label\":{\"value\":\"2018\"},\"renderers\":[{\"id\":\"3373\"}]},\"id\":\"3388\",\"type\":\"LegendItem\"},{\"attributes\":{},\"id\":\"3348\",\"type\":\"Selection\"},{\"attributes\":{},\"id\":\"3283\",\"type\":\"LinearScale\"},{\"attributes\":{\"data_source\":{\"id\":\"3347\"},\"glyph\":{\"id\":\"3350\"},\"hover_glyph\":null,\"muted_glyph\":{\"id\":\"3352\"},\"nonselection_glyph\":{\"id\":\"3351\"},\"selection_glyph\":null,\"view\":{\"id\":\"3354\"}},\"id\":\"3353\",\"type\":\"GlyphRenderer\"},{\"attributes\":{\"line_alpha\":0.1,\"line_color\":\"#ff7e0e\",\"line_width\":2,\"x\":{\"field\":\"Country_Name\"},\"y\":{\"field\":\"value\"}},\"id\":\"3333\",\"type\":\"Line\"},{\"attributes\":{\"source\":{\"id\":\"3329\"}},\"id\":\"3336\",\"type\":\"CDSView\"},{\"attributes\":{\"data\":{\"Country_Name\":[\"Afghanistan\",\"Albania\",\"Angola\",\"Costa Rica\",\"Ecuador\",\"Ethiopia\",\"Ghana\",\"Haiti\",\"Kenya\"],\"Variable\":[\"2018\",\"2018\",\"2018\",\"2018\",\"2018\",\"2018\",\"2018\",\"2018\",\"2018\"],\"value\":{\"__ndarray__\":\"AAAAAF7gaUEAAAAAAAAAAAAAAAAAAAAAAAAAAGAdB0EAAADOKTuoQQAAAADaNiBBAAAA0BZeiUEAAACA1zZgQQAAAIhERJNB\",\"dtype\":\"float64\",\"order\":\"little\",\"shape\":[9]}},\"selected\":{\"id\":\"3368\"},\"selection_policy\":{\"id\":\"3385\"}},\"id\":\"3367\",\"type\":\"ColumnDataSource\"},{\"attributes\":{},\"id\":\"3286\",\"type\":\"CategoricalTicker\"},{\"attributes\":{},\"id\":\"3313\",\"type\":\"Selection\"},{\"attributes\":{\"label\":{\"value\":\"2016\"},\"renderers\":[{\"id\":\"3335\"}]},\"id\":\"3346\",\"type\":\"LegendItem\"},{\"attributes\":{\"data\":{\"Country_Name\":[\"Afghanistan\",\"Albania\",\"Angola\",\"Costa Rica\",\"Ecuador\",\"Ethiopia\",\"Ghana\",\"Haiti\",\"Kenya\"],\"Variable\":[\"2017\",\"2017\",\"2017\",\"2017\",\"2017\",\"2017\",\"2017\",\"2017\",\"2017\"],\"value\":{\"__ndarray__\":\"AAAAwHWRbEEAAAAAAAAAAAAAAAAAAAAAAAAAAGA4EEEAAABEtP2jQQAAAACDljJBAAAA0CDbi0EAAAAg8aRgQQAAAOhsBadB\",\"dtype\":\"float64\",\"order\":\"little\",\"shape\":[9]}},\"selected\":{\"id\":\"3348\"},\"selection_policy\":{\"id\":\"3363\"}},\"id\":\"3347\",\"type\":\"ColumnDataSource\"},{\"attributes\":{\"line_color\":\"#d62628\",\"line_width\":2,\"x\":{\"field\":\"Country_Name\"},\"y\":{\"field\":\"value\"}},\"id\":\"3370\",\"type\":\"Line\"},{\"attributes\":{\"source\":{\"id\":\"3389\"}},\"id\":\"3396\",\"type\":\"CDSView\"},{\"attributes\":{\"children\":[{\"id\":\"3268\"},{\"id\":\"3276\"},{\"id\":\"3548\"}],\"margin\":[0,0,0,0],\"name\":\"Row07551\",\"tags\":[\"embedded\"]},\"id\":\"3267\",\"type\":\"Row\"},{\"attributes\":{\"align\":null,\"below\":[{\"id\":\"3285\"}],\"center\":[{\"id\":\"3287\"},{\"id\":\"3291\"}],\"left\":[{\"id\":\"3288\"}],\"margin\":null,\"min_border_bottom\":10,\"min_border_left\":10,\"min_border_right\":10,\"min_border_top\":10,\"plot_height\":300,\"plot_width\":700,\"renderers\":[{\"id\":\"3318\"},{\"id\":\"3335\"},{\"id\":\"3353\"},{\"id\":\"3373\"},{\"id\":\"3395\"}],\"right\":[{\"id\":\"3327\"}],\"sizing_mode\":\"fixed\",\"title\":{\"id\":\"3277\"},\"toolbar\":{\"id\":\"3298\"},\"x_range\":{\"id\":\"3269\"},\"x_scale\":{\"id\":\"3281\"},\"y_range\":{\"id\":\"3270\"},\"y_scale\":{\"id\":\"3283\"}},\"id\":\"3276\",\"subtype\":\"Figure\",\"type\":\"Plot\"},{\"attributes\":{\"line_alpha\":0.2,\"line_color\":\"#ff7e0e\",\"line_width\":2,\"x\":{\"field\":\"Country_Name\"},\"y\":{\"field\":\"value\"}},\"id\":\"3334\",\"type\":\"Line\"},{\"attributes\":{},\"id\":\"3363\",\"type\":\"UnionRenderers\"},{\"attributes\":{},\"id\":\"3385\",\"type\":\"UnionRenderers\"},{\"attributes\":{\"bottom_units\":\"screen\",\"fill_alpha\":0.5,\"fill_color\":\"lightgrey\",\"left_units\":\"screen\",\"level\":\"overlay\",\"line_alpha\":1.0,\"line_color\":\"black\",\"line_dash\":[4,4],\"line_width\":2,\"right_units\":\"screen\",\"top_units\":\"screen\"},\"id\":\"3297\",\"type\":\"BoxAnnotation\"},{\"attributes\":{\"margin\":[5,5,5,5],\"name\":\"HSpacer07555\",\"sizing_mode\":\"stretch_width\"},\"id\":\"3268\",\"type\":\"Spacer\"},{\"attributes\":{\"data_source\":{\"id\":\"3329\"},\"glyph\":{\"id\":\"3332\"},\"hover_glyph\":null,\"muted_glyph\":{\"id\":\"3334\"},\"nonselection_glyph\":{\"id\":\"3333\"},\"selection_glyph\":null,\"view\":{\"id\":\"3336\"}},\"id\":\"3335\",\"type\":\"GlyphRenderer\"},{\"attributes\":{\"line_alpha\":0.1,\"line_color\":\"#1f77b3\",\"line_width\":2,\"x\":{\"field\":\"Country_Name\"},\"y\":{\"field\":\"value\"}},\"id\":\"3316\",\"type\":\"Line\"},{\"attributes\":{\"line_color\":\"#2ba02b\",\"line_width\":2,\"x\":{\"field\":\"Country_Name\"},\"y\":{\"field\":\"value\"}},\"id\":\"3350\",\"type\":\"Line\"},{\"attributes\":{\"data_source\":{\"id\":\"3312\"},\"glyph\":{\"id\":\"3315\"},\"hover_glyph\":null,\"muted_glyph\":{\"id\":\"3317\"},\"nonselection_glyph\":{\"id\":\"3316\"},\"selection_glyph\":null,\"view\":{\"id\":\"3319\"}},\"id\":\"3318\",\"type\":\"GlyphRenderer\"},{\"attributes\":{\"text\":\"Active Borrowers\",\"text_color\":{\"value\":\"black\"},\"text_font_size\":{\"value\":\"12pt\"}},\"id\":\"3277\",\"type\":\"Title\"},{\"attributes\":{\"line_color\":\"#9367bc\",\"line_width\":2,\"x\":{\"field\":\"Country_Name\"},\"y\":{\"field\":\"value\"}},\"id\":\"3392\",\"type\":\"Line\"},{\"attributes\":{\"factors\":[\"Afghanistan\",\"Albania\",\"Angola\",\"Costa Rica\",\"Ecuador\",\"Ethiopia\",\"Ghana\",\"Haiti\",\"Kenya\"],\"tags\":[[[\"Country_Name\",\"Country_Name\",null]]]},\"id\":\"3269\",\"type\":\"FactorRange\"},{\"attributes\":{\"line_alpha\":0.1,\"line_color\":\"#2ba02b\",\"line_width\":2,\"x\":{\"field\":\"Country_Name\"},\"y\":{\"field\":\"value\"}},\"id\":\"3351\",\"type\":\"Line\"},{\"attributes\":{},\"id\":\"3330\",\"type\":\"Selection\"},{\"attributes\":{\"line_alpha\":0.2,\"line_color\":\"#d62628\",\"line_width\":2,\"x\":{\"field\":\"Country_Name\"},\"y\":{\"field\":\"value\"}},\"id\":\"3372\",\"type\":\"Line\"},{\"attributes\":{\"callback\":null,\"renderers\":[{\"id\":\"3318\"},{\"id\":\"3335\"},{\"id\":\"3353\"},{\"id\":\"3373\"},{\"id\":\"3395\"}],\"tags\":[\"hv_created\"],\"tooltips\":[[\"Variable\",\"@{Variable}\"],[\"Country_Name\",\"@{Country_Name}\"],[\"value\",\"@{value}\"]]},\"id\":\"3271\",\"type\":\"HoverTool\"},{\"attributes\":{\"end\":223591780.5,\"reset_end\":223591780.5,\"reset_start\":-20326525.5,\"start\":-20326525.5,\"tags\":[[[\"value\",\"value\",null]]]},\"id\":\"3270\",\"type\":\"Range1d\"},{\"attributes\":{},\"id\":\"3294\",\"type\":\"WheelZoomTool\"},{\"attributes\":{},\"id\":\"3409\",\"type\":\"UnionRenderers\"},{\"attributes\":{\"source\":{\"id\":\"3367\"}},\"id\":\"3374\",\"type\":\"CDSView\"},{\"attributes\":{\"line_alpha\":0.2,\"line_color\":\"#2ba02b\",\"line_width\":2,\"x\":{\"field\":\"Country_Name\"},\"y\":{\"field\":\"value\"}},\"id\":\"3352\",\"type\":\"Line\"},{\"attributes\":{},\"id\":\"3292\",\"type\":\"SaveTool\"},{\"attributes\":{\"data\":{\"Country_Name\":[\"Afghanistan\",\"Albania\",\"Angola\",\"Costa Rica\",\"Ecuador\",\"Ethiopia\",\"Ghana\",\"Haiti\",\"Kenya\"],\"Variable\":[\"2016\",\"2016\",\"2016\",\"2016\",\"2016\",\"2016\",\"2016\",\"2016\",\"2016\"],\"value\":{\"__ndarray__\":\"AAAAgIZ9YUEAAAAAAAAAAAAAAIB/d0FBAAAAAMzcFUEAAABWHc+iQQAAAAC3DDFBAAAAwLKmikEAAADAD1deQQAAAEyhIahB\",\"dtype\":\"float64\",\"order\":\"little\",\"shape\":[9]}},\"selected\":{\"id\":\"3330\"},\"selection_policy\":{\"id\":\"3343\"}},\"id\":\"3329\",\"type\":\"ColumnDataSource\"},{\"attributes\":{\"source\":{\"id\":\"3347\"}},\"id\":\"3354\",\"type\":\"CDSView\"},{\"attributes\":{\"line_alpha\":0.1,\"line_color\":\"#d62628\",\"line_width\":2,\"x\":{\"field\":\"Country_Name\"},\"y\":{\"field\":\"value\"}},\"id\":\"3371\",\"type\":\"Line\"}],\"root_ids\":[\"3267\"]},\"title\":\"Bokeh Application\",\"version\":\"2.1.1\"}};\n",
       "  var render_items = [{\"docid\":\"1a83d345-3f67-4690-8c07-a7799a0ab75d\",\"root_ids\":[\"3267\"],\"roots\":{\"3267\":\"ff28cecc-5d05-4f16-8900-204e42b5f7be\"}}];\n",
       "  root.Bokeh.embed.embed_items_notebook(docs_json, render_items);\n",
       "  }\n",
       "if (root.Bokeh !== undefined) {\n",
       "    embed_document(root);\n",
       "  } else {\n",
       "    var attempts = 0;\n",
       "    var timer = setInterval(function(root) {\n",
       "      if (root.Bokeh !== undefined) {\n",
       "        clearInterval(timer);\n",
       "        embed_document(root);\n",
       "      } else if (document.readyState == \"complete\") {\n",
       "        attempts++;\n",
       "        if (attempts > 100) {\n",
       "          clearInterval(timer);\n",
       "          console.log(\"Bokeh: ERROR: Unable to run BokehJS code because BokehJS library is missing\");\n",
       "        }\n",
       "      }\n",
       "    }, 10, root)\n",
       "  }\n",
       "})(window);</script>"
      ],
      "text/plain": [
       ":NdOverlay   [Variable]\n",
       "   :Curve   [Country_Name]   (value)"
      ]
     },
     "execution_count": 69,
     "metadata": {
      "application/vnd.holoviews_exec.v0+json": {
       "id": "3267"
      }
     },
     "output_type": "execute_result"
    }
   ],
   "source": [
    "adexp_country.hvplot(x=\"Country_Name\", y=[\"2015\", \"2016\", \"2017\", \"2018\", \"2019\"], \n",
    "                    title='Active Borrowers',\n",
    "                    xlabel='Country Name',\n",
    "                    ylabel='Administrative Expenses'\n",
    "                    ).opts(yformatter=\"%.0f\")"
   ]
  },
  {
   "cell_type": "code",
   "execution_count": 70,
   "metadata": {},
   "outputs": [
    {
     "data": {
      "application/vnd.holoviews_exec.v0+json": "",
      "text/html": [
       "<div id='3625'>\n",
       "\n",
       "\n",
       "\n",
       "\n",
       "\n",
       "  <div class=\"bk-root\" id=\"49192527-ce0d-458c-9b65-7f03f6e70845\" data-root-id=\"3625\"></div>\n",
       "</div>\n",
       "<script type=\"application/javascript\">(function(root) {\n",
       "  function embed_document(root) {\n",
       "  var docs_json = {\"ee745ed6-4280-4661-b17c-b340a5ede400\":{\"roots\":{\"references\":[{\"attributes\":{},\"id\":\"3637\",\"type\":\"LinearScale\"},{\"attributes\":{},\"id\":\"3668\",\"type\":\"CategoricalTickFormatter\"},{\"attributes\":{},\"id\":\"3646\",\"type\":\"SaveTool\"},{\"attributes\":{\"margin\":[5,5,5,5],\"name\":\"HSpacer08444\",\"sizing_mode\":\"stretch_width\"},\"id\":\"3626\",\"type\":\"Spacer\"},{\"attributes\":{\"text\":\"Active Borrowers\",\"text_color\":{\"value\":\"black\"},\"text_font_size\":{\"value\":\"12pt\"}},\"id\":\"3631\",\"type\":\"Title\"},{\"attributes\":{\"margin\":[5,5,5,5],\"name\":\"HSpacer08445\",\"sizing_mode\":\"stretch_width\"},\"id\":\"3688\",\"type\":\"Spacer\"},{\"attributes\":{\"end\":1744759.9,\"reset_end\":1744759.9,\"reset_start\":0.0,\"tags\":[[[\"2015\",\"2015\",null]]]},\"id\":\"3628\",\"type\":\"Range1d\"},{\"attributes\":{\"align\":null,\"below\":[{\"id\":\"3639\"}],\"center\":[{\"id\":\"3641\"},{\"id\":\"3645\"}],\"frame_height\":200,\"frame_width\":600,\"left\":[{\"id\":\"3642\"}],\"margin\":null,\"min_border_bottom\":10,\"min_border_left\":10,\"min_border_right\":10,\"min_border_top\":10,\"plot_height\":null,\"plot_width\":null,\"renderers\":[{\"id\":\"3665\"}],\"sizing_mode\":\"fixed\",\"title\":{\"id\":\"3631\"},\"toolbar\":{\"id\":\"3652\"},\"x_range\":{\"id\":\"3627\"},\"x_scale\":{\"id\":\"3635\"},\"y_range\":{\"id\":\"3628\"},\"y_scale\":{\"id\":\"3637\"}},\"id\":\"3630\",\"subtype\":\"Figure\",\"type\":\"Plot\"},{\"attributes\":{\"data_source\":{\"id\":\"3659\"},\"glyph\":{\"id\":\"3662\"},\"hover_glyph\":null,\"muted_glyph\":{\"id\":\"3664\"},\"nonselection_glyph\":{\"id\":\"3663\"},\"selection_glyph\":null,\"view\":{\"id\":\"3666\"}},\"id\":\"3665\",\"type\":\"GlyphRenderer\"},{\"attributes\":{},\"id\":\"3643\",\"type\":\"BasicTicker\"},{\"attributes\":{\"factors\":[\"Afghanistan\",\"Albania\",\"Angola\",\"Costa Rica\",\"Ecuador\",\"Ethiopia\",\"Ghana\",\"Haiti\",\"Kenya\"],\"tags\":[[[\"Country_Name\",\"Country_Name\",null]]]},\"id\":\"3627\",\"type\":\"FactorRange\"},{\"attributes\":{\"axis\":{\"id\":\"3642\"},\"dimension\":1,\"grid_line_color\":null,\"ticker\":null},\"id\":\"3645\",\"type\":\"Grid\"},{\"attributes\":{\"source\":{\"id\":\"3659\"}},\"id\":\"3666\",\"type\":\"CDSView\"},{\"attributes\":{},\"id\":\"3648\",\"type\":\"WheelZoomTool\"},{\"attributes\":{},\"id\":\"3678\",\"type\":\"UnionRenderers\"},{\"attributes\":{\"fill_alpha\":{\"value\":0.1},\"fill_color\":{\"value\":\"#1f77b3\"},\"line_alpha\":{\"value\":0.1},\"top\":{\"field\":\"A_2015\"},\"width\":{\"value\":0.8},\"x\":{\"field\":\"Country_Name\"}},\"id\":\"3663\",\"type\":\"VBar\"},{\"attributes\":{\"children\":[{\"id\":\"3626\"},{\"id\":\"3630\"},{\"id\":\"3688\"}],\"margin\":[0,0,0,0],\"name\":\"Row08440\",\"tags\":[\"embedded\"]},\"id\":\"3625\",\"type\":\"Row\"},{\"attributes\":{\"bottom_units\":\"screen\",\"fill_alpha\":0.5,\"fill_color\":\"lightgrey\",\"left_units\":\"screen\",\"level\":\"overlay\",\"line_alpha\":1.0,\"line_color\":\"black\",\"line_dash\":[4,4],\"line_width\":2,\"right_units\":\"screen\",\"top_units\":\"screen\"},\"id\":\"3651\",\"type\":\"BoxAnnotation\"},{\"attributes\":{\"callback\":null,\"renderers\":[{\"id\":\"3665\"}],\"tags\":[\"hv_created\"],\"tooltips\":[[\"Country_Name\",\"@{Country_Name}\"],[\"2015\",\"@{A_2015}\"]]},\"id\":\"3629\",\"type\":\"HoverTool\"},{\"attributes\":{\"data\":{\"A_2015\":{\"__ndarray__\":\"AAAAAMhCAUEAAAAAAHTeQAAAAADAZ9VAAAAAAEAl2UAAAAAAqjs4QQAAAABQpfJAAAAAAGRLEUEAAAAAGHgEQQAAAAAq1CpB\",\"dtype\":\"float64\",\"order\":\"little\",\"shape\":[9]},\"Country_Name\":[\"Afghanistan\",\"Albania\",\"Angola\",\"Costa Rica\",\"Ecuador\",\"Ethiopia\",\"Ghana\",\"Haiti\",\"Kenya\"]},\"selected\":{\"id\":\"3660\"},\"selection_policy\":{\"id\":\"3678\"}},\"id\":\"3659\",\"type\":\"ColumnDataSource\"},{\"attributes\":{},\"id\":\"3660\",\"type\":\"Selection\"},{\"attributes\":{\"fill_color\":{\"value\":\"#1f77b3\"},\"top\":{\"field\":\"A_2015\"},\"width\":{\"value\":0.8},\"x\":{\"field\":\"Country_Name\"}},\"id\":\"3662\",\"type\":\"VBar\"},{\"attributes\":{\"format\":\"%.0f\"},\"id\":\"3667\",\"type\":\"PrintfTickFormatter\"},{\"attributes\":{\"axis_label\":\"Country Name\",\"bounds\":\"auto\",\"formatter\":{\"id\":\"3668\"},\"major_label_orientation\":1.5707963267948966,\"ticker\":{\"id\":\"3640\"}},\"id\":\"3639\",\"type\":\"CategoricalAxis\"},{\"attributes\":{\"fill_alpha\":{\"value\":0.2},\"fill_color\":{\"value\":\"#1f77b3\"},\"line_alpha\":{\"value\":0.2},\"top\":{\"field\":\"A_2015\"},\"width\":{\"value\":0.8},\"x\":{\"field\":\"Country_Name\"}},\"id\":\"3664\",\"type\":\"VBar\"},{\"attributes\":{\"axis\":{\"id\":\"3639\"},\"grid_line_color\":null,\"ticker\":null},\"id\":\"3641\",\"type\":\"Grid\"},{\"attributes\":{\"axis_label\":\"Borrowed Amount\",\"bounds\":\"auto\",\"formatter\":{\"id\":\"3667\"},\"major_label_orientation\":\"horizontal\",\"ticker\":{\"id\":\"3643\"}},\"id\":\"3642\",\"type\":\"LinearAxis\"},{\"attributes\":{\"active_drag\":\"auto\",\"active_inspect\":\"auto\",\"active_multi\":null,\"active_scroll\":\"auto\",\"active_tap\":\"auto\",\"tools\":[{\"id\":\"3629\"},{\"id\":\"3646\"},{\"id\":\"3647\"},{\"id\":\"3648\"},{\"id\":\"3649\"},{\"id\":\"3650\"}]},\"id\":\"3652\",\"type\":\"Toolbar\"},{\"attributes\":{\"overlay\":{\"id\":\"3651\"}},\"id\":\"3649\",\"type\":\"BoxZoomTool\"},{\"attributes\":{},\"id\":\"3647\",\"type\":\"PanTool\"},{\"attributes\":{},\"id\":\"3640\",\"type\":\"CategoricalTicker\"},{\"attributes\":{},\"id\":\"3650\",\"type\":\"ResetTool\"},{\"attributes\":{},\"id\":\"3635\",\"type\":\"CategoricalScale\"}],\"root_ids\":[\"3625\"]},\"title\":\"Bokeh Application\",\"version\":\"2.1.1\"}};\n",
       "  var render_items = [{\"docid\":\"ee745ed6-4280-4661-b17c-b340a5ede400\",\"root_ids\":[\"3625\"],\"roots\":{\"3625\":\"49192527-ce0d-458c-9b65-7f03f6e70845\"}}];\n",
       "  root.Bokeh.embed.embed_items_notebook(docs_json, render_items);\n",
       "  }\n",
       "if (root.Bokeh !== undefined) {\n",
       "    embed_document(root);\n",
       "  } else {\n",
       "    var attempts = 0;\n",
       "    var timer = setInterval(function(root) {\n",
       "      if (root.Bokeh !== undefined) {\n",
       "        clearInterval(timer);\n",
       "        embed_document(root);\n",
       "      } else if (document.readyState == \"complete\") {\n",
       "        attempts++;\n",
       "        if (attempts > 100) {\n",
       "          clearInterval(timer);\n",
       "          console.log(\"Bokeh: ERROR: Unable to run BokehJS code because BokehJS library is missing\");\n",
       "        }\n",
       "      }\n",
       "    }, 10, root)\n",
       "  }\n",
       "})(window);</script>"
      ],
      "text/plain": [
       ":Bars   [Country_Name]   (2015)"
      ]
     },
     "execution_count": 70,
     "metadata": {
      "application/vnd.holoviews_exec.v0+json": {
       "id": "3625"
      }
     },
     "output_type": "execute_result"
    }
   ],
   "source": [
    "actb_country.hvplot.bar(\n",
    "    x=\"Country_Name\", \n",
    "    y=\"2015\", \n",
    "    rot=90, \n",
    "    title='Active Borrowers',\n",
    "    xlabel='Country Name', \n",
    "    ylabel='Borrowed Amount',\n",
    "    frame_height=200,\n",
    "    frame_width=600,\n",
    "    ).opts(yformatter=\"%.0f\")"
   ]
  },
  {
   "cell_type": "code",
   "execution_count": 71,
   "metadata": {},
   "outputs": [
    {
     "data": {
      "application/vnd.holoviews_exec.v0+json": "",
      "text/html": [
       "<div id='3725'>\n",
       "\n",
       "\n",
       "\n",
       "\n",
       "\n",
       "  <div class=\"bk-root\" id=\"8ff8ac7e-f916-4d7f-b065-92eadfd85261\" data-root-id=\"3725\"></div>\n",
       "</div>\n",
       "<script type=\"application/javascript\">(function(root) {\n",
       "  function embed_document(root) {\n",
       "  var docs_json = {\"1d63386f-dd2c-4c9d-952c-8d7d89e0c672\":{\"roots\":{\"references\":[{\"attributes\":{},\"id\":\"3744\",\"type\":\"CategoricalTicker\"},{\"attributes\":{},\"id\":\"3848\",\"type\":\"Selection\"},{\"attributes\":{\"axis_label\":\"Administrative Expenses\",\"bounds\":\"auto\",\"formatter\":{\"id\":\"3763\"},\"major_label_orientation\":\"horizontal\",\"ticker\":{\"id\":\"3747\"}},\"id\":\"3746\",\"type\":\"LinearAxis\"},{\"attributes\":{},\"id\":\"3751\",\"type\":\"PanTool\"},{\"attributes\":{\"bottom_units\":\"screen\",\"fill_alpha\":0.5,\"fill_color\":\"lightgrey\",\"left_units\":\"screen\",\"level\":\"overlay\",\"line_alpha\":1.0,\"line_color\":\"black\",\"line_dash\":[4,4],\"line_width\":2,\"right_units\":\"screen\",\"top_units\":\"screen\"},\"id\":\"3755\",\"type\":\"BoxAnnotation\"},{\"attributes\":{},\"id\":\"3752\",\"type\":\"WheelZoomTool\"},{\"attributes\":{\"line_color\":\"#ff7e0e\",\"line_width\":2,\"x\":{\"field\":\"Country_Name\"},\"y\":{\"field\":\"value\"}},\"id\":\"3790\",\"type\":\"Line\"},{\"attributes\":{\"axis_label\":\"Country Name\",\"bounds\":\"auto\",\"formatter\":{\"id\":\"3764\"},\"major_label_orientation\":1.5707963267948966,\"ticker\":{\"id\":\"3744\"}},\"id\":\"3743\",\"type\":\"CategoricalAxis\"},{\"attributes\":{\"line_color\":\"#1f77b3\",\"line_width\":2,\"x\":{\"field\":\"Country_Name\"},\"y\":{\"field\":\"value\"}},\"id\":\"3773\",\"type\":\"Line\"},{\"attributes\":{\"line_alpha\":0.2,\"line_color\":\"#ff7e0e\",\"line_width\":2,\"x\":{\"field\":\"Country_Name\"},\"y\":{\"field\":\"value\"}},\"id\":\"3792\",\"type\":\"Line\"},{\"attributes\":{\"axis\":{\"id\":\"3746\"},\"dimension\":1,\"grid_line_color\":null,\"ticker\":null},\"id\":\"3749\",\"type\":\"Grid\"},{\"attributes\":{\"line_alpha\":0.2,\"line_color\":\"#9367bc\",\"line_width\":2,\"x\":{\"field\":\"Country_Name\"},\"y\":{\"field\":\"value\"}},\"id\":\"3852\",\"type\":\"Line\"},{\"attributes\":{\"data_source\":{\"id\":\"3787\"},\"glyph\":{\"id\":\"3790\"},\"hover_glyph\":null,\"muted_glyph\":{\"id\":\"3792\"},\"nonselection_glyph\":{\"id\":\"3791\"},\"selection_glyph\":null,\"view\":{\"id\":\"3794\"}},\"id\":\"3793\",\"type\":\"GlyphRenderer\"},{\"attributes\":{\"source\":{\"id\":\"3770\"}},\"id\":\"3777\",\"type\":\"CDSView\"},{\"attributes\":{\"label\":{\"value\":\"2017\"},\"renderers\":[{\"id\":\"3811\"}]},\"id\":\"3824\",\"type\":\"LegendItem\"},{\"attributes\":{},\"id\":\"3806\",\"type\":\"Selection\"},{\"attributes\":{\"line_alpha\":0.1,\"line_color\":\"#1f77b3\",\"line_width\":2,\"x\":{\"field\":\"Country_Name\"},\"y\":{\"field\":\"value\"}},\"id\":\"3774\",\"type\":\"Line\"},{\"attributes\":{\"line_color\":\"#2ba02b\",\"line_width\":2,\"x\":{\"field\":\"Country_Name\"},\"y\":{\"field\":\"value\"}},\"id\":\"3808\",\"type\":\"Line\"},{\"attributes\":{},\"id\":\"3782\",\"type\":\"UnionRenderers\"},{\"attributes\":{\"overlay\":{\"id\":\"3755\"}},\"id\":\"3753\",\"type\":\"BoxZoomTool\"},{\"attributes\":{},\"id\":\"3826\",\"type\":\"Selection\"},{\"attributes\":{\"axis\":{\"id\":\"3743\"},\"grid_line_color\":null,\"ticker\":null},\"id\":\"3745\",\"type\":\"Grid\"},{\"attributes\":{\"data_source\":{\"id\":\"3805\"},\"glyph\":{\"id\":\"3808\"},\"hover_glyph\":null,\"muted_glyph\":{\"id\":\"3810\"},\"nonselection_glyph\":{\"id\":\"3809\"},\"selection_glyph\":null,\"view\":{\"id\":\"3812\"}},\"id\":\"3811\",\"type\":\"GlyphRenderer\"},{\"attributes\":{\"label\":{\"value\":\"2015\"},\"renderers\":[{\"id\":\"3776\"}]},\"id\":\"3786\",\"type\":\"LegendItem\"},{\"attributes\":{\"source\":{\"id\":\"3787\"}},\"id\":\"3794\",\"type\":\"CDSView\"},{\"attributes\":{\"line_alpha\":0.1,\"line_color\":\"#2ba02b\",\"line_width\":2,\"x\":{\"field\":\"Country_Name\"},\"y\":{\"field\":\"value\"}},\"id\":\"3809\",\"type\":\"Line\"},{\"attributes\":{\"line_alpha\":0.1,\"line_color\":\"#ff7e0e\",\"line_width\":2,\"x\":{\"field\":\"Country_Name\"},\"y\":{\"field\":\"value\"}},\"id\":\"3791\",\"type\":\"Line\"},{\"attributes\":{},\"id\":\"3747\",\"type\":\"BasicTicker\"},{\"attributes\":{\"data\":{\"Country_Name\":[\"Afghanistan\",\"Albania\",\"Angola\",\"Costa Rica\",\"Ecuador\",\"Ethiopia\",\"Ghana\",\"Haiti\",\"Kenya\"],\"Variable\":[\"2019\",\"2019\",\"2019\",\"2019\",\"2019\",\"2019\",\"2019\",\"2019\",\"2019\"],\"value\":{\"__ndarray__\":\"AAAAAAAAAAAAAAAAAAAAAAAAAAAAAAAAAAAAAAAAAAAAAAAAAAAAAAAAAAAAAAAAAAAAAAAAAAAAAAAAAAAAAAAAAADESBdB\",\"dtype\":\"float64\",\"order\":\"little\",\"shape\":[9]}},\"selected\":{\"id\":\"3848\"},\"selection_policy\":{\"id\":\"3867\"}},\"id\":\"3847\",\"type\":\"ColumnDataSource\"},{\"attributes\":{\"data\":{\"Country_Name\":[\"Afghanistan\",\"Albania\",\"Angola\",\"Costa Rica\",\"Ecuador\",\"Ethiopia\",\"Ghana\",\"Haiti\",\"Kenya\"],\"Variable\":[\"2018\",\"2018\",\"2018\",\"2018\",\"2018\",\"2018\",\"2018\",\"2018\",\"2018\"],\"value\":{\"__ndarray__\":\"AAAAAF7gaUEAAAAAAAAAAAAAAAAAAAAAAAAAAGAdB0EAAADOKTuoQQAAAADaNiBBAAAA0BZeiUEAAACA1zZgQQAAAIhERJNB\",\"dtype\":\"float64\",\"order\":\"little\",\"shape\":[9]}},\"selected\":{\"id\":\"3826\"},\"selection_policy\":{\"id\":\"3843\"}},\"id\":\"3825\",\"type\":\"ColumnDataSource\"},{\"attributes\":{\"line_alpha\":0.1,\"line_color\":\"#9367bc\",\"line_width\":2,\"x\":{\"field\":\"Country_Name\"},\"y\":{\"field\":\"value\"}},\"id\":\"3851\",\"type\":\"Line\"},{\"attributes\":{\"line_alpha\":0.2,\"line_color\":\"#2ba02b\",\"line_width\":2,\"x\":{\"field\":\"Country_Name\"},\"y\":{\"field\":\"value\"}},\"id\":\"3810\",\"type\":\"Line\"},{\"attributes\":{\"end\":223591780.5,\"reset_end\":223591780.5,\"reset_start\":-20326525.5,\"start\":-20326525.5,\"tags\":[[[\"value\",\"value\",null]]]},\"id\":\"3728\",\"type\":\"Range1d\"},{\"attributes\":{\"active_drag\":\"auto\",\"active_inspect\":\"auto\",\"active_multi\":null,\"active_scroll\":\"auto\",\"active_tap\":\"auto\",\"tools\":[{\"id\":\"3729\"},{\"id\":\"3750\"},{\"id\":\"3751\"},{\"id\":\"3752\"},{\"id\":\"3753\"},{\"id\":\"3754\"}]},\"id\":\"3756\",\"type\":\"Toolbar\"},{\"attributes\":{\"click_policy\":\"mute\",\"items\":[{\"id\":\"3786\"},{\"id\":\"3804\"},{\"id\":\"3824\"},{\"id\":\"3846\"},{\"id\":\"3870\"}],\"location\":[0,0],\"title\":\"Variable\"},\"id\":\"3785\",\"type\":\"Legend\"},{\"attributes\":{},\"id\":\"3764\",\"type\":\"CategoricalTickFormatter\"},{\"attributes\":{\"data\":{\"Country_Name\":[\"Afghanistan\",\"Albania\",\"Angola\",\"Costa Rica\",\"Ecuador\",\"Ethiopia\",\"Ghana\",\"Haiti\",\"Kenya\"],\"Variable\":[\"2015\",\"2015\",\"2015\",\"2015\",\"2015\",\"2015\",\"2015\",\"2015\",\"2015\"],\"value\":{\"__ndarray__\":\"AAAAoBVDZEEAAAAA+91AQQAAAAAlLkJBAAAAAGMQSEEAAACua7CkQQAAAABooRlBAAAA2COWj0EAAAAgiqZkQQAAAPBsmJBB\",\"dtype\":\"float64\",\"order\":\"little\",\"shape\":[9]}},\"selected\":{\"id\":\"3771\"},\"selection_policy\":{\"id\":\"3782\"}},\"id\":\"3770\",\"type\":\"ColumnDataSource\"},{\"attributes\":{},\"id\":\"3821\",\"type\":\"UnionRenderers\"},{\"attributes\":{\"children\":[{\"id\":\"3726\"},{\"id\":\"3734\"},{\"id\":\"4006\"}],\"margin\":[0,0,0,0],\"name\":\"Row08724\",\"tags\":[\"embedded\"]},\"id\":\"3725\",\"type\":\"Row\"},{\"attributes\":{\"text\":\"Administrative Expenses\",\"text_color\":{\"value\":\"black\"},\"text_font_size\":{\"value\":\"12pt\"}},\"id\":\"3735\",\"type\":\"Title\"},{\"attributes\":{\"line_alpha\":0.1,\"line_color\":\"#d62628\",\"line_width\":2,\"x\":{\"field\":\"Country_Name\"},\"y\":{\"field\":\"value\"}},\"id\":\"3829\",\"type\":\"Line\"},{\"attributes\":{\"line_color\":\"#d62628\",\"line_width\":2,\"x\":{\"field\":\"Country_Name\"},\"y\":{\"field\":\"value\"}},\"id\":\"3828\",\"type\":\"Line\"},{\"attributes\":{\"data_source\":{\"id\":\"3770\"},\"glyph\":{\"id\":\"3773\"},\"hover_glyph\":null,\"muted_glyph\":{\"id\":\"3775\"},\"nonselection_glyph\":{\"id\":\"3774\"},\"selection_glyph\":null,\"view\":{\"id\":\"3777\"}},\"id\":\"3776\",\"type\":\"GlyphRenderer\"},{\"attributes\":{\"data\":{\"Country_Name\":[\"Afghanistan\",\"Albania\",\"Angola\",\"Costa Rica\",\"Ecuador\",\"Ethiopia\",\"Ghana\",\"Haiti\",\"Kenya\"],\"Variable\":[\"2017\",\"2017\",\"2017\",\"2017\",\"2017\",\"2017\",\"2017\",\"2017\",\"2017\"],\"value\":{\"__ndarray__\":\"AAAAwHWRbEEAAAAAAAAAAAAAAAAAAAAAAAAAAGA4EEEAAABEtP2jQQAAAACDljJBAAAA0CDbi0EAAAAg8aRgQQAAAOhsBadB\",\"dtype\":\"float64\",\"order\":\"little\",\"shape\":[9]}},\"selected\":{\"id\":\"3806\"},\"selection_policy\":{\"id\":\"3821\"}},\"id\":\"3805\",\"type\":\"ColumnDataSource\"},{\"attributes\":{\"line_color\":\"#9367bc\",\"line_width\":2,\"x\":{\"field\":\"Country_Name\"},\"y\":{\"field\":\"value\"}},\"id\":\"3850\",\"type\":\"Line\"},{\"attributes\":{\"margin\":[5,5,5,5],\"name\":\"HSpacer08728\",\"sizing_mode\":\"stretch_width\"},\"id\":\"3726\",\"type\":\"Spacer\"},{\"attributes\":{},\"id\":\"3739\",\"type\":\"CategoricalScale\"},{\"attributes\":{},\"id\":\"3788\",\"type\":\"Selection\"},{\"attributes\":{\"data_source\":{\"id\":\"3825\"},\"glyph\":{\"id\":\"3828\"},\"hover_glyph\":null,\"muted_glyph\":{\"id\":\"3830\"},\"nonselection_glyph\":{\"id\":\"3829\"},\"selection_glyph\":null,\"view\":{\"id\":\"3832\"}},\"id\":\"3831\",\"type\":\"GlyphRenderer\"},{\"attributes\":{},\"id\":\"3771\",\"type\":\"Selection\"},{\"attributes\":{\"source\":{\"id\":\"3847\"}},\"id\":\"3854\",\"type\":\"CDSView\"},{\"attributes\":{\"data_source\":{\"id\":\"3847\"},\"glyph\":{\"id\":\"3850\"},\"hover_glyph\":null,\"muted_glyph\":{\"id\":\"3852\"},\"nonselection_glyph\":{\"id\":\"3851\"},\"selection_glyph\":null,\"view\":{\"id\":\"3854\"}},\"id\":\"3853\",\"type\":\"GlyphRenderer\"},{\"attributes\":{\"margin\":[5,5,5,5],\"name\":\"HSpacer08729\",\"sizing_mode\":\"stretch_width\"},\"id\":\"4006\",\"type\":\"Spacer\"},{\"attributes\":{\"factors\":[\"Afghanistan\",\"Albania\",\"Angola\",\"Costa Rica\",\"Ecuador\",\"Ethiopia\",\"Ghana\",\"Haiti\",\"Kenya\"],\"tags\":[[[\"Country_Name\",\"Country_Name\",null]]]},\"id\":\"3727\",\"type\":\"FactorRange\"},{\"attributes\":{\"line_alpha\":0.2,\"line_color\":\"#d62628\",\"line_width\":2,\"x\":{\"field\":\"Country_Name\"},\"y\":{\"field\":\"value\"}},\"id\":\"3830\",\"type\":\"Line\"},{\"attributes\":{\"data\":{\"Country_Name\":[\"Afghanistan\",\"Albania\",\"Angola\",\"Costa Rica\",\"Ecuador\",\"Ethiopia\",\"Ghana\",\"Haiti\",\"Kenya\"],\"Variable\":[\"2016\",\"2016\",\"2016\",\"2016\",\"2016\",\"2016\",\"2016\",\"2016\",\"2016\"],\"value\":{\"__ndarray__\":\"AAAAgIZ9YUEAAAAAAAAAAAAAAIB/d0FBAAAAAMzcFUEAAABWHc+iQQAAAAC3DDFBAAAAwLKmikEAAADAD1deQQAAAEyhIahB\",\"dtype\":\"float64\",\"order\":\"little\",\"shape\":[9]}},\"selected\":{\"id\":\"3788\"},\"selection_policy\":{\"id\":\"3801\"}},\"id\":\"3787\",\"type\":\"ColumnDataSource\"},{\"attributes\":{\"source\":{\"id\":\"3805\"}},\"id\":\"3812\",\"type\":\"CDSView\"},{\"attributes\":{\"source\":{\"id\":\"3825\"}},\"id\":\"3832\",\"type\":\"CDSView\"},{\"attributes\":{\"label\":{\"value\":\"2016\"},\"renderers\":[{\"id\":\"3793\"}]},\"id\":\"3804\",\"type\":\"LegendItem\"},{\"attributes\":{\"label\":{\"value\":\"2019\"},\"renderers\":[{\"id\":\"3853\"}]},\"id\":\"3870\",\"type\":\"LegendItem\"},{\"attributes\":{},\"id\":\"3801\",\"type\":\"UnionRenderers\"},{\"attributes\":{},\"id\":\"3741\",\"type\":\"LinearScale\"},{\"attributes\":{\"format\":\"%.0f\"},\"id\":\"3763\",\"type\":\"PrintfTickFormatter\"},{\"attributes\":{},\"id\":\"3750\",\"type\":\"SaveTool\"},{\"attributes\":{\"line_alpha\":0.2,\"line_color\":\"#1f77b3\",\"line_width\":2,\"x\":{\"field\":\"Country_Name\"},\"y\":{\"field\":\"value\"}},\"id\":\"3775\",\"type\":\"Line\"},{\"attributes\":{},\"id\":\"3843\",\"type\":\"UnionRenderers\"},{\"attributes\":{\"align\":null,\"below\":[{\"id\":\"3743\"}],\"center\":[{\"id\":\"3745\"},{\"id\":\"3749\"}],\"left\":[{\"id\":\"3746\"}],\"margin\":null,\"min_border_bottom\":10,\"min_border_left\":10,\"min_border_right\":10,\"min_border_top\":10,\"plot_height\":300,\"plot_width\":700,\"renderers\":[{\"id\":\"3776\"},{\"id\":\"3793\"},{\"id\":\"3811\"},{\"id\":\"3831\"},{\"id\":\"3853\"}],\"right\":[{\"id\":\"3785\"}],\"sizing_mode\":\"fixed\",\"title\":{\"id\":\"3735\"},\"toolbar\":{\"id\":\"3756\"},\"x_range\":{\"id\":\"3727\"},\"x_scale\":{\"id\":\"3739\"},\"y_range\":{\"id\":\"3728\"},\"y_scale\":{\"id\":\"3741\"}},\"id\":\"3734\",\"subtype\":\"Figure\",\"type\":\"Plot\"},{\"attributes\":{\"callback\":null,\"renderers\":[{\"id\":\"3776\"},{\"id\":\"3793\"},{\"id\":\"3811\"},{\"id\":\"3831\"},{\"id\":\"3853\"}],\"tags\":[\"hv_created\"],\"tooltips\":[[\"Variable\",\"@{Variable}\"],[\"Country_Name\",\"@{Country_Name}\"],[\"value\",\"@{value}\"]]},\"id\":\"3729\",\"type\":\"HoverTool\"},{\"attributes\":{\"label\":{\"value\":\"2018\"},\"renderers\":[{\"id\":\"3831\"}]},\"id\":\"3846\",\"type\":\"LegendItem\"},{\"attributes\":{},\"id\":\"3754\",\"type\":\"ResetTool\"},{\"attributes\":{},\"id\":\"3867\",\"type\":\"UnionRenderers\"}],\"root_ids\":[\"3725\"]},\"title\":\"Bokeh Application\",\"version\":\"2.1.1\"}};\n",
       "  var render_items = [{\"docid\":\"1d63386f-dd2c-4c9d-952c-8d7d89e0c672\",\"root_ids\":[\"3725\"],\"roots\":{\"3725\":\"8ff8ac7e-f916-4d7f-b065-92eadfd85261\"}}];\n",
       "  root.Bokeh.embed.embed_items_notebook(docs_json, render_items);\n",
       "  }\n",
       "if (root.Bokeh !== undefined) {\n",
       "    embed_document(root);\n",
       "  } else {\n",
       "    var attempts = 0;\n",
       "    var timer = setInterval(function(root) {\n",
       "      if (root.Bokeh !== undefined) {\n",
       "        clearInterval(timer);\n",
       "        embed_document(root);\n",
       "      } else if (document.readyState == \"complete\") {\n",
       "        attempts++;\n",
       "        if (attempts > 100) {\n",
       "          clearInterval(timer);\n",
       "          console.log(\"Bokeh: ERROR: Unable to run BokehJS code because BokehJS library is missing\");\n",
       "        }\n",
       "      }\n",
       "    }, 10, root)\n",
       "  }\n",
       "})(window);</script>"
      ],
      "text/plain": [
       ":NdOverlay   [Variable]\n",
       "   :Curve   [Country_Name]   (value)"
      ]
     },
     "execution_count": 71,
     "metadata": {
      "application/vnd.holoviews_exec.v0+json": {
       "id": "3725"
      }
     },
     "output_type": "execute_result"
    }
   ],
   "source": [
    "adexp_country.hvplot(x=\"Country_Name\", y=[\"2015\", \"2016\", \"2017\", \"2018\", \"2019\"], \n",
    "                     title='Administrative Expenses',\n",
    "                     xlabel='Country Name',\n",
    "                     ylabel='Administrative Expenses',\n",
    "                     rot=90\n",
    "                     ).opts(yformatter=\"%.0f\")"
   ]
  },
  {
   "cell_type": "code",
   "execution_count": 72,
   "metadata": {},
   "outputs": [
    {
     "data": {
      "application/vnd.holoviews_exec.v0+json": "",
      "text/html": [
       "<div id='4083'>\n",
       "\n",
       "\n",
       "\n",
       "\n",
       "\n",
       "  <div class=\"bk-root\" id=\"dbef80ca-0472-411b-bc7b-85fde187015b\" data-root-id=\"4083\"></div>\n",
       "</div>\n",
       "<script type=\"application/javascript\">(function(root) {\n",
       "  function embed_document(root) {\n",
       "  var docs_json = {\"d956a871-fe55-4ee5-81e6-307eb874fc79\":{\"roots\":{\"references\":[{\"attributes\":{\"end\":190866429.1,\"reset_end\":190866429.1,\"reset_start\":0.0,\"tags\":[[[\"2015\",\"2015\",null]]]},\"id\":\"4086\",\"type\":\"Range1d\"},{\"attributes\":{\"factors\":[\"Afghanistan\",\"Albania\",\"Angola\",\"Costa Rica\",\"Ecuador\",\"Ethiopia\",\"Ghana\",\"Haiti\",\"Kenya\"],\"tags\":[[[\"Country_Name\",\"Country_Name\",null]]]},\"id\":\"4085\",\"type\":\"FactorRange\"},{\"attributes\":{},\"id\":\"4098\",\"type\":\"CategoricalTicker\"},{\"attributes\":{},\"id\":\"4104\",\"type\":\"SaveTool\"},{\"attributes\":{\"margin\":[5,5,5,5],\"name\":\"HSpacer09617\",\"sizing_mode\":\"stretch_width\"},\"id\":\"4084\",\"type\":\"Spacer\"},{\"attributes\":{\"axis\":{\"id\":\"4100\"},\"dimension\":1,\"grid_line_color\":null,\"ticker\":null},\"id\":\"4103\",\"type\":\"Grid\"},{\"attributes\":{},\"id\":\"4101\",\"type\":\"BasicTicker\"},{\"attributes\":{\"callback\":null,\"renderers\":[{\"id\":\"4123\"}],\"tags\":[\"hv_created\"],\"tooltips\":[[\"Country_Name\",\"@{Country_Name}\"],[\"2015\",\"@{A_2015}\"]]},\"id\":\"4087\",\"type\":\"HoverTool\"},{\"attributes\":{\"format\":\"%.0f\"},\"id\":\"4125\",\"type\":\"PrintfTickFormatter\"},{\"attributes\":{\"active_drag\":\"auto\",\"active_inspect\":\"auto\",\"active_multi\":null,\"active_scroll\":\"auto\",\"active_tap\":\"auto\",\"tools\":[{\"id\":\"4087\"},{\"id\":\"4104\"},{\"id\":\"4105\"},{\"id\":\"4106\"},{\"id\":\"4107\"},{\"id\":\"4108\"}]},\"id\":\"4110\",\"type\":\"Toolbar\"},{\"attributes\":{\"axis_label\":\"Amount\",\"bounds\":\"auto\",\"formatter\":{\"id\":\"4125\"},\"major_label_orientation\":\"horizontal\",\"ticker\":{\"id\":\"4101\"}},\"id\":\"4100\",\"type\":\"LinearAxis\"},{\"attributes\":{\"align\":null,\"below\":[{\"id\":\"4097\"}],\"center\":[{\"id\":\"4099\"},{\"id\":\"4103\"}],\"frame_height\":200,\"frame_width\":600,\"left\":[{\"id\":\"4100\"}],\"margin\":null,\"min_border_bottom\":10,\"min_border_left\":10,\"min_border_right\":10,\"min_border_top\":10,\"plot_height\":null,\"plot_width\":null,\"renderers\":[{\"id\":\"4123\"}],\"sizing_mode\":\"fixed\",\"title\":{\"id\":\"4089\"},\"toolbar\":{\"id\":\"4110\"},\"x_range\":{\"id\":\"4085\"},\"x_scale\":{\"id\":\"4093\"},\"y_range\":{\"id\":\"4086\"},\"y_scale\":{\"id\":\"4095\"}},\"id\":\"4088\",\"subtype\":\"Figure\",\"type\":\"Plot\"},{\"attributes\":{\"children\":[{\"id\":\"4084\"},{\"id\":\"4088\"},{\"id\":\"4146\"}],\"margin\":[0,0,0,0],\"name\":\"Row09613\",\"tags\":[\"embedded\"]},\"id\":\"4083\",\"type\":\"Row\"},{\"attributes\":{\"axis_label\":\"Country Name\",\"bounds\":\"auto\",\"formatter\":{\"id\":\"4126\"},\"major_label_orientation\":1.5707963267948966,\"ticker\":{\"id\":\"4098\"}},\"id\":\"4097\",\"type\":\"CategoricalAxis\"},{\"attributes\":{\"text\":\"Administrative Expenses\",\"text_color\":{\"value\":\"black\"},\"text_font_size\":{\"value\":\"12pt\"}},\"id\":\"4089\",\"type\":\"Title\"},{\"attributes\":{},\"id\":\"4126\",\"type\":\"CategoricalTickFormatter\"},{\"attributes\":{\"source\":{\"id\":\"4117\"}},\"id\":\"4124\",\"type\":\"CDSView\"},{\"attributes\":{\"data\":{\"A_2015\":{\"__ndarray__\":\"AAAAoBVDZEEAAAAA+91AQQAAAAAlLkJBAAAAAGMQSEEAAACua7CkQQAAAABooRlBAAAA2COWj0EAAAAgiqZkQQAAAPBsmJBB\",\"dtype\":\"float64\",\"order\":\"little\",\"shape\":[9]},\"Country_Name\":[\"Afghanistan\",\"Albania\",\"Angola\",\"Costa Rica\",\"Ecuador\",\"Ethiopia\",\"Ghana\",\"Haiti\",\"Kenya\"]},\"selected\":{\"id\":\"4118\"},\"selection_policy\":{\"id\":\"4136\"}},\"id\":\"4117\",\"type\":\"ColumnDataSource\"},{\"attributes\":{},\"id\":\"4118\",\"type\":\"Selection\"},{\"attributes\":{\"bottom_units\":\"screen\",\"fill_alpha\":0.5,\"fill_color\":\"lightgrey\",\"left_units\":\"screen\",\"level\":\"overlay\",\"line_alpha\":1.0,\"line_color\":\"black\",\"line_dash\":[4,4],\"line_width\":2,\"right_units\":\"screen\",\"top_units\":\"screen\"},\"id\":\"4109\",\"type\":\"BoxAnnotation\"},{\"attributes\":{\"axis\":{\"id\":\"4097\"},\"grid_line_color\":null,\"ticker\":null},\"id\":\"4099\",\"type\":\"Grid\"},{\"attributes\":{},\"id\":\"4108\",\"type\":\"ResetTool\"},{\"attributes\":{},\"id\":\"4105\",\"type\":\"PanTool\"},{\"attributes\":{\"fill_alpha\":{\"value\":0.1},\"fill_color\":{\"value\":\"#1f77b3\"},\"line_alpha\":{\"value\":0.1},\"top\":{\"field\":\"A_2015\"},\"width\":{\"value\":0.8},\"x\":{\"field\":\"Country_Name\"}},\"id\":\"4121\",\"type\":\"VBar\"},{\"attributes\":{},\"id\":\"4093\",\"type\":\"CategoricalScale\"},{\"attributes\":{},\"id\":\"4136\",\"type\":\"UnionRenderers\"},{\"attributes\":{},\"id\":\"4095\",\"type\":\"LinearScale\"},{\"attributes\":{\"fill_color\":{\"value\":\"#1f77b3\"},\"top\":{\"field\":\"A_2015\"},\"width\":{\"value\":0.8},\"x\":{\"field\":\"Country_Name\"}},\"id\":\"4120\",\"type\":\"VBar\"},{\"attributes\":{\"overlay\":{\"id\":\"4109\"}},\"id\":\"4107\",\"type\":\"BoxZoomTool\"},{\"attributes\":{\"fill_alpha\":{\"value\":0.2},\"fill_color\":{\"value\":\"#1f77b3\"},\"line_alpha\":{\"value\":0.2},\"top\":{\"field\":\"A_2015\"},\"width\":{\"value\":0.8},\"x\":{\"field\":\"Country_Name\"}},\"id\":\"4122\",\"type\":\"VBar\"},{\"attributes\":{\"data_source\":{\"id\":\"4117\"},\"glyph\":{\"id\":\"4120\"},\"hover_glyph\":null,\"muted_glyph\":{\"id\":\"4122\"},\"nonselection_glyph\":{\"id\":\"4121\"},\"selection_glyph\":null,\"view\":{\"id\":\"4124\"}},\"id\":\"4123\",\"type\":\"GlyphRenderer\"},{\"attributes\":{},\"id\":\"4106\",\"type\":\"WheelZoomTool\"},{\"attributes\":{\"margin\":[5,5,5,5],\"name\":\"HSpacer09618\",\"sizing_mode\":\"stretch_width\"},\"id\":\"4146\",\"type\":\"Spacer\"}],\"root_ids\":[\"4083\"]},\"title\":\"Bokeh Application\",\"version\":\"2.1.1\"}};\n",
       "  var render_items = [{\"docid\":\"d956a871-fe55-4ee5-81e6-307eb874fc79\",\"root_ids\":[\"4083\"],\"roots\":{\"4083\":\"dbef80ca-0472-411b-bc7b-85fde187015b\"}}];\n",
       "  root.Bokeh.embed.embed_items_notebook(docs_json, render_items);\n",
       "  }\n",
       "if (root.Bokeh !== undefined) {\n",
       "    embed_document(root);\n",
       "  } else {\n",
       "    var attempts = 0;\n",
       "    var timer = setInterval(function(root) {\n",
       "      if (root.Bokeh !== undefined) {\n",
       "        clearInterval(timer);\n",
       "        embed_document(root);\n",
       "      } else if (document.readyState == \"complete\") {\n",
       "        attempts++;\n",
       "        if (attempts > 100) {\n",
       "          clearInterval(timer);\n",
       "          console.log(\"Bokeh: ERROR: Unable to run BokehJS code because BokehJS library is missing\");\n",
       "        }\n",
       "      }\n",
       "    }, 10, root)\n",
       "  }\n",
       "})(window);</script>"
      ],
      "text/plain": [
       ":Bars   [Country_Name]   (2015)"
      ]
     },
     "execution_count": 72,
     "metadata": {
      "application/vnd.holoviews_exec.v0+json": {
       "id": "4083"
      }
     },
     "output_type": "execute_result"
    }
   ],
   "source": [
    "adexp_country.hvplot.bar(\n",
    "    x=\"Country_Name\", \n",
    "    y=\"2015\", \n",
    "    rot=90, \n",
    "    title='Administrative Expenses',\n",
    "    xlabel='Country Name', \n",
    "    ylabel='Amount',\n",
    "    frame_height=200,\n",
    "    frame_width=600,\n",
    "    ).opts(yformatter=\"%.0f\")"
   ]
  },
  {
   "cell_type": "code",
   "execution_count": 73,
   "metadata": {},
   "outputs": [
    {
     "data": {
      "text/html": [
       "<div>\n",
       "<style scoped>\n",
       "    .dataframe tbody tr th:only-of-type {\n",
       "        vertical-align: middle;\n",
       "    }\n",
       "\n",
       "    .dataframe tbody tr th {\n",
       "        vertical-align: top;\n",
       "    }\n",
       "\n",
       "    .dataframe thead th {\n",
       "        text-align: right;\n",
       "    }\n",
       "</style>\n",
       "<table border=\"1\" class=\"dataframe\">\n",
       "  <thead>\n",
       "    <tr style=\"text-align: right;\">\n",
       "      <th></th>\n",
       "      <th>Series_Code</th>\n",
       "      <th>2015</th>\n",
       "      <th>2016</th>\n",
       "      <th>2017</th>\n",
       "      <th>2018</th>\n",
       "      <th>2019</th>\n",
       "    </tr>\n",
       "    <tr>\n",
       "      <th>Country_Name</th>\n",
       "      <th></th>\n",
       "      <th></th>\n",
       "      <th></th>\n",
       "      <th></th>\n",
       "      <th></th>\n",
       "      <th></th>\n",
       "    </tr>\n",
       "  </thead>\n",
       "  <tbody>\n",
       "    <tr>\n",
       "      <th>Afghanistan</th>\n",
       "      <td>FA.MIX.LOAN.RU</td>\n",
       "      <td>27180188.0</td>\n",
       "      <td>34301378.0</td>\n",
       "      <td>28040097.0</td>\n",
       "      <td>32853124.0</td>\n",
       "      <td>0.0</td>\n",
       "    </tr>\n",
       "    <tr>\n",
       "      <th>Afghanistan</th>\n",
       "      <td>FA.MIX.LOAN.UR</td>\n",
       "      <td>85891941.0</td>\n",
       "      <td>105666626.0</td>\n",
       "      <td>113071944.0</td>\n",
       "      <td>106905676.0</td>\n",
       "      <td>0.0</td>\n",
       "    </tr>\n",
       "    <tr>\n",
       "      <th>Albania</th>\n",
       "      <td>FA.MIX.LOAN.RU</td>\n",
       "      <td>7947954.0</td>\n",
       "      <td>0.0</td>\n",
       "      <td>0.0</td>\n",
       "      <td>0.0</td>\n",
       "      <td>0.0</td>\n",
       "    </tr>\n",
       "    <tr>\n",
       "      <th>Albania</th>\n",
       "      <td>FA.MIX.LOAN.UR</td>\n",
       "      <td>44601815.0</td>\n",
       "      <td>0.0</td>\n",
       "      <td>0.0</td>\n",
       "      <td>0.0</td>\n",
       "      <td>0.0</td>\n",
       "    </tr>\n",
       "    <tr>\n",
       "      <th>Angola</th>\n",
       "      <td>FA.MIX.LOAN.RU</td>\n",
       "      <td>2564016.0</td>\n",
       "      <td>0.0</td>\n",
       "      <td>0.0</td>\n",
       "      <td>0.0</td>\n",
       "      <td>0.0</td>\n",
       "    </tr>\n",
       "  </tbody>\n",
       "</table>\n",
       "</div>"
      ],
      "text/plain": [
       "                 Series_Code        2015         2016         2017  \\\n",
       "Country_Name                                                         \n",
       "Afghanistan   FA.MIX.LOAN.RU  27180188.0   34301378.0   28040097.0   \n",
       "Afghanistan   FA.MIX.LOAN.UR  85891941.0  105666626.0  113071944.0   \n",
       "Albania       FA.MIX.LOAN.RU   7947954.0          0.0          0.0   \n",
       "Albania       FA.MIX.LOAN.UR  44601815.0          0.0          0.0   \n",
       "Angola        FA.MIX.LOAN.RU   2564016.0          0.0          0.0   \n",
       "\n",
       "                     2018  2019  \n",
       "Country_Name                     \n",
       "Afghanistan    32853124.0   0.0  \n",
       "Afghanistan   106905676.0   0.0  \n",
       "Albania               0.0   0.0  \n",
       "Albania               0.0   0.0  \n",
       "Angola                0.0   0.0  "
      ]
     },
     "execution_count": 73,
     "metadata": {},
     "output_type": "execute_result"
    }
   ],
   "source": [
    "table = ruur_country\n",
    "table.head()\n",
    "table.set_index(table['Country_Name'], inplace=True)\n",
    "table.drop(columns=['Country_Name'], inplace=True)\n",
    "#table.groupby(['Country_Name', 'Series_Code'])\n",
    "table.head()"
   ]
  },
  {
   "cell_type": "code",
   "execution_count": 74,
   "metadata": {},
   "outputs": [
    {
     "data": {
      "text/html": [
       "<div>\n",
       "<style scoped>\n",
       "    .dataframe tbody tr th:only-of-type {\n",
       "        vertical-align: middle;\n",
       "    }\n",
       "\n",
       "    .dataframe tbody tr th {\n",
       "        vertical-align: top;\n",
       "    }\n",
       "\n",
       "    .dataframe thead th {\n",
       "        text-align: right;\n",
       "    }\n",
       "</style>\n",
       "<table border=\"1\" class=\"dataframe\">\n",
       "  <thead>\n",
       "    <tr style=\"text-align: right;\">\n",
       "      <th></th>\n",
       "      <th>2015</th>\n",
       "      <th>2016</th>\n",
       "      <th>2017</th>\n",
       "      <th>2018</th>\n",
       "      <th>2019</th>\n",
       "    </tr>\n",
       "    <tr>\n",
       "      <th>Country_Name</th>\n",
       "      <th></th>\n",
       "      <th></th>\n",
       "      <th></th>\n",
       "      <th></th>\n",
       "      <th></th>\n",
       "    </tr>\n",
       "  </thead>\n",
       "  <tbody>\n",
       "    <tr>\n",
       "      <th>Afghanistan</th>\n",
       "      <td>5.653606e+07</td>\n",
       "      <td>6.998400e+07</td>\n",
       "      <td>7.055602e+07</td>\n",
       "      <td>6.987940e+07</td>\n",
       "      <td>0.0</td>\n",
       "    </tr>\n",
       "    <tr>\n",
       "      <th>Albania</th>\n",
       "      <td>2.627488e+07</td>\n",
       "      <td>0.000000e+00</td>\n",
       "      <td>0.000000e+00</td>\n",
       "      <td>0.000000e+00</td>\n",
       "      <td>0.0</td>\n",
       "    </tr>\n",
       "    <tr>\n",
       "      <th>Angola</th>\n",
       "      <td>7.367862e+06</td>\n",
       "      <td>0.000000e+00</td>\n",
       "      <td>0.000000e+00</td>\n",
       "      <td>0.000000e+00</td>\n",
       "      <td>0.0</td>\n",
       "    </tr>\n",
       "    <tr>\n",
       "      <th>Costa Rica</th>\n",
       "      <td>3.314397e+07</td>\n",
       "      <td>1.681107e+06</td>\n",
       "      <td>2.139999e+07</td>\n",
       "      <td>1.942426e+07</td>\n",
       "      <td>0.0</td>\n",
       "    </tr>\n",
       "    <tr>\n",
       "      <th>Ecuador</th>\n",
       "      <td>1.701425e+09</td>\n",
       "      <td>2.310678e+09</td>\n",
       "      <td>2.702163e+09</td>\n",
       "      <td>3.155884e+09</td>\n",
       "      <td>0.0</td>\n",
       "    </tr>\n",
       "  </tbody>\n",
       "</table>\n",
       "</div>"
      ],
      "text/plain": [
       "                      2015          2016          2017          2018  2019\n",
       "Country_Name                                                              \n",
       "Afghanistan   5.653606e+07  6.998400e+07  7.055602e+07  6.987940e+07   0.0\n",
       "Albania       2.627488e+07  0.000000e+00  0.000000e+00  0.000000e+00   0.0\n",
       "Angola        7.367862e+06  0.000000e+00  0.000000e+00  0.000000e+00   0.0\n",
       "Costa Rica    3.314397e+07  1.681107e+06  2.139999e+07  1.942426e+07   0.0\n",
       "Ecuador       1.701425e+09  2.310678e+09  2.702163e+09  3.155884e+09   0.0"
      ]
     },
     "execution_count": 74,
     "metadata": {},
     "output_type": "execute_result"
    }
   ],
   "source": [
    "table = ruur_country.groupby('Country_Name').mean()\n",
    "table.head()"
   ]
  },
  {
   "cell_type": "code",
   "execution_count": 75,
   "metadata": {},
   "outputs": [
    {
     "data": {
      "text/html": [
       "<div>\n",
       "<style scoped>\n",
       "    .dataframe tbody tr th:only-of-type {\n",
       "        vertical-align: middle;\n",
       "    }\n",
       "\n",
       "    .dataframe tbody tr th {\n",
       "        vertical-align: top;\n",
       "    }\n",
       "\n",
       "    .dataframe thead th {\n",
       "        text-align: right;\n",
       "    }\n",
       "</style>\n",
       "<table border=\"1\" class=\"dataframe\">\n",
       "  <thead>\n",
       "    <tr style=\"text-align: right;\">\n",
       "      <th></th>\n",
       "      <th></th>\n",
       "      <th>2015</th>\n",
       "      <th>2016</th>\n",
       "      <th>2017</th>\n",
       "      <th>2018</th>\n",
       "      <th>2019</th>\n",
       "    </tr>\n",
       "    <tr>\n",
       "      <th>Country_Name</th>\n",
       "      <th>Series_Code</th>\n",
       "      <th></th>\n",
       "      <th></th>\n",
       "      <th></th>\n",
       "      <th></th>\n",
       "      <th></th>\n",
       "    </tr>\n",
       "  </thead>\n",
       "  <tbody>\n",
       "    <tr>\n",
       "      <th rowspan=\"2\" valign=\"top\">Afghanistan</th>\n",
       "      <th>FA.MIX.LOAN.RU</th>\n",
       "      <td>2.718019e+07</td>\n",
       "      <td>3.430138e+07</td>\n",
       "      <td>2.804010e+07</td>\n",
       "      <td>3.285312e+07</td>\n",
       "      <td>0.0</td>\n",
       "    </tr>\n",
       "    <tr>\n",
       "      <th>FA.MIX.LOAN.UR</th>\n",
       "      <td>8.589194e+07</td>\n",
       "      <td>1.056666e+08</td>\n",
       "      <td>1.130719e+08</td>\n",
       "      <td>1.069057e+08</td>\n",
       "      <td>0.0</td>\n",
       "    </tr>\n",
       "    <tr>\n",
       "      <th rowspan=\"2\" valign=\"top\">Albania</th>\n",
       "      <th>FA.MIX.LOAN.RU</th>\n",
       "      <td>7.947954e+06</td>\n",
       "      <td>0.000000e+00</td>\n",
       "      <td>0.000000e+00</td>\n",
       "      <td>0.000000e+00</td>\n",
       "      <td>0.0</td>\n",
       "    </tr>\n",
       "    <tr>\n",
       "      <th>FA.MIX.LOAN.UR</th>\n",
       "      <td>4.460182e+07</td>\n",
       "      <td>0.000000e+00</td>\n",
       "      <td>0.000000e+00</td>\n",
       "      <td>0.000000e+00</td>\n",
       "      <td>0.0</td>\n",
       "    </tr>\n",
       "    <tr>\n",
       "      <th rowspan=\"2\" valign=\"top\">Angola</th>\n",
       "      <th>FA.MIX.LOAN.RU</th>\n",
       "      <td>2.564016e+06</td>\n",
       "      <td>0.000000e+00</td>\n",
       "      <td>0.000000e+00</td>\n",
       "      <td>0.000000e+00</td>\n",
       "      <td>0.0</td>\n",
       "    </tr>\n",
       "    <tr>\n",
       "      <th>FA.MIX.LOAN.UR</th>\n",
       "      <td>1.217171e+07</td>\n",
       "      <td>0.000000e+00</td>\n",
       "      <td>0.000000e+00</td>\n",
       "      <td>0.000000e+00</td>\n",
       "      <td>0.0</td>\n",
       "    </tr>\n",
       "    <tr>\n",
       "      <th rowspan=\"2\" valign=\"top\">Costa Rica</th>\n",
       "      <th>FA.MIX.LOAN.RU</th>\n",
       "      <td>3.334298e+07</td>\n",
       "      <td>3.362214e+06</td>\n",
       "      <td>2.838044e+07</td>\n",
       "      <td>2.674398e+07</td>\n",
       "      <td>0.0</td>\n",
       "    </tr>\n",
       "    <tr>\n",
       "      <th>FA.MIX.LOAN.UR</th>\n",
       "      <td>3.294496e+07</td>\n",
       "      <td>0.000000e+00</td>\n",
       "      <td>1.441954e+07</td>\n",
       "      <td>1.210455e+07</td>\n",
       "      <td>0.0</td>\n",
       "    </tr>\n",
       "    <tr>\n",
       "      <th rowspan=\"2\" valign=\"top\">Ecuador</th>\n",
       "      <th>FA.MIX.LOAN.RU</th>\n",
       "      <td>1.144997e+09</td>\n",
       "      <td>1.270396e+09</td>\n",
       "      <td>1.437765e+09</td>\n",
       "      <td>1.684718e+09</td>\n",
       "      <td>0.0</td>\n",
       "    </tr>\n",
       "    <tr>\n",
       "      <th>FA.MIX.LOAN.UR</th>\n",
       "      <td>2.257853e+09</td>\n",
       "      <td>3.350961e+09</td>\n",
       "      <td>3.966561e+09</td>\n",
       "      <td>4.627049e+09</td>\n",
       "      <td>0.0</td>\n",
       "    </tr>\n",
       "    <tr>\n",
       "      <th rowspan=\"2\" valign=\"top\">Ethiopia</th>\n",
       "      <th>FA.MIX.LOAN.RU</th>\n",
       "      <td>8.225334e+06</td>\n",
       "      <td>2.001261e+07</td>\n",
       "      <td>2.296229e+07</td>\n",
       "      <td>9.127657e+06</td>\n",
       "      <td>0.0</td>\n",
       "    </tr>\n",
       "    <tr>\n",
       "      <th>FA.MIX.LOAN.UR</th>\n",
       "      <td>4.039382e+06</td>\n",
       "      <td>1.059612e+07</td>\n",
       "      <td>1.214343e+07</td>\n",
       "      <td>4.741015e+06</td>\n",
       "      <td>0.0</td>\n",
       "    </tr>\n",
       "    <tr>\n",
       "      <th rowspan=\"2\" valign=\"top\">Ghana</th>\n",
       "      <th>FA.MIX.LOAN.RU</th>\n",
       "      <td>2.328637e+07</td>\n",
       "      <td>1.610804e+07</td>\n",
       "      <td>1.317301e+07</td>\n",
       "      <td>2.572037e+07</td>\n",
       "      <td>0.0</td>\n",
       "    </tr>\n",
       "    <tr>\n",
       "      <th>FA.MIX.LOAN.UR</th>\n",
       "      <td>3.959584e+07</td>\n",
       "      <td>4.328248e+07</td>\n",
       "      <td>3.185227e+07</td>\n",
       "      <td>3.909489e+07</td>\n",
       "      <td>0.0</td>\n",
       "    </tr>\n",
       "    <tr>\n",
       "      <th rowspan=\"2\" valign=\"top\">Haiti</th>\n",
       "      <th>FA.MIX.LOAN.RU</th>\n",
       "      <td>3.183088e+07</td>\n",
       "      <td>2.376313e+07</td>\n",
       "      <td>3.689044e+07</td>\n",
       "      <td>3.161636e+07</td>\n",
       "      <td>0.0</td>\n",
       "    </tr>\n",
       "    <tr>\n",
       "      <th>FA.MIX.LOAN.UR</th>\n",
       "      <td>3.359147e+07</td>\n",
       "      <td>2.848958e+07</td>\n",
       "      <td>5.235723e+07</td>\n",
       "      <td>3.045356e+07</td>\n",
       "      <td>0.0</td>\n",
       "    </tr>\n",
       "    <tr>\n",
       "      <th rowspan=\"2\" valign=\"top\">Kenya</th>\n",
       "      <th>FA.MIX.LOAN.RU</th>\n",
       "      <td>6.384746e+07</td>\n",
       "      <td>2.735522e+08</td>\n",
       "      <td>2.258597e+08</td>\n",
       "      <td>2.389510e+08</td>\n",
       "      <td>0.0</td>\n",
       "    </tr>\n",
       "    <tr>\n",
       "      <th>FA.MIX.LOAN.UR</th>\n",
       "      <td>1.068051e+08</td>\n",
       "      <td>1.928243e+08</td>\n",
       "      <td>1.559779e+08</td>\n",
       "      <td>5.119318e+07</td>\n",
       "      <td>0.0</td>\n",
       "    </tr>\n",
       "  </tbody>\n",
       "</table>\n",
       "</div>"
      ],
      "text/plain": [
       "                                     2015          2016          2017  \\\n",
       "Country_Name Series_Code                                                \n",
       "Afghanistan  FA.MIX.LOAN.RU  2.718019e+07  3.430138e+07  2.804010e+07   \n",
       "             FA.MIX.LOAN.UR  8.589194e+07  1.056666e+08  1.130719e+08   \n",
       "Albania      FA.MIX.LOAN.RU  7.947954e+06  0.000000e+00  0.000000e+00   \n",
       "             FA.MIX.LOAN.UR  4.460182e+07  0.000000e+00  0.000000e+00   \n",
       "Angola       FA.MIX.LOAN.RU  2.564016e+06  0.000000e+00  0.000000e+00   \n",
       "             FA.MIX.LOAN.UR  1.217171e+07  0.000000e+00  0.000000e+00   \n",
       "Costa Rica   FA.MIX.LOAN.RU  3.334298e+07  3.362214e+06  2.838044e+07   \n",
       "             FA.MIX.LOAN.UR  3.294496e+07  0.000000e+00  1.441954e+07   \n",
       "Ecuador      FA.MIX.LOAN.RU  1.144997e+09  1.270396e+09  1.437765e+09   \n",
       "             FA.MIX.LOAN.UR  2.257853e+09  3.350961e+09  3.966561e+09   \n",
       "Ethiopia     FA.MIX.LOAN.RU  8.225334e+06  2.001261e+07  2.296229e+07   \n",
       "             FA.MIX.LOAN.UR  4.039382e+06  1.059612e+07  1.214343e+07   \n",
       "Ghana        FA.MIX.LOAN.RU  2.328637e+07  1.610804e+07  1.317301e+07   \n",
       "             FA.MIX.LOAN.UR  3.959584e+07  4.328248e+07  3.185227e+07   \n",
       "Haiti        FA.MIX.LOAN.RU  3.183088e+07  2.376313e+07  3.689044e+07   \n",
       "             FA.MIX.LOAN.UR  3.359147e+07  2.848958e+07  5.235723e+07   \n",
       "Kenya        FA.MIX.LOAN.RU  6.384746e+07  2.735522e+08  2.258597e+08   \n",
       "             FA.MIX.LOAN.UR  1.068051e+08  1.928243e+08  1.559779e+08   \n",
       "\n",
       "                                     2018  2019  \n",
       "Country_Name Series_Code                         \n",
       "Afghanistan  FA.MIX.LOAN.RU  3.285312e+07   0.0  \n",
       "             FA.MIX.LOAN.UR  1.069057e+08   0.0  \n",
       "Albania      FA.MIX.LOAN.RU  0.000000e+00   0.0  \n",
       "             FA.MIX.LOAN.UR  0.000000e+00   0.0  \n",
       "Angola       FA.MIX.LOAN.RU  0.000000e+00   0.0  \n",
       "             FA.MIX.LOAN.UR  0.000000e+00   0.0  \n",
       "Costa Rica   FA.MIX.LOAN.RU  2.674398e+07   0.0  \n",
       "             FA.MIX.LOAN.UR  1.210455e+07   0.0  \n",
       "Ecuador      FA.MIX.LOAN.RU  1.684718e+09   0.0  \n",
       "             FA.MIX.LOAN.UR  4.627049e+09   0.0  \n",
       "Ethiopia     FA.MIX.LOAN.RU  9.127657e+06   0.0  \n",
       "             FA.MIX.LOAN.UR  4.741015e+06   0.0  \n",
       "Ghana        FA.MIX.LOAN.RU  2.572037e+07   0.0  \n",
       "             FA.MIX.LOAN.UR  3.909489e+07   0.0  \n",
       "Haiti        FA.MIX.LOAN.RU  3.161636e+07   0.0  \n",
       "             FA.MIX.LOAN.UR  3.045356e+07   0.0  \n",
       "Kenya        FA.MIX.LOAN.RU  2.389510e+08   0.0  \n",
       "             FA.MIX.LOAN.UR  5.119318e+07   0.0  "
      ]
     },
     "execution_count": 75,
     "metadata": {},
     "output_type": "execute_result"
    }
   ],
   "source": [
    "table = ruur_country.groupby(['Country_Name', 'Series_Code']).mean()\n",
    "table"
   ]
  },
  {
   "cell_type": "code",
   "execution_count": 76,
   "metadata": {},
   "outputs": [
    {
     "data": {
      "application/vnd.holoviews_exec.v0+json": "",
      "text/html": [
       "<div id='4183'>\n",
       "\n",
       "\n",
       "\n",
       "\n",
       "\n",
       "  <div class=\"bk-root\" id=\"068c6b09-af80-4ad8-b373-515e60f2f462\" data-root-id=\"4183\"></div>\n",
       "</div>\n",
       "<script type=\"application/javascript\">(function(root) {\n",
       "  function embed_document(root) {\n",
       "  var docs_json = {\"4fcea5c1-a3fe-4605-bc24-c484c52bffe2\":{\"roots\":{\"references\":[{\"attributes\":{\"format\":\"%.0f\"},\"id\":\"4236\",\"type\":\"PrintfTickFormatter\"},{\"attributes\":{},\"id\":\"4204\",\"type\":\"SaveTool\"},{\"attributes\":{\"axis_label\":\"2015\",\"bounds\":\"auto\",\"formatter\":{\"id\":\"4236\"},\"major_label_orientation\":\"horizontal\",\"ticker\":{\"id\":\"4201\"}},\"id\":\"4200\",\"type\":\"LinearAxis\"},{\"attributes\":{},\"id\":\"4228\",\"type\":\"CategoricalTickFormatter\"},{\"attributes\":{\"margin\":[5,5,5,5],\"name\":\"HSpacer09815\",\"sizing_mode\":\"stretch_width\"},\"id\":\"4184\",\"type\":\"Spacer\"},{\"attributes\":{\"items\":[{\"id\":\"4235\"}],\"location\":\"top_left\"},\"id\":\"4234\",\"type\":\"Legend\"},{\"attributes\":{\"active_drag\":\"auto\",\"active_inspect\":\"auto\",\"active_multi\":null,\"active_scroll\":\"auto\",\"active_tap\":\"auto\",\"tools\":[{\"id\":\"4187\"},{\"id\":\"4204\"},{\"id\":\"4205\"},{\"id\":\"4206\"},{\"id\":\"4207\"},{\"id\":\"4208\"}]},\"id\":\"4210\",\"type\":\"Toolbar\"},{\"attributes\":{\"axis_label\":\"Country Name\",\"bounds\":\"auto\",\"formatter\":{\"id\":\"4228\"},\"major_label_orientation\":\"horizontal\",\"ticker\":{\"id\":\"4198\"}},\"id\":\"4197\",\"type\":\"CategoricalAxis\"},{\"attributes\":{},\"id\":\"4231\",\"type\":\"UnionRenderers\"},{\"attributes\":{},\"id\":\"4198\",\"type\":\"CategoricalTicker\"},{\"attributes\":{\"factors\":[\"Afghanistan\",\"Albania\",\"Angola\",\"Costa Rica\",\"Ecuador\",\"Ethiopia\",\"Ghana\",\"Haiti\",\"Kenya\"],\"tags\":[[[\"Country_Name\",\"Country_Name\",null]]]},\"id\":\"4185\",\"type\":\"FactorRange\"},{\"attributes\":{\"data\":{\"A_2015\":{\"__ndarray__\":\"AAAAwMnreUEAAAAANlt+QQAAAAAmNXZBAAAAgI1gX0EAAAAQ4XGOQQAAADBgzH9BAACAJdEP0UEAAAAA2I9DQQAAAICsUV5BAAAAwDNrf0EAAOAZg9LgQQAAALiORIVBAAAAAGvRTkEAAAD4eeGCQQAAAJRtepRBAAAAUIUEgEEAAACANzdnQQAAAGTddplB\",\"dtype\":\"float64\",\"order\":\"little\",\"shape\":[18]},\"Country_Name\":[\"Afghanistan\",\"Haiti\",\"Ghana\",\"Ethiopia\",\"Kenya\",\"Costa Rica\",\"Ecuador\",\"Angola\",\"Albania\",\"Costa Rica\",\"Ecuador\",\"Albania\",\"Ethiopia\",\"Ghana\",\"Afghanistan\",\"Haiti\",\"Angola\",\"Kenya\"],\"Series_Code\":[\"FA.MIX.LOAN.RU\",\"FA.MIX.LOAN.RU\",\"FA.MIX.LOAN.RU\",\"FA.MIX.LOAN.RU\",\"FA.MIX.LOAN.RU\",\"FA.MIX.LOAN.RU\",\"FA.MIX.LOAN.RU\",\"FA.MIX.LOAN.RU\",\"FA.MIX.LOAN.RU\",\"FA.MIX.LOAN.UR\",\"FA.MIX.LOAN.UR\",\"FA.MIX.LOAN.UR\",\"FA.MIX.LOAN.UR\",\"FA.MIX.LOAN.UR\",\"FA.MIX.LOAN.UR\",\"FA.MIX.LOAN.UR\",\"FA.MIX.LOAN.UR\",\"FA.MIX.LOAN.UR\"],\"bottom\":{\"__ndarray__\":\"AAAAAAAAAAAAAAAAAAAAAAAAAAAAAAAAAAAAAAAAAAAAAAAAAAAAAAAAAAAAAAAAAAAAAAAAAAAAAAAAAAAAAAAAAAAAAAAAAAAAMGDMf0EAAIAl0Q/RQQAAAICsUV5BAAAAgI1gX0EAAAAAJjV2QQAAAMDJ63lBAAAAADZbfkEAAAAA2I9DQQAAABDhcY5B\",\"dtype\":\"float64\",\"order\":\"little\",\"shape\":[18]},\"top\":{\"__ndarray__\":\"AAAAwMnreUEAAAAANlt+QQAAAAAmNXZBAAAAgI1gX0EAAAAQ4XGOQQAAADBgzH9BAACAJdEP0UEAAAAA2I9DQQAAAICsUV5BAAAA+Mmbj0EAAKCsa1rpQQAAAEjEDolBAAAAgKFkZ0EAAAD4DPyNQQAAAARg9ZpBAAAAUCAyj0EAAACALRtsQQAAAPbmV6RB\",\"dtype\":\"float64\",\"order\":\"little\",\"shape\":[18]}},\"selected\":{\"id\":\"4219\"},\"selection_policy\":{\"id\":\"4231\"}},\"id\":\"4218\",\"type\":\"ColumnDataSource\"},{\"attributes\":{\"overlay\":{\"id\":\"4209\"}},\"id\":\"4207\",\"type\":\"BoxZoomTool\"},{\"attributes\":{\"label\":{\"field\":\"Series_Code\"},\"renderers\":[{\"id\":\"4224\"}]},\"id\":\"4235\",\"type\":\"LegendItem\"},{\"attributes\":{},\"id\":\"4193\",\"type\":\"CategoricalScale\"},{\"attributes\":{},\"id\":\"4205\",\"type\":\"PanTool\"},{\"attributes\":{\"align\":null,\"below\":[{\"id\":\"4197\"}],\"center\":[{\"id\":\"4199\"},{\"id\":\"4203\"},{\"id\":\"4234\"}],\"left\":[{\"id\":\"4200\"}],\"margin\":null,\"min_border_bottom\":10,\"min_border_left\":10,\"min_border_right\":10,\"min_border_top\":10,\"plot_height\":500,\"plot_width\":700,\"renderers\":[{\"id\":\"4224\"}],\"sizing_mode\":\"fixed\",\"title\":{\"id\":\"4189\"},\"toolbar\":{\"id\":\"4210\"},\"x_range\":{\"id\":\"4185\"},\"x_scale\":{\"id\":\"4193\"},\"y_range\":{\"id\":\"4186\"},\"y_scale\":{\"id\":\"4195\"}},\"id\":\"4188\",\"subtype\":\"Figure\",\"type\":\"Plot\"},{\"attributes\":{},\"id\":\"4195\",\"type\":\"LinearScale\"},{\"attributes\":{\"bottom\":{\"field\":\"bottom\"},\"fill_color\":{\"field\":\"Series_Code\",\"transform\":{\"id\":\"4217\"}},\"top\":{\"field\":\"top\"},\"width\":{\"value\":0.8},\"x\":{\"field\":\"Country_Name\"}},\"id\":\"4221\",\"type\":\"VBar\"},{\"attributes\":{},\"id\":\"4219\",\"type\":\"Selection\"},{\"attributes\":{\"factors\":[\"FA.MIX.LOAN.RU\",\"FA.MIX.LOAN.UR\"],\"palette\":[\"#1f77b3\",\"#ff7e0e\"]},\"id\":\"4217\",\"type\":\"CategoricalColorMapper\"},{\"attributes\":{\"axis\":{\"id\":\"4200\"},\"dimension\":1,\"grid_line_color\":null,\"ticker\":null},\"id\":\"4203\",\"type\":\"Grid\"},{\"attributes\":{\"source\":{\"id\":\"4218\"}},\"id\":\"4225\",\"type\":\"CDSView\"},{\"attributes\":{},\"id\":\"4208\",\"type\":\"ResetTool\"},{\"attributes\":{\"text\":\"\",\"text_color\":{\"value\":\"black\"},\"text_font_size\":{\"value\":\"12pt\"}},\"id\":\"4189\",\"type\":\"Title\"},{\"attributes\":{\"data_source\":{\"id\":\"4218\"},\"glyph\":{\"id\":\"4221\"},\"hover_glyph\":null,\"muted_glyph\":{\"id\":\"4223\"},\"nonselection_glyph\":{\"id\":\"4222\"},\"selection_glyph\":null,\"view\":{\"id\":\"4225\"}},\"id\":\"4224\",\"type\":\"GlyphRenderer\"},{\"attributes\":{\"end\":3741908129.1,\"reset_end\":3741908129.1,\"reset_start\":0.0,\"tags\":[[[\"2015\",\"2015\",null]]]},\"id\":\"4186\",\"type\":\"Range1d\"},{\"attributes\":{\"margin\":[5,5,5,5],\"name\":\"HSpacer09816\",\"sizing_mode\":\"stretch_width\"},\"id\":\"4257\",\"type\":\"Spacer\"},{\"attributes\":{\"bottom\":{\"field\":\"bottom\"},\"fill_alpha\":{\"value\":0.2},\"fill_color\":{\"field\":\"Series_Code\",\"transform\":{\"id\":\"4217\"}},\"line_alpha\":{\"value\":0.2},\"top\":{\"field\":\"top\"},\"width\":{\"value\":0.8},\"x\":{\"field\":\"Country_Name\"}},\"id\":\"4223\",\"type\":\"VBar\"},{\"attributes\":{},\"id\":\"4206\",\"type\":\"WheelZoomTool\"},{\"attributes\":{\"bottom_units\":\"screen\",\"fill_alpha\":0.5,\"fill_color\":\"lightgrey\",\"left_units\":\"screen\",\"level\":\"overlay\",\"line_alpha\":1.0,\"line_color\":\"black\",\"line_dash\":[4,4],\"line_width\":2,\"right_units\":\"screen\",\"top_units\":\"screen\"},\"id\":\"4209\",\"type\":\"BoxAnnotation\"},{\"attributes\":{},\"id\":\"4201\",\"type\":\"BasicTicker\"},{\"attributes\":{\"callback\":null,\"renderers\":[{\"id\":\"4224\"}],\"tags\":[\"hv_created\"],\"tooltips\":[[\"Country_Name\",\"@{Country_Name}\"],[\"Series_Code\",\"@{Series_Code}\"],[\"2015\",\"@{A_2015}\"]]},\"id\":\"4187\",\"type\":\"HoverTool\"},{\"attributes\":{\"bottom\":{\"field\":\"bottom\"},\"fill_alpha\":{\"value\":0.1},\"fill_color\":{\"field\":\"Series_Code\",\"transform\":{\"id\":\"4217\"}},\"line_alpha\":{\"value\":0.1},\"top\":{\"field\":\"top\"},\"width\":{\"value\":0.8},\"x\":{\"field\":\"Country_Name\"}},\"id\":\"4222\",\"type\":\"VBar\"},{\"attributes\":{\"axis\":{\"id\":\"4197\"},\"grid_line_color\":null,\"ticker\":null},\"id\":\"4199\",\"type\":\"Grid\"},{\"attributes\":{\"children\":[{\"id\":\"4184\"},{\"id\":\"4188\"},{\"id\":\"4257\"}],\"margin\":[0,0,0,0],\"name\":\"Row09811\",\"tags\":[\"embedded\"]},\"id\":\"4183\",\"type\":\"Row\"}],\"root_ids\":[\"4183\"]},\"title\":\"Bokeh Application\",\"version\":\"2.1.1\"}};\n",
       "  var render_items = [{\"docid\":\"4fcea5c1-a3fe-4605-bc24-c484c52bffe2\",\"root_ids\":[\"4183\"],\"roots\":{\"4183\":\"068c6b09-af80-4ad8-b373-515e60f2f462\"}}];\n",
       "  root.Bokeh.embed.embed_items_notebook(docs_json, render_items);\n",
       "  }\n",
       "if (root.Bokeh !== undefined) {\n",
       "    embed_document(root);\n",
       "  } else {\n",
       "    var attempts = 0;\n",
       "    var timer = setInterval(function(root) {\n",
       "      if (root.Bokeh !== undefined) {\n",
       "        clearInterval(timer);\n",
       "        embed_document(root);\n",
       "      } else if (document.readyState == \"complete\") {\n",
       "        attempts++;\n",
       "        if (attempts > 100) {\n",
       "          clearInterval(timer);\n",
       "          console.log(\"Bokeh: ERROR: Unable to run BokehJS code because BokehJS library is missing\");\n",
       "        }\n",
       "      }\n",
       "    }, 10, root)\n",
       "  }\n",
       "})(window);</script>"
      ],
      "text/plain": [
       ":Bars   [Country_Name,Series_Code]   (2015)"
      ]
     },
     "execution_count": 76,
     "metadata": {
      "application/vnd.holoviews_exec.v0+json": {
       "id": "4183"
      }
     },
     "output_type": "execute_result"
    }
   ],
   "source": [
    "table.hvplot.bar(stacked=True, height=500, legend='top_left', xlabel=\"Country Name\").opts(yformatter=\"%.0f\")"
   ]
  },
  {
   "cell_type": "code",
   "execution_count": 77,
   "metadata": {},
   "outputs": [
    {
     "data": {
      "text/html": [
       "<div>\n",
       "<style scoped>\n",
       "    .dataframe tbody tr th:only-of-type {\n",
       "        vertical-align: middle;\n",
       "    }\n",
       "\n",
       "    .dataframe tbody tr th {\n",
       "        vertical-align: top;\n",
       "    }\n",
       "\n",
       "    .dataframe thead th {\n",
       "        text-align: right;\n",
       "    }\n",
       "</style>\n",
       "<table border=\"1\" class=\"dataframe\">\n",
       "  <thead>\n",
       "    <tr style=\"text-align: right;\">\n",
       "      <th></th>\n",
       "      <th>country_code</th>\n",
       "      <th>latitude</th>\n",
       "      <th>longitude</th>\n",
       "      <th>country</th>\n",
       "      <th>usa_state_code</th>\n",
       "      <th>usa_state_latitude</th>\n",
       "      <th>usa_state_longitude</th>\n",
       "      <th>usa_state</th>\n",
       "    </tr>\n",
       "  </thead>\n",
       "  <tbody>\n",
       "    <tr>\n",
       "      <th>0</th>\n",
       "      <td>AD</td>\n",
       "      <td>42.546245</td>\n",
       "      <td>1.601554</td>\n",
       "      <td>Andorra</td>\n",
       "      <td>AK</td>\n",
       "      <td>63.588753</td>\n",
       "      <td>-154.493062</td>\n",
       "      <td>Alaska</td>\n",
       "    </tr>\n",
       "    <tr>\n",
       "      <th>1</th>\n",
       "      <td>AE</td>\n",
       "      <td>23.424076</td>\n",
       "      <td>53.847818</td>\n",
       "      <td>United Arab Emirates</td>\n",
       "      <td>AL</td>\n",
       "      <td>32.318231</td>\n",
       "      <td>-86.902298</td>\n",
       "      <td>Alabama</td>\n",
       "    </tr>\n",
       "    <tr>\n",
       "      <th>2</th>\n",
       "      <td>AF</td>\n",
       "      <td>33.939110</td>\n",
       "      <td>67.709953</td>\n",
       "      <td>Afghanistan</td>\n",
       "      <td>AR</td>\n",
       "      <td>35.201050</td>\n",
       "      <td>-91.831833</td>\n",
       "      <td>Arkansas</td>\n",
       "    </tr>\n",
       "    <tr>\n",
       "      <th>3</th>\n",
       "      <td>AG</td>\n",
       "      <td>17.060816</td>\n",
       "      <td>-61.796428</td>\n",
       "      <td>Antigua and Barbuda</td>\n",
       "      <td>AZ</td>\n",
       "      <td>34.048928</td>\n",
       "      <td>-111.093731</td>\n",
       "      <td>Arizona</td>\n",
       "    </tr>\n",
       "    <tr>\n",
       "      <th>4</th>\n",
       "      <td>AI</td>\n",
       "      <td>18.220554</td>\n",
       "      <td>-63.068615</td>\n",
       "      <td>Anguilla</td>\n",
       "      <td>CA</td>\n",
       "      <td>36.778261</td>\n",
       "      <td>-119.417932</td>\n",
       "      <td>California</td>\n",
       "    </tr>\n",
       "  </tbody>\n",
       "</table>\n",
       "</div>"
      ],
      "text/plain": [
       "  country_code   latitude  longitude               country usa_state_code  \\\n",
       "0           AD  42.546245   1.601554               Andorra             AK   \n",
       "1           AE  23.424076  53.847818  United Arab Emirates             AL   \n",
       "2           AF  33.939110  67.709953           Afghanistan             AR   \n",
       "3           AG  17.060816 -61.796428   Antigua and Barbuda             AZ   \n",
       "4           AI  18.220554 -63.068615              Anguilla             CA   \n",
       "\n",
       "   usa_state_latitude  usa_state_longitude   usa_state  \n",
       "0           63.588753          -154.493062      Alaska  \n",
       "1           32.318231           -86.902298     Alabama  \n",
       "2           35.201050           -91.831833    Arkansas  \n",
       "3           34.048928          -111.093731     Arizona  \n",
       "4           36.778261          -119.417932  California  "
      ]
     },
     "execution_count": 77,
     "metadata": {},
     "output_type": "execute_result"
    }
   ],
   "source": [
    "file_path = Path(\"Data/world_country_latitude_and_longitude_values.csv\")\n",
    "country_latlong = pd.read_csv(file_path)\n",
    "country_latlong.head()"
   ]
  },
  {
   "cell_type": "code",
   "execution_count": 78,
   "metadata": {},
   "outputs": [
    {
     "data": {
      "text/html": [
       "<div>\n",
       "<style scoped>\n",
       "    .dataframe tbody tr th:only-of-type {\n",
       "        vertical-align: middle;\n",
       "    }\n",
       "\n",
       "    .dataframe tbody tr th {\n",
       "        vertical-align: top;\n",
       "    }\n",
       "\n",
       "    .dataframe thead th {\n",
       "        text-align: right;\n",
       "    }\n",
       "</style>\n",
       "<table border=\"1\" class=\"dataframe\">\n",
       "  <thead>\n",
       "    <tr style=\"text-align: right;\">\n",
       "      <th></th>\n",
       "      <th>country</th>\n",
       "      <th>latitude</th>\n",
       "      <th>longitude</th>\n",
       "    </tr>\n",
       "  </thead>\n",
       "  <tbody>\n",
       "    <tr>\n",
       "      <th>0</th>\n",
       "      <td>Andorra</td>\n",
       "      <td>42.546245</td>\n",
       "      <td>1.601554</td>\n",
       "    </tr>\n",
       "    <tr>\n",
       "      <th>1</th>\n",
       "      <td>United Arab Emirates</td>\n",
       "      <td>23.424076</td>\n",
       "      <td>53.847818</td>\n",
       "    </tr>\n",
       "    <tr>\n",
       "      <th>2</th>\n",
       "      <td>Afghanistan</td>\n",
       "      <td>33.939110</td>\n",
       "      <td>67.709953</td>\n",
       "    </tr>\n",
       "    <tr>\n",
       "      <th>3</th>\n",
       "      <td>Antigua and Barbuda</td>\n",
       "      <td>17.060816</td>\n",
       "      <td>-61.796428</td>\n",
       "    </tr>\n",
       "    <tr>\n",
       "      <th>4</th>\n",
       "      <td>Anguilla</td>\n",
       "      <td>18.220554</td>\n",
       "      <td>-63.068615</td>\n",
       "    </tr>\n",
       "  </tbody>\n",
       "</table>\n",
       "</div>"
      ],
      "text/plain": [
       "                country   latitude  longitude\n",
       "0               Andorra  42.546245   1.601554\n",
       "1  United Arab Emirates  23.424076  53.847818\n",
       "2           Afghanistan  33.939110  67.709953\n",
       "3   Antigua and Barbuda  17.060816 -61.796428\n",
       "4              Anguilla  18.220554 -63.068615"
      ]
     },
     "execution_count": 78,
     "metadata": {},
     "output_type": "execute_result"
    }
   ],
   "source": [
    "country_coordinates = country_latlong[[\"country\", \"latitude\", \"longitude\"]]\n",
    "country_coordinates.head()"
   ]
  },
  {
   "cell_type": "code",
   "execution_count": 79,
   "metadata": {},
   "outputs": [
    {
     "name": "stderr",
     "output_type": "stream",
     "text": [
      "C:\\Users\\deepa\\anaconda3\\envs\\pyvizenv\\lib\\site-packages\\pandas\\core\\frame.py:4025: SettingWithCopyWarning:\n",
      "\n",
      "\n",
      "A value is trying to be set on a copy of a slice from a DataFrame\n",
      "\n",
      "See the caveats in the documentation: http://pandas.pydata.org/pandas-docs/stable/indexing.html#indexing-view-versus-copy\n",
      "\n"
     ]
    },
    {
     "data": {
      "text/html": [
       "<div>\n",
       "<style scoped>\n",
       "    .dataframe tbody tr th:only-of-type {\n",
       "        vertical-align: middle;\n",
       "    }\n",
       "\n",
       "    .dataframe tbody tr th {\n",
       "        vertical-align: top;\n",
       "    }\n",
       "\n",
       "    .dataframe thead th {\n",
       "        text-align: right;\n",
       "    }\n",
       "</style>\n",
       "<table border=\"1\" class=\"dataframe\">\n",
       "  <thead>\n",
       "    <tr style=\"text-align: right;\">\n",
       "      <th></th>\n",
       "      <th>Country_Name</th>\n",
       "      <th>latitude</th>\n",
       "      <th>longitude</th>\n",
       "    </tr>\n",
       "  </thead>\n",
       "  <tbody>\n",
       "    <tr>\n",
       "      <th>0</th>\n",
       "      <td>Andorra</td>\n",
       "      <td>42.546245</td>\n",
       "      <td>1.601554</td>\n",
       "    </tr>\n",
       "    <tr>\n",
       "      <th>1</th>\n",
       "      <td>United Arab Emirates</td>\n",
       "      <td>23.424076</td>\n",
       "      <td>53.847818</td>\n",
       "    </tr>\n",
       "    <tr>\n",
       "      <th>2</th>\n",
       "      <td>Afghanistan</td>\n",
       "      <td>33.939110</td>\n",
       "      <td>67.709953</td>\n",
       "    </tr>\n",
       "    <tr>\n",
       "      <th>3</th>\n",
       "      <td>Antigua and Barbuda</td>\n",
       "      <td>17.060816</td>\n",
       "      <td>-61.796428</td>\n",
       "    </tr>\n",
       "    <tr>\n",
       "      <th>4</th>\n",
       "      <td>Anguilla</td>\n",
       "      <td>18.220554</td>\n",
       "      <td>-63.068615</td>\n",
       "    </tr>\n",
       "  </tbody>\n",
       "</table>\n",
       "</div>"
      ],
      "text/plain": [
       "           Country_Name   latitude  longitude\n",
       "0               Andorra  42.546245   1.601554\n",
       "1  United Arab Emirates  23.424076  53.847818\n",
       "2           Afghanistan  33.939110  67.709953\n",
       "3   Antigua and Barbuda  17.060816 -61.796428\n",
       "4              Anguilla  18.220554 -63.068615"
      ]
     },
     "execution_count": 79,
     "metadata": {},
     "output_type": "execute_result"
    }
   ],
   "source": [
    "country_coordinates.rename(columns={'country':'Country_Name'}, inplace=True)\n",
    "country_coordinates.head()"
   ]
  },
  {
   "cell_type": "code",
   "execution_count": 80,
   "metadata": {},
   "outputs": [
    {
     "data": {
      "text/html": [
       "<div>\n",
       "<style scoped>\n",
       "    .dataframe tbody tr th:only-of-type {\n",
       "        vertical-align: middle;\n",
       "    }\n",
       "\n",
       "    .dataframe tbody tr th {\n",
       "        vertical-align: top;\n",
       "    }\n",
       "\n",
       "    .dataframe thead th {\n",
       "        text-align: right;\n",
       "    }\n",
       "</style>\n",
       "<table border=\"1\" class=\"dataframe\">\n",
       "  <thead>\n",
       "    <tr style=\"text-align: right;\">\n",
       "      <th></th>\n",
       "      <th>Country_Name</th>\n",
       "      <th>2015</th>\n",
       "      <th>2016</th>\n",
       "      <th>2017</th>\n",
       "      <th>2018</th>\n",
       "      <th>2019</th>\n",
       "      <th>latitude</th>\n",
       "      <th>longitude</th>\n",
       "    </tr>\n",
       "  </thead>\n",
       "  <tbody>\n",
       "    <tr>\n",
       "      <th>0</th>\n",
       "      <td>Afghanistan</td>\n",
       "      <td>141401.0</td>\n",
       "      <td>143299.0</td>\n",
       "      <td>169333.0</td>\n",
       "      <td>153572.0</td>\n",
       "      <td>0.0</td>\n",
       "      <td>33.939110</td>\n",
       "      <td>67.709953</td>\n",
       "    </tr>\n",
       "    <tr>\n",
       "      <th>1</th>\n",
       "      <td>Albania</td>\n",
       "      <td>31184.0</td>\n",
       "      <td>0.0</td>\n",
       "      <td>0.0</td>\n",
       "      <td>0.0</td>\n",
       "      <td>0.0</td>\n",
       "      <td>41.153332</td>\n",
       "      <td>20.168331</td>\n",
       "    </tr>\n",
       "    <tr>\n",
       "      <th>2</th>\n",
       "      <td>Angola</td>\n",
       "      <td>21919.0</td>\n",
       "      <td>22051.0</td>\n",
       "      <td>0.0</td>\n",
       "      <td>0.0</td>\n",
       "      <td>0.0</td>\n",
       "      <td>-11.202692</td>\n",
       "      <td>17.873887</td>\n",
       "    </tr>\n",
       "    <tr>\n",
       "      <th>3</th>\n",
       "      <td>Costa Rica</td>\n",
       "      <td>25749.0</td>\n",
       "      <td>8248.0</td>\n",
       "      <td>0.0</td>\n",
       "      <td>17347.0</td>\n",
       "      <td>0.0</td>\n",
       "      <td>9.748917</td>\n",
       "      <td>-83.753428</td>\n",
       "    </tr>\n",
       "    <tr>\n",
       "      <th>4</th>\n",
       "      <td>Ecuador</td>\n",
       "      <td>1588138.0</td>\n",
       "      <td>1376606.0</td>\n",
       "      <td>1315537.0</td>\n",
       "      <td>1356194.0</td>\n",
       "      <td>0.0</td>\n",
       "      <td>-1.831239</td>\n",
       "      <td>-78.183406</td>\n",
       "    </tr>\n",
       "  </tbody>\n",
       "</table>\n",
       "</div>"
      ],
      "text/plain": [
       "  Country_Name       2015       2016       2017       2018  2019   latitude  \\\n",
       "0  Afghanistan   141401.0   143299.0   169333.0   153572.0   0.0  33.939110   \n",
       "1      Albania    31184.0        0.0        0.0        0.0   0.0  41.153332   \n",
       "2       Angola    21919.0    22051.0        0.0        0.0   0.0 -11.202692   \n",
       "3   Costa Rica    25749.0     8248.0        0.0    17347.0   0.0   9.748917   \n",
       "4      Ecuador  1588138.0  1376606.0  1315537.0  1356194.0   0.0  -1.831239   \n",
       "\n",
       "   longitude  \n",
       "0  67.709953  \n",
       "1  20.168331  \n",
       "2  17.873887  \n",
       "3 -83.753428  \n",
       "4 -78.183406  "
      ]
     },
     "execution_count": 80,
     "metadata": {},
     "output_type": "execute_result"
    }
   ],
   "source": [
    "# Join the actb wih corordinates\n",
    "\n",
    "actb_country_latlong = pd.merge(actb_country, country_coordinates, \n",
    "                                  on='Country_Name',\n",
    "                                  #axis=1, \n",
    "                                  #join='inner',\n",
    "                                  )\n",
    "\n",
    "actb_country_latlong.head()"
   ]
  },
  {
   "cell_type": "markdown",
   "metadata": {},
   "source": [
    "# Mapbox Visualization"
   ]
  },
  {
   "cell_type": "code",
   "execution_count": 82,
   "metadata": {},
   "outputs": [
    {
     "data": {
      "application/vnd.plotly.v1+json": {
       "config": {
        "plotlyServerURL": "https://plot.ly"
       },
       "data": [
        {
         "hovertemplate": "<b>%{hovertext}</b><br><br>Country_Name=Afghanistan<br>2015=%{marker.size}<br>latitude=%{lat}<br>longitude=%{lon}<extra></extra>",
         "hovertext": [
          "Afghanistan"
         ],
         "lat": [
          33.93911
         ],
         "legendgroup": "Afghanistan",
         "lon": [
          67.709953
         ],
         "marker": {
          "color": "#636efa",
          "size": [
           141401
          ],
          "sizemode": "area",
          "sizeref": 3970.345
         },
         "mode": "markers",
         "name": "Afghanistan",
         "showlegend": true,
         "subplot": "mapbox",
         "type": "scattermapbox"
        },
        {
         "hovertemplate": "<b>%{hovertext}</b><br><br>Country_Name=Albania<br>2015=%{marker.size}<br>latitude=%{lat}<br>longitude=%{lon}<extra></extra>",
         "hovertext": [
          "Albania"
         ],
         "lat": [
          41.153332
         ],
         "legendgroup": "Albania",
         "lon": [
          20.168331
         ],
         "marker": {
          "color": "#EF553B",
          "size": [
           31184
          ],
          "sizemode": "area",
          "sizeref": 3970.345
         },
         "mode": "markers",
         "name": "Albania",
         "showlegend": true,
         "subplot": "mapbox",
         "type": "scattermapbox"
        },
        {
         "hovertemplate": "<b>%{hovertext}</b><br><br>Country_Name=Angola<br>2015=%{marker.size}<br>latitude=%{lat}<br>longitude=%{lon}<extra></extra>",
         "hovertext": [
          "Angola"
         ],
         "lat": [
          -11.202691999999999
         ],
         "legendgroup": "Angola",
         "lon": [
          17.873887
         ],
         "marker": {
          "color": "#00cc96",
          "size": [
           21919
          ],
          "sizemode": "area",
          "sizeref": 3970.345
         },
         "mode": "markers",
         "name": "Angola",
         "showlegend": true,
         "subplot": "mapbox",
         "type": "scattermapbox"
        },
        {
         "hovertemplate": "<b>%{hovertext}</b><br><br>Country_Name=Costa Rica<br>2015=%{marker.size}<br>latitude=%{lat}<br>longitude=%{lon}<extra></extra>",
         "hovertext": [
          "Costa Rica"
         ],
         "lat": [
          9.748917
         ],
         "legendgroup": "Costa Rica",
         "lon": [
          -83.753428
         ],
         "marker": {
          "color": "#ab63fa",
          "size": [
           25749
          ],
          "sizemode": "area",
          "sizeref": 3970.345
         },
         "mode": "markers",
         "name": "Costa Rica",
         "showlegend": true,
         "subplot": "mapbox",
         "type": "scattermapbox"
        },
        {
         "hovertemplate": "<b>%{hovertext}</b><br><br>Country_Name=Ecuador<br>2015=%{marker.size}<br>latitude=%{lat}<br>longitude=%{lon}<extra></extra>",
         "hovertext": [
          "Ecuador"
         ],
         "lat": [
          -1.8312389999999998
         ],
         "legendgroup": "Ecuador",
         "lon": [
          -78.183406
         ],
         "marker": {
          "color": "#FFA15A",
          "size": [
           1588138
          ],
          "sizemode": "area",
          "sizeref": 3970.345
         },
         "mode": "markers",
         "name": "Ecuador",
         "showlegend": true,
         "subplot": "mapbox",
         "type": "scattermapbox"
        },
        {
         "hovertemplate": "<b>%{hovertext}</b><br><br>Country_Name=Ethiopia<br>2015=%{marker.size}<br>latitude=%{lat}<br>longitude=%{lon}<extra></extra>",
         "hovertext": [
          "Ethiopia"
         ],
         "lat": [
          9.145
         ],
         "legendgroup": "Ethiopia",
         "lon": [
          40.489672999999996
         ],
         "marker": {
          "color": "#19d3f3",
          "size": [
           76373
          ],
          "sizemode": "area",
          "sizeref": 3970.345
         },
         "mode": "markers",
         "name": "Ethiopia",
         "showlegend": true,
         "subplot": "mapbox",
         "type": "scattermapbox"
        },
        {
         "hovertemplate": "<b>%{hovertext}</b><br><br>Country_Name=Ghana<br>2015=%{marker.size}<br>latitude=%{lat}<br>longitude=%{lon}<extra></extra>",
         "hovertext": [
          "Ghana"
         ],
         "lat": [
          7.946527000000001
         ],
         "legendgroup": "Ghana",
         "lon": [
          -1.0231940000000002
         ],
         "marker": {
          "color": "#FF6692",
          "size": [
           283353
          ],
          "sizemode": "area",
          "sizeref": 3970.345
         },
         "mode": "markers",
         "name": "Ghana",
         "showlegend": true,
         "subplot": "mapbox",
         "type": "scattermapbox"
        },
        {
         "hovertemplate": "<b>%{hovertext}</b><br><br>Country_Name=Haiti<br>2015=%{marker.size}<br>latitude=%{lat}<br>longitude=%{lon}<extra></extra>",
         "hovertext": [
          "Haiti"
         ],
         "lat": [
          18.971187
         ],
         "legendgroup": "Haiti",
         "lon": [
          -72.28521500000001
         ],
         "marker": {
          "color": "#B6E880",
          "size": [
           167683
          ],
          "sizemode": "area",
          "sizeref": 3970.345
         },
         "mode": "markers",
         "name": "Haiti",
         "showlegend": true,
         "subplot": "mapbox",
         "type": "scattermapbox"
        },
        {
         "hovertemplate": "<b>%{hovertext}</b><br><br>Country_Name=Kenya<br>2015=%{marker.size}<br>latitude=%{lat}<br>longitude=%{lon}<extra></extra>",
         "hovertext": [
          "Kenya"
         ],
         "lat": [
          -0.023559
         ],
         "legendgroup": "Kenya",
         "lon": [
          37.906193
         ],
         "marker": {
          "color": "#FF97FF",
          "size": [
           879125
          ],
          "sizemode": "area",
          "sizeref": 3970.345
         },
         "mode": "markers",
         "name": "Kenya",
         "showlegend": true,
         "subplot": "mapbox",
         "type": "scattermapbox"
        }
       ],
       "layout": {
        "autosize": true,
        "legend": {
         "itemsizing": "constant",
         "title": {
          "text": "Country_Name"
         },
         "tracegroupgap": 0
        },
        "mapbox": {
         "accesstoken": "pk.eyJ1IjoiZGVlcGFrYmhvbWthciIsImEiOiJja2c3ZGFkYzEwNjlxMnRyd3lyNnRoamN5In0.xOLsi9Ud6zfkgLIC3UtQVQ",
         "center": {
          "lat": 11.982953666666667,
          "lon": -5.677467333333336
         },
         "domain": {
          "x": [
           0,
           1
          ],
          "y": [
           0,
           1
          ]
         },
         "zoom": 1
        },
        "template": {
         "data": {
          "bar": [
           {
            "error_x": {
             "color": "#2a3f5f"
            },
            "error_y": {
             "color": "#2a3f5f"
            },
            "marker": {
             "line": {
              "color": "#E5ECF6",
              "width": 0.5
             }
            },
            "type": "bar"
           }
          ],
          "barpolar": [
           {
            "marker": {
             "line": {
              "color": "#E5ECF6",
              "width": 0.5
             }
            },
            "type": "barpolar"
           }
          ],
          "carpet": [
           {
            "aaxis": {
             "endlinecolor": "#2a3f5f",
             "gridcolor": "white",
             "linecolor": "white",
             "minorgridcolor": "white",
             "startlinecolor": "#2a3f5f"
            },
            "baxis": {
             "endlinecolor": "#2a3f5f",
             "gridcolor": "white",
             "linecolor": "white",
             "minorgridcolor": "white",
             "startlinecolor": "#2a3f5f"
            },
            "type": "carpet"
           }
          ],
          "choropleth": [
           {
            "colorbar": {
             "outlinewidth": 0,
             "ticks": ""
            },
            "type": "choropleth"
           }
          ],
          "contour": [
           {
            "colorbar": {
             "outlinewidth": 0,
             "ticks": ""
            },
            "colorscale": [
             [
              0,
              "#0d0887"
             ],
             [
              0.1111111111111111,
              "#46039f"
             ],
             [
              0.2222222222222222,
              "#7201a8"
             ],
             [
              0.3333333333333333,
              "#9c179e"
             ],
             [
              0.4444444444444444,
              "#bd3786"
             ],
             [
              0.5555555555555556,
              "#d8576b"
             ],
             [
              0.6666666666666666,
              "#ed7953"
             ],
             [
              0.7777777777777778,
              "#fb9f3a"
             ],
             [
              0.8888888888888888,
              "#fdca26"
             ],
             [
              1,
              "#f0f921"
             ]
            ],
            "type": "contour"
           }
          ],
          "contourcarpet": [
           {
            "colorbar": {
             "outlinewidth": 0,
             "ticks": ""
            },
            "type": "contourcarpet"
           }
          ],
          "heatmap": [
           {
            "colorbar": {
             "outlinewidth": 0,
             "ticks": ""
            },
            "colorscale": [
             [
              0,
              "#0d0887"
             ],
             [
              0.1111111111111111,
              "#46039f"
             ],
             [
              0.2222222222222222,
              "#7201a8"
             ],
             [
              0.3333333333333333,
              "#9c179e"
             ],
             [
              0.4444444444444444,
              "#bd3786"
             ],
             [
              0.5555555555555556,
              "#d8576b"
             ],
             [
              0.6666666666666666,
              "#ed7953"
             ],
             [
              0.7777777777777778,
              "#fb9f3a"
             ],
             [
              0.8888888888888888,
              "#fdca26"
             ],
             [
              1,
              "#f0f921"
             ]
            ],
            "type": "heatmap"
           }
          ],
          "heatmapgl": [
           {
            "colorbar": {
             "outlinewidth": 0,
             "ticks": ""
            },
            "colorscale": [
             [
              0,
              "#0d0887"
             ],
             [
              0.1111111111111111,
              "#46039f"
             ],
             [
              0.2222222222222222,
              "#7201a8"
             ],
             [
              0.3333333333333333,
              "#9c179e"
             ],
             [
              0.4444444444444444,
              "#bd3786"
             ],
             [
              0.5555555555555556,
              "#d8576b"
             ],
             [
              0.6666666666666666,
              "#ed7953"
             ],
             [
              0.7777777777777778,
              "#fb9f3a"
             ],
             [
              0.8888888888888888,
              "#fdca26"
             ],
             [
              1,
              "#f0f921"
             ]
            ],
            "type": "heatmapgl"
           }
          ],
          "histogram": [
           {
            "marker": {
             "colorbar": {
              "outlinewidth": 0,
              "ticks": ""
             }
            },
            "type": "histogram"
           }
          ],
          "histogram2d": [
           {
            "colorbar": {
             "outlinewidth": 0,
             "ticks": ""
            },
            "colorscale": [
             [
              0,
              "#0d0887"
             ],
             [
              0.1111111111111111,
              "#46039f"
             ],
             [
              0.2222222222222222,
              "#7201a8"
             ],
             [
              0.3333333333333333,
              "#9c179e"
             ],
             [
              0.4444444444444444,
              "#bd3786"
             ],
             [
              0.5555555555555556,
              "#d8576b"
             ],
             [
              0.6666666666666666,
              "#ed7953"
             ],
             [
              0.7777777777777778,
              "#fb9f3a"
             ],
             [
              0.8888888888888888,
              "#fdca26"
             ],
             [
              1,
              "#f0f921"
             ]
            ],
            "type": "histogram2d"
           }
          ],
          "histogram2dcontour": [
           {
            "colorbar": {
             "outlinewidth": 0,
             "ticks": ""
            },
            "colorscale": [
             [
              0,
              "#0d0887"
             ],
             [
              0.1111111111111111,
              "#46039f"
             ],
             [
              0.2222222222222222,
              "#7201a8"
             ],
             [
              0.3333333333333333,
              "#9c179e"
             ],
             [
              0.4444444444444444,
              "#bd3786"
             ],
             [
              0.5555555555555556,
              "#d8576b"
             ],
             [
              0.6666666666666666,
              "#ed7953"
             ],
             [
              0.7777777777777778,
              "#fb9f3a"
             ],
             [
              0.8888888888888888,
              "#fdca26"
             ],
             [
              1,
              "#f0f921"
             ]
            ],
            "type": "histogram2dcontour"
           }
          ],
          "mesh3d": [
           {
            "colorbar": {
             "outlinewidth": 0,
             "ticks": ""
            },
            "type": "mesh3d"
           }
          ],
          "parcoords": [
           {
            "line": {
             "colorbar": {
              "outlinewidth": 0,
              "ticks": ""
             }
            },
            "type": "parcoords"
           }
          ],
          "pie": [
           {
            "automargin": true,
            "type": "pie"
           }
          ],
          "scatter": [
           {
            "marker": {
             "colorbar": {
              "outlinewidth": 0,
              "ticks": ""
             }
            },
            "type": "scatter"
           }
          ],
          "scatter3d": [
           {
            "line": {
             "colorbar": {
              "outlinewidth": 0,
              "ticks": ""
             }
            },
            "marker": {
             "colorbar": {
              "outlinewidth": 0,
              "ticks": ""
             }
            },
            "type": "scatter3d"
           }
          ],
          "scattercarpet": [
           {
            "marker": {
             "colorbar": {
              "outlinewidth": 0,
              "ticks": ""
             }
            },
            "type": "scattercarpet"
           }
          ],
          "scattergeo": [
           {
            "marker": {
             "colorbar": {
              "outlinewidth": 0,
              "ticks": ""
             }
            },
            "type": "scattergeo"
           }
          ],
          "scattergl": [
           {
            "marker": {
             "colorbar": {
              "outlinewidth": 0,
              "ticks": ""
             }
            },
            "type": "scattergl"
           }
          ],
          "scattermapbox": [
           {
            "marker": {
             "colorbar": {
              "outlinewidth": 0,
              "ticks": ""
             }
            },
            "type": "scattermapbox"
           }
          ],
          "scatterpolar": [
           {
            "marker": {
             "colorbar": {
              "outlinewidth": 0,
              "ticks": ""
             }
            },
            "type": "scatterpolar"
           }
          ],
          "scatterpolargl": [
           {
            "marker": {
             "colorbar": {
              "outlinewidth": 0,
              "ticks": ""
             }
            },
            "type": "scatterpolargl"
           }
          ],
          "scatterternary": [
           {
            "marker": {
             "colorbar": {
              "outlinewidth": 0,
              "ticks": ""
             }
            },
            "type": "scatterternary"
           }
          ],
          "surface": [
           {
            "colorbar": {
             "outlinewidth": 0,
             "ticks": ""
            },
            "colorscale": [
             [
              0,
              "#0d0887"
             ],
             [
              0.1111111111111111,
              "#46039f"
             ],
             [
              0.2222222222222222,
              "#7201a8"
             ],
             [
              0.3333333333333333,
              "#9c179e"
             ],
             [
              0.4444444444444444,
              "#bd3786"
             ],
             [
              0.5555555555555556,
              "#d8576b"
             ],
             [
              0.6666666666666666,
              "#ed7953"
             ],
             [
              0.7777777777777778,
              "#fb9f3a"
             ],
             [
              0.8888888888888888,
              "#fdca26"
             ],
             [
              1,
              "#f0f921"
             ]
            ],
            "type": "surface"
           }
          ],
          "table": [
           {
            "cells": {
             "fill": {
              "color": "#EBF0F8"
             },
             "line": {
              "color": "white"
             }
            },
            "header": {
             "fill": {
              "color": "#C8D4E3"
             },
             "line": {
              "color": "white"
             }
            },
            "type": "table"
           }
          ]
         },
         "layout": {
          "annotationdefaults": {
           "arrowcolor": "#2a3f5f",
           "arrowhead": 0,
           "arrowwidth": 1
          },
          "coloraxis": {
           "colorbar": {
            "outlinewidth": 0,
            "ticks": ""
           }
          },
          "colorscale": {
           "diverging": [
            [
             0,
             "#8e0152"
            ],
            [
             0.1,
             "#c51b7d"
            ],
            [
             0.2,
             "#de77ae"
            ],
            [
             0.3,
             "#f1b6da"
            ],
            [
             0.4,
             "#fde0ef"
            ],
            [
             0.5,
             "#f7f7f7"
            ],
            [
             0.6,
             "#e6f5d0"
            ],
            [
             0.7,
             "#b8e186"
            ],
            [
             0.8,
             "#7fbc41"
            ],
            [
             0.9,
             "#4d9221"
            ],
            [
             1,
             "#276419"
            ]
           ],
           "sequential": [
            [
             0,
             "#0d0887"
            ],
            [
             0.1111111111111111,
             "#46039f"
            ],
            [
             0.2222222222222222,
             "#7201a8"
            ],
            [
             0.3333333333333333,
             "#9c179e"
            ],
            [
             0.4444444444444444,
             "#bd3786"
            ],
            [
             0.5555555555555556,
             "#d8576b"
            ],
            [
             0.6666666666666666,
             "#ed7953"
            ],
            [
             0.7777777777777778,
             "#fb9f3a"
            ],
            [
             0.8888888888888888,
             "#fdca26"
            ],
            [
             1,
             "#f0f921"
            ]
           ],
           "sequentialminus": [
            [
             0,
             "#0d0887"
            ],
            [
             0.1111111111111111,
             "#46039f"
            ],
            [
             0.2222222222222222,
             "#7201a8"
            ],
            [
             0.3333333333333333,
             "#9c179e"
            ],
            [
             0.4444444444444444,
             "#bd3786"
            ],
            [
             0.5555555555555556,
             "#d8576b"
            ],
            [
             0.6666666666666666,
             "#ed7953"
            ],
            [
             0.7777777777777778,
             "#fb9f3a"
            ],
            [
             0.8888888888888888,
             "#fdca26"
            ],
            [
             1,
             "#f0f921"
            ]
           ]
          },
          "colorway": [
           "#636efa",
           "#EF553B",
           "#00cc96",
           "#ab63fa",
           "#FFA15A",
           "#19d3f3",
           "#FF6692",
           "#B6E880",
           "#FF97FF",
           "#FECB52"
          ],
          "font": {
           "color": "#2a3f5f"
          },
          "geo": {
           "bgcolor": "white",
           "lakecolor": "white",
           "landcolor": "#E5ECF6",
           "showlakes": true,
           "showland": true,
           "subunitcolor": "white"
          },
          "hoverlabel": {
           "align": "left"
          },
          "hovermode": "closest",
          "mapbox": {
           "style": "light"
          },
          "paper_bgcolor": "white",
          "plot_bgcolor": "#E5ECF6",
          "polar": {
           "angularaxis": {
            "gridcolor": "white",
            "linecolor": "white",
            "ticks": ""
           },
           "bgcolor": "#E5ECF6",
           "radialaxis": {
            "gridcolor": "white",
            "linecolor": "white",
            "ticks": ""
           }
          },
          "scene": {
           "xaxis": {
            "backgroundcolor": "#E5ECF6",
            "gridcolor": "white",
            "gridwidth": 2,
            "linecolor": "white",
            "showbackground": true,
            "ticks": "",
            "zerolinecolor": "white"
           },
           "yaxis": {
            "backgroundcolor": "#E5ECF6",
            "gridcolor": "white",
            "gridwidth": 2,
            "linecolor": "white",
            "showbackground": true,
            "ticks": "",
            "zerolinecolor": "white"
           },
           "zaxis": {
            "backgroundcolor": "#E5ECF6",
            "gridcolor": "white",
            "gridwidth": 2,
            "linecolor": "white",
            "showbackground": true,
            "ticks": "",
            "zerolinecolor": "white"
           }
          },
          "shapedefaults": {
           "line": {
            "color": "#2a3f5f"
           }
          },
          "ternary": {
           "aaxis": {
            "gridcolor": "white",
            "linecolor": "white",
            "ticks": ""
           },
           "baxis": {
            "gridcolor": "white",
            "linecolor": "white",
            "ticks": ""
           },
           "bgcolor": "#E5ECF6",
           "caxis": {
            "gridcolor": "white",
            "linecolor": "white",
            "ticks": ""
           }
          },
          "title": {
           "x": 0.05
          },
          "xaxis": {
           "automargin": true,
           "gridcolor": "white",
           "linecolor": "white",
           "ticks": "",
           "title": {
            "standoff": 15
           },
           "zerolinecolor": "white",
           "zerolinewidth": 2
          },
          "yaxis": {
           "automargin": true,
           "gridcolor": "white",
           "linecolor": "white",
           "ticks": "",
           "title": {
            "standoff": 15
           },
           "zerolinecolor": "white",
           "zerolinewidth": 2
          }
         }
        },
        "title": {
         "text": "Average Borrowings in selected countries"
        }
       }
      },
      "image/png": "[encoded data removed]",
      "text/html": [
       "<div>                            <div id=\"1706cf3a-6e04-4d6d-9016-9237a0e12726\" class=\"plotly-graph-div\" style=\"height:525px; width:1000px;\"></div>            <script type=\"text/javascript\">                require([\"plotly\"], function(Plotly) {                    window.PLOTLYENV=window.PLOTLYENV || {};                                    if (document.getElementById(\"1706cf3a-6e04-4d6d-9016-9237a0e12726\")) {                    Plotly.newPlot(                        \"1706cf3a-6e04-4d6d-9016-9237a0e12726\",                        [{\"hovertemplate\": \"<b>%{hovertext}</b><br><br>Country_Name=Afghanistan<br>2015=%{marker.size}<br>latitude=%{lat}<br>longitude=%{lon}<extra></extra>\", \"hovertext\": [\"Afghanistan\"], \"lat\": [33.93911], \"legendgroup\": \"Afghanistan\", \"lon\": [67.709953], \"marker\": {\"color\": \"#636efa\", \"size\": [141401.0], \"sizemode\": \"area\", \"sizeref\": 3970.345}, \"mode\": \"markers\", \"name\": \"Afghanistan\", \"showlegend\": true, \"subplot\": \"mapbox\", \"type\": \"scattermapbox\"}, {\"hovertemplate\": \"<b>%{hovertext}</b><br><br>Country_Name=Albania<br>2015=%{marker.size}<br>latitude=%{lat}<br>longitude=%{lon}<extra></extra>\", \"hovertext\": [\"Albania\"], \"lat\": [41.153332], \"legendgroup\": \"Albania\", \"lon\": [20.168331], \"marker\": {\"color\": \"#EF553B\", \"size\": [31184.0], \"sizemode\": \"area\", \"sizeref\": 3970.345}, \"mode\": \"markers\", \"name\": \"Albania\", \"showlegend\": true, \"subplot\": \"mapbox\", \"type\": \"scattermapbox\"}, {\"hovertemplate\": \"<b>%{hovertext}</b><br><br>Country_Name=Angola<br>2015=%{marker.size}<br>latitude=%{lat}<br>longitude=%{lon}<extra></extra>\", \"hovertext\": [\"Angola\"], \"lat\": [-11.202691999999999], \"legendgroup\": \"Angola\", \"lon\": [17.873887], \"marker\": {\"color\": \"#00cc96\", \"size\": [21919.0], \"sizemode\": \"area\", \"sizeref\": 3970.345}, \"mode\": \"markers\", \"name\": \"Angola\", \"showlegend\": true, \"subplot\": \"mapbox\", \"type\": \"scattermapbox\"}, {\"hovertemplate\": \"<b>%{hovertext}</b><br><br>Country_Name=Costa Rica<br>2015=%{marker.size}<br>latitude=%{lat}<br>longitude=%{lon}<extra></extra>\", \"hovertext\": [\"Costa Rica\"], \"lat\": [9.748917], \"legendgroup\": \"Costa Rica\", \"lon\": [-83.753428], \"marker\": {\"color\": \"#ab63fa\", \"size\": [25749.0], \"sizemode\": \"area\", \"sizeref\": 3970.345}, \"mode\": \"markers\", \"name\": \"Costa Rica\", \"showlegend\": true, \"subplot\": \"mapbox\", \"type\": \"scattermapbox\"}, {\"hovertemplate\": \"<b>%{hovertext}</b><br><br>Country_Name=Ecuador<br>2015=%{marker.size}<br>latitude=%{lat}<br>longitude=%{lon}<extra></extra>\", \"hovertext\": [\"Ecuador\"], \"lat\": [-1.8312389999999998], \"legendgroup\": \"Ecuador\", \"lon\": [-78.183406], \"marker\": {\"color\": \"#FFA15A\", \"size\": [1588138.0], \"sizemode\": \"area\", \"sizeref\": 3970.345}, \"mode\": \"markers\", \"name\": \"Ecuador\", \"showlegend\": true, \"subplot\": \"mapbox\", \"type\": \"scattermapbox\"}, {\"hovertemplate\": \"<b>%{hovertext}</b><br><br>Country_Name=Ethiopia<br>2015=%{marker.size}<br>latitude=%{lat}<br>longitude=%{lon}<extra></extra>\", \"hovertext\": [\"Ethiopia\"], \"lat\": [9.145], \"legendgroup\": \"Ethiopia\", \"lon\": [40.489672999999996], \"marker\": {\"color\": \"#19d3f3\", \"size\": [76373.0], \"sizemode\": \"area\", \"sizeref\": 3970.345}, \"mode\": \"markers\", \"name\": \"Ethiopia\", \"showlegend\": true, \"subplot\": \"mapbox\", \"type\": \"scattermapbox\"}, {\"hovertemplate\": \"<b>%{hovertext}</b><br><br>Country_Name=Ghana<br>2015=%{marker.size}<br>latitude=%{lat}<br>longitude=%{lon}<extra></extra>\", \"hovertext\": [\"Ghana\"], \"lat\": [7.946527000000001], \"legendgroup\": \"Ghana\", \"lon\": [-1.0231940000000002], \"marker\": {\"color\": \"#FF6692\", \"size\": [283353.0], \"sizemode\": \"area\", \"sizeref\": 3970.345}, \"mode\": \"markers\", \"name\": \"Ghana\", \"showlegend\": true, \"subplot\": \"mapbox\", \"type\": \"scattermapbox\"}, {\"hovertemplate\": \"<b>%{hovertext}</b><br><br>Country_Name=Haiti<br>2015=%{marker.size}<br>latitude=%{lat}<br>longitude=%{lon}<extra></extra>\", \"hovertext\": [\"Haiti\"], \"lat\": [18.971187], \"legendgroup\": \"Haiti\", \"lon\": [-72.28521500000001], \"marker\": {\"color\": \"#B6E880\", \"size\": [167683.0], \"sizemode\": \"area\", \"sizeref\": 3970.345}, \"mode\": \"markers\", \"name\": \"Haiti\", \"showlegend\": true, \"subplot\": \"mapbox\", \"type\": \"scattermapbox\"}, {\"hovertemplate\": \"<b>%{hovertext}</b><br><br>Country_Name=Kenya<br>2015=%{marker.size}<br>latitude=%{lat}<br>longitude=%{lon}<extra></extra>\", \"hovertext\": [\"Kenya\"], \"lat\": [-0.023559], \"legendgroup\": \"Kenya\", \"lon\": [37.906193], \"marker\": {\"color\": \"#FF97FF\", \"size\": [879125.0], \"sizemode\": \"area\", \"sizeref\": 3970.345}, \"mode\": \"markers\", \"name\": \"Kenya\", \"showlegend\": true, \"subplot\": \"mapbox\", \"type\": \"scattermapbox\"}],                        {\"legend\": {\"itemsizing\": \"constant\", \"title\": {\"text\": \"Country_Name\"}, \"tracegroupgap\": 0}, \"mapbox\": {\"accesstoken\": \"pk.eyJ1IjoiZGVlcGFrYmhvbWthciIsImEiOiJja2c3ZGFkYzEwNjlxMnRyd3lyNnRoamN5In0.xOLsi9Ud6zfkgLIC3UtQVQ\", \"center\": {\"lat\": 11.982953666666667, \"lon\": -5.677467333333336}, \"domain\": {\"x\": [0.0, 1.0], \"y\": [0.0, 1.0]}, \"zoom\": 1}, \"template\": {\"data\": {\"bar\": [{\"error_x\": {\"color\": \"#2a3f5f\"}, \"error_y\": {\"color\": \"#2a3f5f\"}, \"marker\": {\"line\": {\"color\": \"#E5ECF6\", \"width\": 0.5}}, \"type\": \"bar\"}], \"barpolar\": [{\"marker\": {\"line\": {\"color\": \"#E5ECF6\", \"width\": 0.5}}, \"type\": \"barpolar\"}], \"carpet\": [{\"aaxis\": {\"endlinecolor\": \"#2a3f5f\", \"gridcolor\": \"white\", \"linecolor\": \"white\", \"minorgridcolor\": \"white\", \"startlinecolor\": \"#2a3f5f\"}, \"baxis\": {\"endlinecolor\": \"#2a3f5f\", \"gridcolor\": \"white\", \"linecolor\": \"white\", \"minorgridcolor\": \"white\", \"startlinecolor\": \"#2a3f5f\"}, \"type\": \"carpet\"}], \"choropleth\": [{\"colorbar\": {\"outlinewidth\": 0, \"ticks\": \"\"}, \"type\": \"choropleth\"}], \"contour\": [{\"colorbar\": {\"outlinewidth\": 0, \"ticks\": \"\"}, \"colorscale\": [[0.0, \"#0d0887\"], [0.1111111111111111, \"#46039f\"], [0.2222222222222222, \"#7201a8\"], [0.3333333333333333, \"#9c179e\"], [0.4444444444444444, \"#bd3786\"], [0.5555555555555556, \"#d8576b\"], [0.6666666666666666, \"#ed7953\"], [0.7777777777777778, \"#fb9f3a\"], [0.8888888888888888, \"#fdca26\"], [1.0, \"#f0f921\"]], \"type\": \"contour\"}], \"contourcarpet\": [{\"colorbar\": {\"outlinewidth\": 0, \"ticks\": \"\"}, \"type\": \"contourcarpet\"}], \"heatmap\": [{\"colorbar\": {\"outlinewidth\": 0, \"ticks\": \"\"}, \"colorscale\": [[0.0, \"#0d0887\"], [0.1111111111111111, \"#46039f\"], [0.2222222222222222, \"#7201a8\"], [0.3333333333333333, \"#9c179e\"], [0.4444444444444444, \"#bd3786\"], [0.5555555555555556, \"#d8576b\"], [0.6666666666666666, \"#ed7953\"], [0.7777777777777778, \"#fb9f3a\"], [0.8888888888888888, \"#fdca26\"], [1.0, \"#f0f921\"]], \"type\": \"heatmap\"}], \"heatmapgl\": [{\"colorbar\": {\"outlinewidth\": 0, \"ticks\": \"\"}, \"colorscale\": [[0.0, \"#0d0887\"], [0.1111111111111111, \"#46039f\"], [0.2222222222222222, \"#7201a8\"], [0.3333333333333333, \"#9c179e\"], [0.4444444444444444, \"#bd3786\"], [0.5555555555555556, \"#d8576b\"], [0.6666666666666666, \"#ed7953\"], [0.7777777777777778, \"#fb9f3a\"], [0.8888888888888888, \"#fdca26\"], [1.0, \"#f0f921\"]], \"type\": \"heatmapgl\"}], \"histogram\": [{\"marker\": {\"colorbar\": {\"outlinewidth\": 0, \"ticks\": \"\"}}, \"type\": \"histogram\"}], \"histogram2d\": [{\"colorbar\": {\"outlinewidth\": 0, \"ticks\": \"\"}, \"colorscale\": [[0.0, \"#0d0887\"], [0.1111111111111111, \"#46039f\"], [0.2222222222222222, \"#7201a8\"], [0.3333333333333333, \"#9c179e\"], [0.4444444444444444, \"#bd3786\"], [0.5555555555555556, \"#d8576b\"], [0.6666666666666666, \"#ed7953\"], [0.7777777777777778, \"#fb9f3a\"], [0.8888888888888888, \"#fdca26\"], [1.0, \"#f0f921\"]], \"type\": \"histogram2d\"}], \"histogram2dcontour\": [{\"colorbar\": {\"outlinewidth\": 0, \"ticks\": \"\"}, \"colorscale\": [[0.0, \"#0d0887\"], [0.1111111111111111, \"#46039f\"], [0.2222222222222222, \"#7201a8\"], [0.3333333333333333, \"#9c179e\"], [0.4444444444444444, \"#bd3786\"], [0.5555555555555556, \"#d8576b\"], [0.6666666666666666, \"#ed7953\"], [0.7777777777777778, \"#fb9f3a\"], [0.8888888888888888, \"#fdca26\"], [1.0, \"#f0f921\"]], \"type\": \"histogram2dcontour\"}], \"mesh3d\": [{\"colorbar\": {\"outlinewidth\": 0, \"ticks\": \"\"}, \"type\": \"mesh3d\"}], \"parcoords\": [{\"line\": {\"colorbar\": {\"outlinewidth\": 0, \"ticks\": \"\"}}, \"type\": \"parcoords\"}], \"pie\": [{\"automargin\": true, \"type\": \"pie\"}], \"scatter\": [{\"marker\": {\"colorbar\": {\"outlinewidth\": 0, \"ticks\": \"\"}}, \"type\": \"scatter\"}], \"scatter3d\": [{\"line\": {\"colorbar\": {\"outlinewidth\": 0, \"ticks\": \"\"}}, \"marker\": {\"colorbar\": {\"outlinewidth\": 0, \"ticks\": \"\"}}, \"type\": \"scatter3d\"}], \"scattercarpet\": [{\"marker\": {\"colorbar\": {\"outlinewidth\": 0, \"ticks\": \"\"}}, \"type\": \"scattercarpet\"}], \"scattergeo\": [{\"marker\": {\"colorbar\": {\"outlinewidth\": 0, \"ticks\": \"\"}}, \"type\": \"scattergeo\"}], \"scattergl\": [{\"marker\": {\"colorbar\": {\"outlinewidth\": 0, \"ticks\": \"\"}}, \"type\": \"scattergl\"}], \"scattermapbox\": [{\"marker\": {\"colorbar\": {\"outlinewidth\": 0, \"ticks\": \"\"}}, \"type\": \"scattermapbox\"}], \"scatterpolar\": [{\"marker\": {\"colorbar\": {\"outlinewidth\": 0, \"ticks\": \"\"}}, \"type\": \"scatterpolar\"}], \"scatterpolargl\": [{\"marker\": {\"colorbar\": {\"outlinewidth\": 0, \"ticks\": \"\"}}, \"type\": \"scatterpolargl\"}], \"scatterternary\": [{\"marker\": {\"colorbar\": {\"outlinewidth\": 0, \"ticks\": \"\"}}, \"type\": \"scatterternary\"}], \"surface\": [{\"colorbar\": {\"outlinewidth\": 0, \"ticks\": \"\"}, \"colorscale\": [[0.0, \"#0d0887\"], [0.1111111111111111, \"#46039f\"], [0.2222222222222222, \"#7201a8\"], [0.3333333333333333, \"#9c179e\"], [0.4444444444444444, \"#bd3786\"], [0.5555555555555556, \"#d8576b\"], [0.6666666666666666, \"#ed7953\"], [0.7777777777777778, \"#fb9f3a\"], [0.8888888888888888, \"#fdca26\"], [1.0, \"#f0f921\"]], \"type\": \"surface\"}], \"table\": [{\"cells\": {\"fill\": {\"color\": \"#EBF0F8\"}, \"line\": {\"color\": \"white\"}}, \"header\": {\"fill\": {\"color\": \"#C8D4E3\"}, \"line\": {\"color\": \"white\"}}, \"type\": \"table\"}]}, \"layout\": {\"annotationdefaults\": {\"arrowcolor\": \"#2a3f5f\", \"arrowhead\": 0, \"arrowwidth\": 1}, \"coloraxis\": {\"colorbar\": {\"outlinewidth\": 0, \"ticks\": \"\"}}, \"colorscale\": {\"diverging\": [[0, \"#8e0152\"], [0.1, \"#c51b7d\"], [0.2, \"#de77ae\"], [0.3, \"#f1b6da\"], [0.4, \"#fde0ef\"], [0.5, \"#f7f7f7\"], [0.6, \"#e6f5d0\"], [0.7, \"#b8e186\"], [0.8, \"#7fbc41\"], [0.9, \"#4d9221\"], [1, \"#276419\"]], \"sequential\": [[0.0, \"#0d0887\"], [0.1111111111111111, \"#46039f\"], [0.2222222222222222, \"#7201a8\"], [0.3333333333333333, \"#9c179e\"], [0.4444444444444444, \"#bd3786\"], [0.5555555555555556, \"#d8576b\"], [0.6666666666666666, \"#ed7953\"], [0.7777777777777778, \"#fb9f3a\"], [0.8888888888888888, \"#fdca26\"], [1.0, \"#f0f921\"]], \"sequentialminus\": [[0.0, \"#0d0887\"], [0.1111111111111111, \"#46039f\"], [0.2222222222222222, \"#7201a8\"], [0.3333333333333333, \"#9c179e\"], [0.4444444444444444, \"#bd3786\"], [0.5555555555555556, \"#d8576b\"], [0.6666666666666666, \"#ed7953\"], [0.7777777777777778, \"#fb9f3a\"], [0.8888888888888888, \"#fdca26\"], [1.0, \"#f0f921\"]]}, \"colorway\": [\"#636efa\", \"#EF553B\", \"#00cc96\", \"#ab63fa\", \"#FFA15A\", \"#19d3f3\", \"#FF6692\", \"#B6E880\", \"#FF97FF\", \"#FECB52\"], \"font\": {\"color\": \"#2a3f5f\"}, \"geo\": {\"bgcolor\": \"white\", \"lakecolor\": \"white\", \"landcolor\": \"#E5ECF6\", \"showlakes\": true, \"showland\": true, \"subunitcolor\": \"white\"}, \"hoverlabel\": {\"align\": \"left\"}, \"hovermode\": \"closest\", \"mapbox\": {\"style\": \"light\"}, \"paper_bgcolor\": \"white\", \"plot_bgcolor\": \"#E5ECF6\", \"polar\": {\"angularaxis\": {\"gridcolor\": \"white\", \"linecolor\": \"white\", \"ticks\": \"\"}, \"bgcolor\": \"#E5ECF6\", \"radialaxis\": {\"gridcolor\": \"white\", \"linecolor\": \"white\", \"ticks\": \"\"}}, \"scene\": {\"xaxis\": {\"backgroundcolor\": \"#E5ECF6\", \"gridcolor\": \"white\", \"gridwidth\": 2, \"linecolor\": \"white\", \"showbackground\": true, \"ticks\": \"\", \"zerolinecolor\": \"white\"}, \"yaxis\": {\"backgroundcolor\": \"#E5ECF6\", \"gridcolor\": \"white\", \"gridwidth\": 2, \"linecolor\": \"white\", \"showbackground\": true, \"ticks\": \"\", \"zerolinecolor\": \"white\"}, \"zaxis\": {\"backgroundcolor\": \"#E5ECF6\", \"gridcolor\": \"white\", \"gridwidth\": 2, \"linecolor\": \"white\", \"showbackground\": true, \"ticks\": \"\", \"zerolinecolor\": \"white\"}}, \"shapedefaults\": {\"line\": {\"color\": \"#2a3f5f\"}}, \"ternary\": {\"aaxis\": {\"gridcolor\": \"white\", \"linecolor\": \"white\", \"ticks\": \"\"}, \"baxis\": {\"gridcolor\": \"white\", \"linecolor\": \"white\", \"ticks\": \"\"}, \"bgcolor\": \"#E5ECF6\", \"caxis\": {\"gridcolor\": \"white\", \"linecolor\": \"white\", \"ticks\": \"\"}}, \"title\": {\"x\": 0.05}, \"xaxis\": {\"automargin\": true, \"gridcolor\": \"white\", \"linecolor\": \"white\", \"ticks\": \"\", \"title\": {\"standoff\": 15}, \"zerolinecolor\": \"white\", \"zerolinewidth\": 2}, \"yaxis\": {\"automargin\": true, \"gridcolor\": \"white\", \"linecolor\": \"white\", \"ticks\": \"\", \"title\": {\"standoff\": 15}, \"zerolinecolor\": \"white\", \"zerolinewidth\": 2}}}, \"title\": {\"text\": \"Average Borrowings in selected countries\"}, \"width\": 1000},                        {\"responsive\": true}                    ).then(function(){\n",
       "                            \n",
       "var gd = document.getElementById('1706cf3a-6e04-4d6d-9016-9237a0e12726');\n",
       "var x = new MutationObserver(function (mutations, observer) {{\n",
       "        var display = window.getComputedStyle(gd).display;\n",
       "        if (!display || display === 'none') {{\n",
       "            console.log([gd, 'removed!']);\n",
       "            Plotly.purge(gd);\n",
       "            observer.disconnect();\n",
       "        }}\n",
       "}});\n",
       "\n",
       "// Listen for the removal of the full notebook cells\n",
       "var notebookContainer = gd.closest('#notebook-container');\n",
       "if (notebookContainer) {{\n",
       "    x.observe(notebookContainer, {childList: true});\n",
       "}}\n",
       "\n",
       "// Listen for the clearing of the current output cell\n",
       "var outputEl = gd.closest('.output');\n",
       "if (outputEl) {{\n",
       "    x.observe(outputEl, {childList: true});\n",
       "}}\n",
       "\n",
       "                        })                };                });            </script>        </div>"
      ]
     },
     "metadata": {},
     "output_type": "display_data"
    }
   ],
   "source": [
    "# Create a scatter mapbox to analyze borrowing patterns globaly\n",
    "\n",
    "# Set token using Plotly Express set function\n",
    "px.set_mapbox_access_token(mapbox_token)\n",
    "\n",
    "def get_borrowing_plot():\n",
    "    borrowing_plot = px.scatter_mapbox(\n",
    "        actb_country_latlong,\n",
    "        lat=\"latitude\",\n",
    "        lon=\"longitude\",\n",
    "        size=\"2015\",\n",
    "        hover_name=\"Country_Name\",\n",
    "        color=\"Country_Name\",\n",
    "        color_continuous_scale=px.colors.cyclical.IceFire,\n",
    "        title=\"Average Borrowings in selected countries\",\n",
    "        zoom=1,\n",
    "        width=1000,\n",
    "    )\n",
    "    return borrowing_plot\n",
    "\n",
    "get_borrowing_plot()"
   ]
  },
  {
   "cell_type": "code",
   "execution_count": null,
   "metadata": {},
   "outputs": [],
   "source": []
  }
 ],
 "metadata": {
  "kernelspec": {
   "display_name": "Python [conda env:pyvizenv] *",
   "language": "python",
   "name": "conda-env-pyvizenv-py"
  },
  "language_info": {
   "codemirror_mode": {
    "name": "ipython",
    "version": 3
   },
   "file_extension": ".py",
   "mimetype": "text/x-python",
   "name": "python",
   "nbconvert_exporter": "python",
   "pygments_lexer": "ipython3",
   "version": "3.7.7"
  }
 },
 "nbformat": 4,
 "nbformat_minor": 4
}
